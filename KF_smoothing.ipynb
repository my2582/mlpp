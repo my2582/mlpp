{
 "cells": [
  {
   "cell_type": "markdown",
   "metadata": {},
   "source": [
    "# 1. Import packages"
   ]
  },
  {
   "cell_type": "code",
   "execution_count": 1,
   "metadata": {
    "ExecuteTime": {
     "end_time": "2019-11-19T22:28:35.870623Z",
     "start_time": "2019-11-19T22:28:34.904948Z"
    }
   },
   "outputs": [],
   "source": [
    "import os\n",
    "import numpy as np\n",
    "import pandas as pd\n",
    "\n",
    "import matplotlib.pyplot as plt"
   ]
  },
  {
   "cell_type": "markdown",
   "metadata": {},
   "source": [
    "# 2. Loading a pre-processed data set"
   ]
  },
  {
   "cell_type": "code",
   "execution_count": 2,
   "metadata": {
    "ExecuteTime": {
     "end_time": "2019-11-19T22:28:35.915298Z",
     "start_time": "2019-11-19T22:28:35.873529Z"
    }
   },
   "outputs": [],
   "source": [
    "path = './dataset/toyset/'\n",
    "filename = 'processed_toyset.csv'\n",
    "df = pd.read_csv(path + filename)"
   ]
  },
  {
   "cell_type": "markdown",
   "metadata": {},
   "source": [
    "#### Define dataset row/column sizes to begin with"
   ]
  },
  {
   "cell_type": "code",
   "execution_count": 3,
   "metadata": {
    "ExecuteTime": {
     "end_time": "2019-11-19T22:28:35.927015Z",
     "start_time": "2019-11-19T22:28:35.918962Z"
    }
   },
   "outputs": [],
   "source": [
    "df.loc[:, 'gbpusd'] = df.loc[:, 'gbpusd']*100\n",
    "df.loc[:, 'gbpjpy'] = df.loc[:, 'gbpjpy']*100\n",
    "df.loc[:, 'usdjpy'] = df.loc[:, 'usdjpy']*100"
   ]
  },
  {
   "cell_type": "code",
   "execution_count": 4,
   "metadata": {
    "ExecuteTime": {
     "end_time": "2019-11-19T22:28:35.931754Z",
     "start_time": "2019-11-19T22:28:35.929187Z"
    }
   },
   "outputs": [],
   "source": [
    "nrow = 3\n",
    "ncol = 3"
   ]
  },
  {
   "cell_type": "code",
   "execution_count": 5,
   "metadata": {
    "ExecuteTime": {
     "end_time": "2019-11-19T22:28:35.937559Z",
     "start_time": "2019-11-19T22:28:35.934158Z"
    }
   },
   "outputs": [],
   "source": [
    "proc_covar = 0.0001**2*np.identity(nrow)\n",
    "post_covar = proc_covar\n",
    "meas_covar = 0.0003**2*np.identity(nrow)\n",
    "pred_covar = meas_covar\n",
    "ident = np.identity(nrow)"
   ]
  },
  {
   "cell_type": "code",
   "execution_count": 6,
   "metadata": {
    "ExecuteTime": {
     "end_time": "2019-11-19T22:28:35.947814Z",
     "start_time": "2019-11-19T22:28:35.939921Z"
    }
   },
   "outputs": [],
   "source": [
    "state_old = np.ones((3, 1), dtype=np.float64)\n",
    "emit_mat = np.array([[1., -1, 0.],\n",
    "                     [1.,  0, -1.],\n",
    "                     [0., -1., 1.],\n",
    "                     ], dtype=np.float64)\n",
    "obs_mat = df.drop(['timestamp', 'time_gap'], axis=1)\n",
    "obs_mat = obs_mat.to_numpy()\n",
    "time_gap = df.time_gap.to_numpy().reshape(-1, 1)\n",
    "\n",
    "latent_states = np.empty(shape=(df.shape[0], nrow), dtype=np.float64)\n",
    "predicted_obs = np.empty(shape=(df.shape[0], nrow), dtype=np.float64)"
   ]
  },
  {
   "cell_type": "code",
   "execution_count": 40,
   "metadata": {
    "ExecuteTime": {
     "end_time": "2019-11-19T23:59:53.636808Z",
     "start_time": "2019-11-19T23:59:53.632299Z"
    }
   },
   "outputs": [],
   "source": []
  },
  {
   "cell_type": "markdown",
   "metadata": {},
   "source": [
    "## Kalman updates"
   ]
  },
  {
   "cell_type": "markdown",
   "metadata": {},
   "source": [
    "#### Assumptions:\n",
    "- the order of measurements is GBPJPY, GBPUSD, USDJPY.\n",
    "- the order of latent variables is GBP, JPY, USD."
   ]
  },
  {
   "cell_type": "code",
   "execution_count": 7,
   "metadata": {
    "ExecuteTime": {
     "end_time": "2019-11-19T22:28:35.954979Z",
     "start_time": "2019-11-19T22:28:35.952475Z"
    }
   },
   "outputs": [],
   "source": [
    "ccy_list = ['gbpjpy', 'gbpusd', 'usdjpy']\n",
    "latent_cols = ['GBP', 'JPY', 'USD']"
   ]
  },
  {
   "cell_type": "code",
   "execution_count": 8,
   "metadata": {
    "ExecuteTime": {
     "end_time": "2019-11-19T22:28:38.045733Z",
     "start_time": "2019-11-19T22:28:35.958814Z"
    }
   },
   "outputs": [],
   "source": [
    "for i in range(df.shape[0]):\n",
    "    post_covar = post_covar + time_gap[i]*proc_covar\n",
    "\n",
    "    # obs_mat[i,:] is a (3,) vector. So, we need flatten() to match\n",
    "    innovation = obs_mat[i, :] - (emit_mat@state_old).flatten()\n",
    "    innovation_covar = emit_mat@post_covar@(emit_mat.T) + meas_covar\n",
    "    kalman_gain = post_covar@(emit_mat.T)@np.linalg.inv(innovation_covar)\n",
    "\n",
    "    # We transpose (kalman_gain@innovation) from (3,) to (3,1)\n",
    "    state_new = state_old + (kalman_gain@innovation).reshape(-1, 1)\n",
    "    post_covar = (ident - kalman_gain@emit_mat)@post_covar\n",
    "    predicted_obs[i] = (emit_mat@state_new).T\n",
    "    latent_states[i] - state_new.T\n",
    "    state_old = state_new"
   ]
  },
  {
   "cell_type": "markdown",
   "metadata": {},
   "source": [
    "#### Remove the oldest timestamp and shift each row upward by one row.\n",
    "- e.g. If the raw dataset starts from 2019-05-01 00:00:00 at 0th element, predictions would start from 2019-05-01 00:00:01 at 0th element instead ('lead' by one minute)"
   ]
  },
  {
   "cell_type": "code",
   "execution_count": 9,
   "metadata": {
    "ExecuteTime": {
     "end_time": "2019-11-19T22:28:38.058021Z",
     "start_time": "2019-11-19T22:28:38.047837Z"
    }
   },
   "outputs": [],
   "source": [
    "new_idx = df.timestamp.shift(-1).to_numpy().reshape(-1, 1)\n",
    "predictions = np.hstack((new_idx, predicted_obs))\n",
    "latent_estimates = np.hstack((new_idx, latent_states))"
   ]
  },
  {
   "cell_type": "code",
   "execution_count": 10,
   "metadata": {
    "ExecuteTime": {
     "end_time": "2019-11-19T22:28:38.065091Z",
     "start_time": "2019-11-19T22:28:38.060140Z"
    }
   },
   "outputs": [],
   "source": [
    "assert predictions.shape[0] == predicted_obs.shape[0], \"We have some data loss.\"\n",
    "assert latent_estimates.shape[0] == latent_states.shape[0], \"We have some data loss.\""
   ]
  },
  {
   "cell_type": "markdown",
   "metadata": {},
   "source": [
    "#### Convert arrays to DataFrame instances"
   ]
  },
  {
   "cell_type": "code",
   "execution_count": 11,
   "metadata": {
    "ExecuteTime": {
     "end_time": "2019-11-19T22:28:38.080624Z",
     "start_time": "2019-11-19T22:28:38.067621Z"
    }
   },
   "outputs": [],
   "source": [
    "predictions = pd.DataFrame(predictions, columns=['timestamp'] + ccy_list)\n",
    "latent_estimates = pd.DataFrame(latent_estimates,\n",
    "                                columns=['timestampe'] + latent_cols)"
   ]
  },
  {
   "cell_type": "markdown",
   "metadata": {},
   "source": [
    "## How good are the predictions?"
   ]
  },
  {
   "cell_type": "code",
   "execution_count": null,
   "metadata": {},
   "outputs": [],
   "source": []
  },
  {
   "cell_type": "code",
   "execution_count": null,
   "metadata": {},
   "outputs": [],
   "source": []
  },
  {
   "cell_type": "code",
   "execution_count": null,
   "metadata": {},
   "outputs": [],
   "source": []
  },
  {
   "cell_type": "markdown",
   "metadata": {},
   "source": [
    "#### It's worse than the baseline. Let's see what's going on:"
   ]
  },
  {
   "cell_type": "code",
   "execution_count": null,
   "metadata": {},
   "outputs": [],
   "source": []
  },
  {
   "cell_type": "code",
   "execution_count": null,
   "metadata": {},
   "outputs": [],
   "source": []
  },
  {
   "cell_type": "code",
   "execution_count": null,
   "metadata": {},
   "outputs": [],
   "source": []
  },
  {
   "cell_type": "code",
   "execution_count": null,
   "metadata": {},
   "outputs": [],
   "source": []
  },
  {
   "cell_type": "markdown",
   "metadata": {},
   "source": [
    "As we expected, currency exchange rates are extremely volatile, and our naive approach fails. Then again, the covariance matrices are not estimated in this case, and there may be a setting that works better. But on the bright side, the graph of currency intrinsic values is really neat:"
   ]
  },
  {
   "cell_type": "code",
   "execution_count": null,
   "metadata": {},
   "outputs": [],
   "source": []
  },
  {
   "cell_type": "code",
   "execution_count": null,
   "metadata": {},
   "outputs": [],
   "source": []
  },
  {
   "cell_type": "code",
   "execution_count": null,
   "metadata": {},
   "outputs": [],
   "source": []
  },
  {
   "cell_type": "code",
   "execution_count": null,
   "metadata": {},
   "outputs": [],
   "source": []
  },
  {
   "cell_type": "code",
   "execution_count": null,
   "metadata": {},
   "outputs": [],
   "source": []
  },
  {
   "cell_type": "markdown",
   "metadata": {},
   "source": [
    "## Parameter Estimation: EM"
   ]
  },
  {
   "cell_type": "markdown",
   "metadata": {
    "ExecuteTime": {
     "end_time": "2019-11-17T04:45:16.755449Z",
     "start_time": "2019-11-17T04:45:16.744285Z"
    }
   },
   "source": [
    "So the goal of the project is to build an adaptive Kalman Filter. However, the problem is impossible at our current level, so we have to do a middle ground. A Kalman Smoother allows us to estimate the covariance matrices through the EM algorithm, but it requires using future data to predict the past. By combining a Kalman Smoother with PSIS detailed in the next section, we construct an algorithm to do filtering in a heuristic fashion."
   ]
  },
  {
   "cell_type": "markdown",
   "metadata": {},
   "source": [
    "### E step\n",
    "- The forward pass propagates through the system, given fixed covariance matrices.\n",
    "- It outputs both the predicted states and the predicted measurements."
   ]
  },
  {
   "cell_type": "code",
   "execution_count": 12,
   "metadata": {
    "ExecuteTime": {
     "end_time": "2019-11-19T22:28:38.106713Z",
     "start_time": "2019-11-19T22:28:38.083832Z"
    }
   },
   "outputs": [],
   "source": [
    "def forward_pass(data, initial_state, emit_mat, meas_covar, proc_covar, post_covar):\n",
    "    '''\n",
    "    Parameters:\n",
    "      data(DataFrame, ): a (batch) dataset\n",
    "    '''\n",
    "    if type(data) == pd.core.series.Series:\n",
    "        obs_mat = data[1:-1]\n",
    "        obs_mat = obs_mat.to_numpy().reshape(1, -1)\n",
    "        time_gap = np.array(data[-1]).reshape(-1, 1)\n",
    "        data_nrow = 1\n",
    "        new_idx = np.datetime64(data.timestamp) + np.timedelta64(data[-1], 'm')\n",
    "        new_idx = np.array(str(new_idx)).reshape(-1, 1)\n",
    "    else:\n",
    "        obs_mat = data.drop(['timestamp', 'time_gap'], axis=1)\n",
    "        obs_mat = obs_mat.to_numpy()\n",
    "        time_gap = data.time_gap.to_numpy().reshape(-1, 1)\n",
    "        data_nrow = data.shape[0]\n",
    "        new_idx = data.timestamp.shift(-1).to_numpy().reshape(-1, 1)\n",
    "\n",
    "    latent_states = np.empty((data_nrow, nrow))\n",
    "    predicted_obs = np.empty((data_nrow, nrow))\n",
    "\n",
    "    state_old = initial_state[1:-\n",
    "                              1] if initial_state.shape[0] > nrow else initial_state\n",
    "\n",
    "    for i in range(data_nrow):\n",
    "        # post_covar = post_covar + time_gap.flatten()[i]*proc_covar\n",
    "        post_covar = post_covar + time_gap.flatten()[i]*proc_covar\n",
    "\n",
    "        # obs_mat[i,:] is a (3,) vector. So, we need flatten() to match\n",
    "        innovation = obs_mat[i, :] - (emit_mat@state_old).flatten()\n",
    "        innovation_covar = emit_mat@post_covar@(emit_mat.T) + meas_covar\n",
    "        try:\n",
    "            kalman_gain = post_covar@(emit_mat.T)@(\n",
    "                np.linalg.inv(innovation_covar).astype(np.float64))\n",
    "        except:\n",
    "            print(i, 'error at  kalman')\n",
    "            print('post_covar', post_covar, 'dtype', post_covar.dtype)\n",
    "            print('emit_mat.T', emit_mat.T, 'dtype', emit_mat.dtype)\n",
    "            print('innovation_covar', innovation_covar,\n",
    "                  'dtype', innovation_covar.dtype)\n",
    "            print('np.linalg.inv(innovation_covar)',\n",
    "                  np.linalg.inv(innovation_covar))\n",
    "\n",
    "        # We transpose (kalman_gain@innovation) from (3,) to (3,1)\n",
    "        state_new = state_old.reshape(-1, 1) + \\\n",
    "            (kalman_gain@innovation).reshape(-1, 1)\n",
    "        post_covar = (ident - kalman_gain@emit_mat)@post_covar\n",
    "        predicted_obs[i] = (emit_mat@state_new).T\n",
    "        latent_states[i] = state_new.T\n",
    "        state_old = state_new\n",
    "\n",
    "    predicted_obs = np.array(predicted_obs)\n",
    "    latent_states = np.array(latent_states)\n",
    "    predictions = np.hstack((new_idx, predicted_obs))\n",
    "    predictions = np.hstack((predictions, time_gap))\n",
    "    latent_estimates = np.hstack((new_idx, latent_states))\n",
    "    latent_estimates = np.hstack((latent_estimates, time_gap))\n",
    "\n",
    "    return predictions, latent_estimates, post_covar, innovation_covar"
   ]
  },
  {
   "cell_type": "markdown",
   "metadata": {},
   "source": [
    "A helper function."
   ]
  },
  {
   "cell_type": "code",
   "execution_count": 13,
   "metadata": {
    "ExecuteTime": {
     "end_time": "2019-11-19T22:28:38.113834Z",
     "start_time": "2019-11-19T22:28:38.109106Z"
    }
   },
   "outputs": [],
   "source": [
    "def shift(xs, n):\n",
    "    e = np.empty_like(xs)\n",
    "    if n >= 0:\n",
    "        e[:n] = np.nan\n",
    "        e[n:] = xs[:-n]\n",
    "    else:\n",
    "        e[n:] = np.nan\n",
    "        e[:n] = xs[-n:]\n",
    "    return e"
   ]
  },
  {
   "cell_type": "markdown",
   "metadata": {},
   "source": [
    "### M step"
   ]
  },
  {
   "cell_type": "code",
   "execution_count": 14,
   "metadata": {
    "ExecuteTime": {
     "end_time": "2019-11-19T22:28:38.129396Z",
     "start_time": "2019-11-19T22:28:38.117159Z"
    }
   },
   "outputs": [],
   "source": [
    "def update_proc_scale(latent_estimates):\n",
    "    '''\n",
    "    Takes the scale matrix of the propagated states.\n",
    "    But we have to take into account the uneven time gaps.\n",
    "    '''\n",
    "\n",
    "    latent_estimates = latent_estimates[:-1, :]  # drop nan\n",
    "    time_gap_rep = np.repeat(\n",
    "        latent_estimates[:, -1].astype(np.float64), repeats=nrow).reshape(-1, nrow)\n",
    "    latent_estimates = latent_estimates[:, 1:-1]\n",
    "    latent_estimates = (\n",
    "        latent_estimates - shift(latent_estimates, 1)).astype(np.float64) / time_gap_rep\n",
    "    latent_estimates = latent_estimates[~np.isnan(\n",
    "        latent_estimates)].reshape(-1, nrow)    # drop nan\n",
    "\n",
    "    proc_scale = (latent_estimates.T)@latent_estimates\n",
    "\n",
    "    return proc_scale\n",
    "\n",
    "\n",
    "def update_meas_scale(pred, obs):\n",
    "    '''\n",
    "    Gets us the observed scale matrix through (biased) MLE.\n",
    "    The debiasing is done by supplying the correct df to the invWishart\n",
    "    '''\n",
    "    pred = pred[~pd.isna(pred[:, 0]), :]\n",
    "    obs_timestamp = obs['timestamp'].dropna(how='any').to_numpy()\n",
    "    unique_timestamp = np.union1d(pred[:, 0], obs_timestamp)\n",
    "\n",
    "    pred_mat = pred[np.isin(pred[:, 0], unique_timestamp)]\n",
    "    obs_mat = obs[np.isin(obs_timestamp, unique_timestamp)]\n",
    "\n",
    "    # Convert np to dataframe\n",
    "    pred_mat = pd.DataFrame(\n",
    "        pred_mat, columns=['timestamp'] + ccy_list + ['time_gap'])\n",
    "    obs_pred_mat = pd.merge(left=obs_mat, right=pred_mat,\n",
    "                            how='inner', on='timestamp', suffixes=('_obs', '_pred'))\n",
    "\n",
    "    ccy_list_obs = [ccy+'_obs' for ccy in ccy_list]\n",
    "    ccy_list_pred = [ccy+'_pred' for ccy in ccy_list]\n",
    "\n",
    "    error_mat = np.array(obs_pred_mat[ccy_list_pred], dtype=float) - \\\n",
    "        np.array(obs_pred_mat[ccy_list_obs], dtype=float)\n",
    "    return (error_mat.T)@error_mat"
   ]
  },
  {
   "cell_type": "code",
   "execution_count": null,
   "metadata": {},
   "outputs": [],
   "source": [
    "predicted_measurements, states,\\\n",
    "    ps_covar, innovation_covar = \\\n",
    "    forward_pass(data=data, initial_state=prior_state,\n",
    "                 emit_mat=emit_mat,\n",
    "                 meas_covar=prior_meas_scale/prior_meas_df,\n",
    "                 proc_covar=prior_proc_scale/prior_proc_df,\n",
    "                 post_covar=post_covar)"
   ]
  },
  {
   "cell_type": "markdown",
   "metadata": {},
   "source": [
    "### EM (Kalman smoother)"
   ]
  },
  {
   "cell_type": "code",
   "execution_count": 15,
   "metadata": {
    "ExecuteTime": {
     "end_time": "2019-11-19T22:28:38.143991Z",
     "start_time": "2019-11-19T22:28:38.131996Z"
    }
   },
   "outputs": [],
   "source": [
    "def kalman_smoother(data, prior_state, emit_mat, post_covar, prior_meas_df, prior_meas_scale, prior_proc_df, prior_proc_scale):\n",
    "    '''\n",
    "    Runs the smoother on a time block through EM\n",
    "    '''\n",
    "    nrow_data = data.shape[0]\n",
    "    predicted_measurements, states, ps_covar, \\\n",
    "        innovation_covar = forward_pass(data=data, initial_state=prior_state,\n",
    "                                        emit_mat=emit_mat, meas_covar=prior_meas_scale/prior_meas_df,\n",
    "                                        proc_covar=prior_proc_scale/prior_proc_df,\n",
    "                                        post_covar=post_covar)\n",
    "\n",
    "    post_proc_scale = update_proc_scale(states)\n",
    "    post_meas_scale = update_meas_scale(pred=predicted_measurements, obs=data)\n",
    "\n",
    "    old_proc_scale = post_proc_scale*2\n",
    "    old_meas_scale = post_meas_scale*2\n",
    "\n",
    "    while np.sqrt(np.sum(((old_proc_scale - post_proc_scale)/nrow_data)**2) +\n",
    "                  np.sum(((old_meas_scale-post_meas_scale)/nrow_data)**2)) > 10**(-9):\n",
    "\n",
    "        print(np.sqrt(np.sum(((old_proc_scale - post_proc_scale)/nrow_data)**2) +\n",
    "                      np.sum(((old_meas_scale-post_meas_scale)/nrow_data)**2)))\n",
    "\n",
    "        old_meas_scale = post_meas_scale\n",
    "        old_proc_scale = post_proc_scale\n",
    "\n",
    "        predicted_measurements, states, ps_covar, \\\n",
    "            innovation_covar = forward_pass(data=data, initial_state=prior_state,\n",
    "                                            emit_mat=emit_mat,\n",
    "                                            meas_covar=post_meas_scale/nrow_data,\n",
    "                                            proc_covar=post_proc_scale/nrow_data,\n",
    "                                            post_covar=post_covar)\n",
    "\n",
    "        post_proc_scale = update_proc_scale(states)\n",
    "        post_meas_scale = update_meas_scale(\n",
    "            pred=predicted_measurements, obs=data)\n",
    "\n",
    "    post_proc_df = prior_proc_df + nrow_data\n",
    "    post_meas_df = prior_meas_df + nrow_data\n",
    "\n",
    "    result = {\n",
    "        'input_data': data,\n",
    "        'states': states,\n",
    "        'predicted_measurements': predicted_measurements,\n",
    "        'post_meas_df': post_meas_df,\n",
    "        'post_meas_scale': prior_meas_scale + post_meas_scale,\n",
    "        'post_proc_df': post_proc_df,\n",
    "        'post_proc_scale': prior_proc_scale + post_proc_scale,\n",
    "        'post_covar': ps_covar,\n",
    "        'innovation_covar': innovation_covar\n",
    "    }\n",
    "\n",
    "    return result"
   ]
  },
  {
   "cell_type": "code",
   "execution_count": 16,
   "metadata": {
    "ExecuteTime": {
     "end_time": "2019-11-19T22:28:38.164670Z",
     "start_time": "2019-11-19T22:28:38.146833Z"
    }
   },
   "outputs": [],
   "source": [
    "training = df.loc[10000:11999, :]\n",
    "\n",
    "forward_predictions, forward_states, \\\n",
    "    forward_post_covar, forward_innoation_covar = forward_pass(data=training[:100],\n",
    "                                                               initial_state=np.array(\n",
    "        [270, -220, 250]),\n",
    "        emit_mat=emit_mat,\n",
    "        meas_covar=1 *\n",
    "        np.identity(\n",
    "        nrow),\n",
    "        proc_covar=0.01 *\n",
    "        np.identity(\n",
    "        nrow),\n",
    "        post_covar=0.01*np.identity(nrow))"
   ]
  },
  {
   "cell_type": "code",
   "execution_count": 17,
   "metadata": {
    "ExecuteTime": {
     "end_time": "2019-11-19T22:28:38.174179Z",
     "start_time": "2019-11-19T22:28:38.167695Z"
    }
   },
   "outputs": [],
   "source": [
    "# Convert to pandas Data Frame\n",
    "forward_predictions = pd.DataFrame(forward_predictions,\n",
    "                                   columns=['timestamp'] + ccy_list + ['time_gap'])"
   ]
  },
  {
   "cell_type": "code",
   "execution_count": 113,
   "metadata": {
    "ExecuteTime": {
     "end_time": "2019-11-20T00:26:20.560060Z",
     "start_time": "2019-11-20T00:26:20.551808Z"
    }
   },
   "outputs": [],
   "source": [
    "# Code: https://stackoverflow.com/questions/11640243/pandas-plot-multiple-y-axes\n",
    "def plot_multi(data, cols=None, spacing=.1, **kwargs):\n",
    "\n",
    "    from pandas import plotting\n",
    "\n",
    "    # Get default color style from pandas - can be changed to any other color list\n",
    "    if cols is None:\n",
    "        cols = data.columns\n",
    "    if len(cols) == 0:\n",
    "        return\n",
    "    colors = getattr(getattr(plotting, '_matplotlib').style,\n",
    "                     '_get_standard_colors')(num_colors=len(cols))\n",
    "\n",
    "    # First axis\n",
    "    ax = data.loc[:, cols[0]].plot(label=cols[0], color=colors[0], **kwargs)\n",
    "#     ax.set_ylabel(ylabel=cols[0])\n",
    "    ax.tick_params(axis='y', colors=colors[0])\n",
    "    lines, labels = ax.get_legend_handles_labels()\n",
    "\n",
    "#     for n in range(1, len(cols)):\n",
    "#         # Multiple y-axes\n",
    "#         ax_new = ax.twinx()\n",
    "#         ax_new.spines['right'].set_position(('axes', 1 + spacing * (n - 1)))\n",
    "#         data.loc[:, cols[n]].plot(ax=ax_new, label=cols[n], color=colors[n % len(colors)])\n",
    "#         ax_new.set_ylabel(ylabel=cols[n])\n",
    "#         ax_new.tick_params(axis='y', colors=colors[n % len(colors)])\n",
    "\n",
    "#         # Proper legend position\n",
    "#         line, label = ax_new.get_legend_handles_labels()\n",
    "#         lines += line\n",
    "#         labels += label\n",
    "\n",
    "    for n in range(1, len(cols)):\n",
    "        # Multiple y-axes\n",
    "        ax.set_ylabel(ylabel=cols[n])\n",
    "        ax.spines['right'].set_position(('axes', 1 + spacing * (n - 1)))\n",
    "        data.loc[:, cols[n]].plot(\n",
    "            ax=ax, label=cols[n], color=colors[n % len(colors)])\n",
    "        ax.tick_params(axis='y', colors=colors[n % len(colors)])\n",
    "\n",
    "        # Proper legend position\n",
    "        line, label = ax.get_legend_handles_labels()\n",
    "        lines += line\n",
    "        labels += label\n",
    "\n",
    "    ax.legend(lines, labels, loc=0)\n",
    "    return ax"
   ]
  },
  {
   "cell_type": "code",
   "execution_count": 117,
   "metadata": {
    "ExecuteTime": {
     "end_time": "2019-11-20T00:28:32.101994Z",
     "start_time": "2019-11-20T00:28:32.097997Z"
    }
   },
   "outputs": [],
   "source": [
    "gbpusd_dict = {'gbpusd(pred)': forward_predictions.iloc[20:100, 1].to_numpy(),\n",
    "               'gbpusd(training)': training.iloc[20:100, 1].to_numpy()}"
   ]
  },
  {
   "cell_type": "code",
   "execution_count": 123,
   "metadata": {
    "ExecuteTime": {
     "end_time": "2019-11-20T00:30:28.305001Z",
     "start_time": "2019-11-20T00:30:28.292836Z"
    }
   },
   "outputs": [
    {
     "data": {
      "text/html": [
       "<div>\n",
       "<style scoped>\n",
       "    .dataframe tbody tr th:only-of-type {\n",
       "        vertical-align: middle;\n",
       "    }\n",
       "\n",
       "    .dataframe tbody tr th {\n",
       "        vertical-align: top;\n",
       "    }\n",
       "\n",
       "    .dataframe thead th {\n",
       "        text-align: right;\n",
       "    }\n",
       "</style>\n",
       "<table border=\"1\" class=\"dataframe\">\n",
       "  <thead>\n",
       "    <tr style=\"text-align: right;\">\n",
       "      <th></th>\n",
       "      <th>timestamp</th>\n",
       "      <th>gbpjpy</th>\n",
       "      <th>gbpusd</th>\n",
       "      <th>usdjpy</th>\n",
       "      <th>time_gap</th>\n",
       "    </tr>\n",
       "  </thead>\n",
       "  <tbody>\n",
       "    <tr>\n",
       "      <th>0</th>\n",
       "      <td>2019-05-09 17:41:00</td>\n",
       "      <td>490.358</td>\n",
       "      <td>20.3608</td>\n",
       "      <td>469.997</td>\n",
       "      <td>1</td>\n",
       "    </tr>\n",
       "    <tr>\n",
       "      <th>1</th>\n",
       "      <td>2019-05-09 17:42:00</td>\n",
       "      <td>490.831</td>\n",
       "      <td>20.8395</td>\n",
       "      <td>469.991</td>\n",
       "      <td>1</td>\n",
       "    </tr>\n",
       "    <tr>\n",
       "      <th>2</th>\n",
       "      <td>2019-05-09 17:43:00</td>\n",
       "      <td>491.365</td>\n",
       "      <td>21.3849</td>\n",
       "      <td>469.98</td>\n",
       "      <td>1</td>\n",
       "    </tr>\n",
       "    <tr>\n",
       "      <th>3</th>\n",
       "      <td>2019-05-09 17:44:00</td>\n",
       "      <td>491.914</td>\n",
       "      <td>21.9537</td>\n",
       "      <td>469.96</td>\n",
       "      <td>1</td>\n",
       "    </tr>\n",
       "    <tr>\n",
       "      <th>4</th>\n",
       "      <td>2019-05-09 17:45:00</td>\n",
       "      <td>492.451</td>\n",
       "      <td>22.5106</td>\n",
       "      <td>469.941</td>\n",
       "      <td>1</td>\n",
       "    </tr>\n",
       "    <tr>\n",
       "      <th>...</th>\n",
       "      <td>...</td>\n",
       "      <td>...</td>\n",
       "      <td>...</td>\n",
       "      <td>...</td>\n",
       "      <td>...</td>\n",
       "    </tr>\n",
       "    <tr>\n",
       "      <th>95</th>\n",
       "      <td>2019-05-09 19:16:00</td>\n",
       "      <td>496.252</td>\n",
       "      <td>26.4709</td>\n",
       "      <td>469.781</td>\n",
       "      <td>1</td>\n",
       "    </tr>\n",
       "    <tr>\n",
       "      <th>96</th>\n",
       "      <td>2019-05-09 19:17:00</td>\n",
       "      <td>496.25</td>\n",
       "      <td>26.4686</td>\n",
       "      <td>469.781</td>\n",
       "      <td>1</td>\n",
       "    </tr>\n",
       "    <tr>\n",
       "      <th>97</th>\n",
       "      <td>2019-05-09 19:18:00</td>\n",
       "      <td>496.247</td>\n",
       "      <td>26.4661</td>\n",
       "      <td>469.781</td>\n",
       "      <td>1</td>\n",
       "    </tr>\n",
       "    <tr>\n",
       "      <th>98</th>\n",
       "      <td>2019-05-09 19:19:00</td>\n",
       "      <td>496.246</td>\n",
       "      <td>26.4645</td>\n",
       "      <td>469.782</td>\n",
       "      <td>1</td>\n",
       "    </tr>\n",
       "    <tr>\n",
       "      <th>99</th>\n",
       "      <td>NaN</td>\n",
       "      <td>496.245</td>\n",
       "      <td>26.4648</td>\n",
       "      <td>469.781</td>\n",
       "      <td>1</td>\n",
       "    </tr>\n",
       "  </tbody>\n",
       "</table>\n",
       "<p>100 rows × 5 columns</p>\n",
       "</div>"
      ],
      "text/plain": [
       "              timestamp   gbpjpy   gbpusd   usdjpy time_gap\n",
       "0   2019-05-09 17:41:00  490.358  20.3608  469.997        1\n",
       "1   2019-05-09 17:42:00  490.831  20.8395  469.991        1\n",
       "2   2019-05-09 17:43:00  491.365  21.3849   469.98        1\n",
       "3   2019-05-09 17:44:00  491.914  21.9537   469.96        1\n",
       "4   2019-05-09 17:45:00  492.451  22.5106  469.941        1\n",
       "..                  ...      ...      ...      ...      ...\n",
       "95  2019-05-09 19:16:00  496.252  26.4709  469.781        1\n",
       "96  2019-05-09 19:17:00   496.25  26.4686  469.781        1\n",
       "97  2019-05-09 19:18:00  496.247  26.4661  469.781        1\n",
       "98  2019-05-09 19:19:00  496.246  26.4645  469.782        1\n",
       "99                  NaN  496.245  26.4648  469.781        1\n",
       "\n",
       "[100 rows x 5 columns]"
      ]
     },
     "execution_count": 123,
     "metadata": {},
     "output_type": "execute_result"
    }
   ],
   "source": [
    "forward_predictions"
   ]
  },
  {
   "cell_type": "code",
   "execution_count": 124,
   "metadata": {
    "ExecuteTime": {
     "end_time": "2019-11-20T00:30:38.327994Z",
     "start_time": "2019-11-20T00:30:38.315430Z"
    }
   },
   "outputs": [
    {
     "data": {
      "text/html": [
       "<div>\n",
       "<style scoped>\n",
       "    .dataframe tbody tr th:only-of-type {\n",
       "        vertical-align: middle;\n",
       "    }\n",
       "\n",
       "    .dataframe tbody tr th {\n",
       "        vertical-align: top;\n",
       "    }\n",
       "\n",
       "    .dataframe thead th {\n",
       "        text-align: right;\n",
       "    }\n",
       "</style>\n",
       "<table border=\"1\" class=\"dataframe\">\n",
       "  <thead>\n",
       "    <tr style=\"text-align: right;\">\n",
       "      <th></th>\n",
       "      <th>timestamp</th>\n",
       "      <th>gbpjpy</th>\n",
       "      <th>gbpusd</th>\n",
       "      <th>usdjpy</th>\n",
       "      <th>time_gap</th>\n",
       "    </tr>\n",
       "  </thead>\n",
       "  <tbody>\n",
       "    <tr>\n",
       "      <th>10000</th>\n",
       "      <td>2019-05-09 17:40:00</td>\n",
       "      <td>496.324315</td>\n",
       "      <td>26.374792</td>\n",
       "      <td>469.951626</td>\n",
       "      <td>1</td>\n",
       "    </tr>\n",
       "    <tr>\n",
       "      <th>10001</th>\n",
       "      <td>2019-05-09 17:41:00</td>\n",
       "      <td>496.290057</td>\n",
       "      <td>26.367878</td>\n",
       "      <td>469.924324</td>\n",
       "      <td>1</td>\n",
       "    </tr>\n",
       "    <tr>\n",
       "      <th>10002</th>\n",
       "      <td>2019-05-09 17:42:00</td>\n",
       "      <td>496.229903</td>\n",
       "      <td>26.357123</td>\n",
       "      <td>469.874249</td>\n",
       "      <td>1</td>\n",
       "    </tr>\n",
       "    <tr>\n",
       "      <th>10003</th>\n",
       "      <td>2019-05-09 17:43:00</td>\n",
       "      <td>496.177413</td>\n",
       "      <td>26.367110</td>\n",
       "      <td>469.809571</td>\n",
       "      <td>1</td>\n",
       "    </tr>\n",
       "    <tr>\n",
       "      <th>10004</th>\n",
       "      <td>2019-05-09 17:44:00</td>\n",
       "      <td>496.178113</td>\n",
       "      <td>26.374792</td>\n",
       "      <td>469.805014</td>\n",
       "      <td>1</td>\n",
       "    </tr>\n",
       "    <tr>\n",
       "      <th>...</th>\n",
       "      <td>...</td>\n",
       "      <td>...</td>\n",
       "      <td>...</td>\n",
       "      <td>...</td>\n",
       "      <td>...</td>\n",
       "    </tr>\n",
       "    <tr>\n",
       "      <th>11995</th>\n",
       "      <td>2019-05-12 21:55:00</td>\n",
       "      <td>496.067444</td>\n",
       "      <td>26.177948</td>\n",
       "      <td>469.829616</td>\n",
       "      <td>1</td>\n",
       "    </tr>\n",
       "    <tr>\n",
       "      <th>11996</th>\n",
       "      <td>2019-05-12 21:56:00</td>\n",
       "      <td>496.067444</td>\n",
       "      <td>26.177948</td>\n",
       "      <td>469.829616</td>\n",
       "      <td>1</td>\n",
       "    </tr>\n",
       "    <tr>\n",
       "      <th>11997</th>\n",
       "      <td>2019-05-12 21:57:00</td>\n",
       "      <td>496.067444</td>\n",
       "      <td>26.177948</td>\n",
       "      <td>469.829616</td>\n",
       "      <td>1</td>\n",
       "    </tr>\n",
       "    <tr>\n",
       "      <th>11998</th>\n",
       "      <td>2019-05-12 21:58:00</td>\n",
       "      <td>496.067444</td>\n",
       "      <td>26.177948</td>\n",
       "      <td>469.829616</td>\n",
       "      <td>1</td>\n",
       "    </tr>\n",
       "    <tr>\n",
       "      <th>11999</th>\n",
       "      <td>2019-05-12 21:59:00</td>\n",
       "      <td>496.067444</td>\n",
       "      <td>26.177948</td>\n",
       "      <td>469.829616</td>\n",
       "      <td>1</td>\n",
       "    </tr>\n",
       "  </tbody>\n",
       "</table>\n",
       "<p>2000 rows × 5 columns</p>\n",
       "</div>"
      ],
      "text/plain": [
       "                 timestamp      gbpjpy     gbpusd      usdjpy  time_gap\n",
       "10000  2019-05-09 17:40:00  496.324315  26.374792  469.951626         1\n",
       "10001  2019-05-09 17:41:00  496.290057  26.367878  469.924324         1\n",
       "10002  2019-05-09 17:42:00  496.229903  26.357123  469.874249         1\n",
       "10003  2019-05-09 17:43:00  496.177413  26.367110  469.809571         1\n",
       "10004  2019-05-09 17:44:00  496.178113  26.374792  469.805014         1\n",
       "...                    ...         ...        ...         ...       ...\n",
       "11995  2019-05-12 21:55:00  496.067444  26.177948  469.829616         1\n",
       "11996  2019-05-12 21:56:00  496.067444  26.177948  469.829616         1\n",
       "11997  2019-05-12 21:57:00  496.067444  26.177948  469.829616         1\n",
       "11998  2019-05-12 21:58:00  496.067444  26.177948  469.829616         1\n",
       "11999  2019-05-12 21:59:00  496.067444  26.177948  469.829616         1\n",
       "\n",
       "[2000 rows x 5 columns]"
      ]
     },
     "execution_count": 124,
     "metadata": {},
     "output_type": "execute_result"
    }
   ],
   "source": [
    "training"
   ]
  },
  {
   "cell_type": "code",
   "execution_count": 122,
   "metadata": {
    "ExecuteTime": {
     "end_time": "2019-11-20T00:29:14.404446Z",
     "start_time": "2019-11-20T00:29:14.041179Z"
    }
   },
   "outputs": [
    {
     "data": {
      "text/plain": [
       "<matplotlib.axes._subplots.AxesSubplot at 0x125ce1048>"
      ]
     },
     "execution_count": 122,
     "metadata": {},
     "output_type": "execute_result"
    },
    {
     "data": {
      "image/png": "[encoded data removed]",
      "text/plain": [
       "<Figure size 720x576 with 1 Axes>"
      ]
     },
     "metadata": {},
     "output_type": "display_data"
    }
   ],
   "source": [
    "plot_multi(pd.DataFrame(gbpusd_dict), figsize=(10,8))"
   ]
  },
  {
   "cell_type": "code",
   "execution_count": 21,
   "metadata": {
    "ExecuteTime": {
     "end_time": "2019-11-19T22:28:48.540306Z",
     "start_time": "2019-11-19T22:28:38.573430Z"
    },
    "scrolled": true
   },
   "outputs": [
    {
     "name": "stdout",
     "output_type": "stream",
     "text": [
      "0.001200237820831532\n",
      "0.0005090922751997935\n",
      "5.3481212135710275e-05\n",
      "4.42118456440653e-05\n",
      "4.234581750414229e-05\n",
      "4.121240316831518e-05\n",
      "4.025262646542879e-05\n",
      "3.935025413037312e-05\n",
      "3.844403791435025e-05\n",
      "3.74900267937802e-05\n",
      "3.645289438164791e-05\n",
      "3.530466510147192e-05\n",
      "3.402559165956555e-05\n",
      "3.2605301409941585e-05\n",
      "3.1043511479081705e-05\n",
      "2.935001834460855e-05\n",
      "2.754385198324971e-05\n",
      "2.565162753857177e-05\n",
      "2.370526117232664e-05\n",
      "2.1739324706281465e-05\n",
      "1.9788368027664463e-05\n",
      "1.788452781829555e-05\n",
      "1.605566660471025e-05\n",
      "1.4324175719047664e-05\n",
      "1.2706456394165041e-05\n",
      "1.1212995053975894e-05\n",
      "9.848887888655776e-06\n",
      "8.614648307416102e-06\n",
      "7.507143054296905e-06\n",
      "6.520533609042014e-06\n",
      "5.647138626284574e-06\n",
      "4.878169947811793e-06\n",
      "4.204324460785212e-06\n",
      "3.616234183827994e-06\n",
      "3.104789877975739e-06\n",
      "2.6613584582309176e-06\n",
      "2.2779162968654242e-06\n",
      "1.947118401730395e-06\n",
      "1.6623212508194364e-06\n",
      "1.4175733209200425e-06\n",
      "1.2075843957292788e-06\n",
      "1.0276819416605645e-06\n",
      "8.737607002582839e-07\n",
      "7.422296181492193e-07\n",
      "6.299590170458646e-07\n",
      "5.342298571416467e-07\n",
      "4.52686183020875e-07\n",
      "3.832914355347453e-07\n",
      "3.242886913888823e-07\n",
      "2.7416504014905205e-07\n",
      "2.3161975657128422e-07\n",
      "1.9553619827828308e-07\n",
      "1.649570273150733e-07\n",
      "1.3906245201295066e-07\n",
      "1.1715134337739106e-07\n",
      "9.862461049640601e-08\n",
      "8.297090519105807e-08\n",
      "6.975423175825378e-08\n",
      "5.860312044312756e-08\n",
      "4.920138263528744e-08\n",
      "4.128012446808692e-08\n",
      "3.461085848945365e-08\n",
      "2.8999584634585012e-08\n",
      "2.4281709268500943e-08\n",
      "2.0317709429509692e-08\n",
      "1.698940481570676e-08\n",
      "1.4196754665409935e-08\n",
      "1.1855159357094968e-08\n",
      "9.893092273815966e-09\n",
      "8.25016794953367e-09\n",
      "6.875410832080624e-09\n",
      "5.7258455898811234e-09\n",
      "4.7652299300356705e-09\n",
      "3.9630686507094604e-09\n",
      "3.293671420948769e-09\n",
      "2.7354660431965493e-09\n",
      "2.2703042988632516e-09\n",
      "1.8829445716968283e-09\n",
      "1.5605923445613106e-09\n",
      "1.2925338926621297e-09\n",
      "1.069788339400185e-09\n"
     ]
    }
   ],
   "source": [
    "check_smoother = kalman_smoother(data=training[:1000],\n",
    "                                 prior_state=np.array(\n",
    "                                     [270, -220, 250], dtype=np.float64),\n",
    "                                 emit_mat=emit_mat,\n",
    "                                 prior_meas_df=100,\n",
    "                                 prior_meas_scale=1**2 *\n",
    "                                 np.identity(\n",
    "                                     emit_mat.shape[1], dtype=np.float64),\n",
    "                                 prior_proc_df=100,\n",
    "                                 prior_proc_scale=0.1**2 *\n",
    "                                 np.identity(\n",
    "                                     emit_mat.shape[0], dtype=np.float64),\n",
    "                                 post_covar=forward_post_covar\n",
    "                                 )"
   ]
  },
  {
   "cell_type": "markdown",
   "metadata": {},
   "source": [
    "#### We inspect the Bayes estimates of the covariance matrices:"
   ]
  },
  {
   "cell_type": "code",
   "execution_count": 22,
   "metadata": {
    "ExecuteTime": {
     "end_time": "2019-11-19T22:28:48.553176Z",
     "start_time": "2019-11-19T22:28:48.548068Z"
    }
   },
   "outputs": [
    {
     "data": {
      "text/plain": [
       "array([[1.87193778e-03, 4.86233977e-04, 4.28434730e-04],\n",
       "       [4.86233977e-04, 1.32899856e-03, 6.70738290e-05],\n",
       "       [4.28434730e-04, 6.70738290e-05, 1.28628750e-03]])"
      ]
     },
     "execution_count": 22,
     "metadata": {},
     "output_type": "execute_result"
    }
   ],
   "source": [
    "check_smoother['post_meas_scale'] / \\\n",
    "    (check_smoother['post_meas_df'] - emit_mat.shape[0])"
   ]
  },
  {
   "cell_type": "code",
   "execution_count": 23,
   "metadata": {
    "ExecuteTime": {
     "end_time": "2019-11-19T22:28:48.565868Z",
     "start_time": "2019-11-19T22:28:48.556998Z"
    },
    "scrolled": true
   },
   "outputs": [
    {
     "data": {
      "text/plain": [
       "array([[ 1.08797865e-05, -1.80430081e-06,  4.02845822e-08],\n",
       "       [-1.80430081e-06,  1.23879761e-05, -1.46790502e-06],\n",
       "       [ 4.02845822e-08, -1.46790502e-06,  1.05433907e-05]])"
      ]
     },
     "execution_count": 23,
     "metadata": {},
     "output_type": "execute_result"
    }
   ],
   "source": [
    "check_smoother['post_proc_scale'] / \\\n",
    "    (check_smoother['post_proc_df'] - emit_mat.shape[1])"
   ]
  },
  {
   "cell_type": "markdown",
   "metadata": {},
   "source": [
    "#### And can visually inspect how the smoother performs on individual currencies:"
   ]
  },
  {
   "cell_type": "code",
   "execution_count": 24,
   "metadata": {
    "ExecuteTime": {
     "end_time": "2019-11-19T22:28:48.573069Z",
     "start_time": "2019-11-19T22:28:48.568682Z"
    }
   },
   "outputs": [],
   "source": [
    "usdjpy_dict = {'usdjpy(pred)': check_smoother['predicted_measurements'][0:100][:, -2],\n",
    "               'usdjpy(training)': check_smoother['input_data'][0:100].loc[:, 'usdjpy'].to_numpy()}"
   ]
  },
  {
   "cell_type": "code",
   "execution_count": 25,
   "metadata": {
    "ExecuteTime": {
     "end_time": "2019-11-19T22:28:48.957247Z",
     "start_time": "2019-11-19T22:28:48.576518Z"
    }
   },
   "outputs": [
    {
     "data": {
      "text/plain": [
       "<matplotlib.axes._subplots.AxesSubplot at 0x1213fdfd0>"
      ]
     },
     "execution_count": 25,
     "metadata": {},
     "output_type": "execute_result"
    },
    {
     "data": {
      "image/png": "[encoded data removed]",
      "text/plain": [
       "<Figure size 432x288 with 1 Axes>"
      ]
     },
     "metadata": {},
     "output_type": "display_data"
    }
   ],
   "source": [
    "plot_multi(pd.DataFrame(usdjpy_dict))"
   ]
  },
  {
   "cell_type": "markdown",
   "metadata": {},
   "source": [
    "#  PSIS"
   ]
  },
  {
   "cell_type": "markdown",
   "metadata": {},
   "source": [
    "PSIS is like our alarm that rings whenever the predictions become really bad and we need to update our parameters through smoothing. In particular, we fit the generalized Pareto distribution to the 20% highest importance weights, and if k > 0.7, we refit because we think the variance of the importance weights is infinity.\n",
    "\n",
    "To do this, we sample 1000 covariance matrices at the start of our forward pass through the filter and hold those fixed (covariance matrices are very expensive to sample)"
   ]
  },
  {
   "cell_type": "code",
   "execution_count": 26,
   "metadata": {
    "ExecuteTime": {
     "end_time": "2019-11-19T22:28:49.362278Z",
     "start_time": "2019-11-19T22:28:48.959753Z"
    }
   },
   "outputs": [],
   "source": [
    "from scipy.stats import invwishart, multivariate_normal"
   ]
  },
  {
   "cell_type": "code",
   "execution_count": 27,
   "metadata": {
    "ExecuteTime": {
     "end_time": "2019-11-19T22:28:49.381618Z",
     "start_time": "2019-11-19T22:28:49.364452Z"
    }
   },
   "outputs": [],
   "source": [
    "# Source: https://github.com/avehtari/PSIS/blob/master/py/psis.py\n",
    "def gpdfitnew(x, sort=True, sort_in_place=False, return_quadrature=False):\n",
    "    \"\"\"Estimate the paramaters for the Generalized Pareto Distribution (GPD)\n",
    "    Returns empirical Bayes estimate for the parameters of the two-parameter\n",
    "    generalized Parato distribution given the data.\n",
    "    Parameters\n",
    "    ----------\n",
    "    x : ndarray\n",
    "        One dimensional data array\n",
    "    sort : bool or ndarray, optional\n",
    "        If known in advance, one can provide an array of indices that would\n",
    "        sort the input array `x`. If the input array is already sorted, provide\n",
    "        False. If True (default behaviour), the array is sorted internally.\n",
    "    sort_in_place : bool, optional\n",
    "        If `sort` is True and `sort_in_place` is True, the array is sorted\n",
    "        in-place (False by default).\n",
    "    return_quadrature : bool, optional\n",
    "        If True, quadrature points and weight `ks` and `w` of the marginal posterior distribution of k are also calculated and returned. False by\n",
    "        default.\n",
    "    Returns\n",
    "    -------\n",
    "    k, sigma : float\n",
    "        estimated parameter values\n",
    "    ks, w : ndarray\n",
    "        Quadrature points and weights of the marginal posterior distribution\n",
    "        of `k`. Returned only if `return_quadrature` is True.\n",
    "    Notes\n",
    "    -----\n",
    "    This function returns a negative of Zhang and Stephens's k, because it is\n",
    "    more common parameterisation.\n",
    "    \"\"\"\n",
    "    if x.ndim != 1 or len(x) <= 1:\n",
    "        raise ValueError(\"Invalid input array.\")\n",
    "\n",
    "    # check if x should be sorted\n",
    "    if sort is True:\n",
    "        if sort_in_place:\n",
    "            x.sort()\n",
    "            xsorted = True\n",
    "        else:\n",
    "            sort = np.argsort(x)\n",
    "            xsorted = False\n",
    "    elif sort is False:\n",
    "        xsorted = True\n",
    "    else:\n",
    "        xsorted = False\n",
    "\n",
    "    n = len(x)\n",
    "    PRIOR = 3\n",
    "    m = 30 + int(np.sqrt(n))\n",
    "\n",
    "    bs = np.arange(1, m + 1, dtype=float)\n",
    "    bs -= 0.5\n",
    "    np.divide(m, bs, out=bs)\n",
    "    np.sqrt(bs, out=bs)\n",
    "    np.subtract(1, bs, out=bs)\n",
    "    if xsorted:\n",
    "        bs /= PRIOR * x[int(n/4 + 0.5) - 1]\n",
    "        bs += 1 / x[-1]\n",
    "    else:\n",
    "        bs /= PRIOR * x[sort[int(n/4 + 0.5) - 1]]\n",
    "        bs += 1 / x[sort[-1]]\n",
    "\n",
    "    ks = np.negative(bs)\n",
    "    temp = ks[:, None] * x\n",
    "    np.log1p(temp, out=temp)\n",
    "    np.mean(temp, axis=1, out=ks)\n",
    "\n",
    "    L = bs / ks\n",
    "    np.negative(L, out=L)\n",
    "    np.log(L, out=L)\n",
    "    L -= ks\n",
    "    L -= 1\n",
    "    L *= n\n",
    "\n",
    "    temp = L - L[:, None]\n",
    "    np.exp(temp, out=temp)\n",
    "    w = np.sum(temp, axis=1)\n",
    "    np.divide(1, w, out=w)\n",
    "\n",
    "    # remove negligible weights\n",
    "    dii = w >= 10 * np.finfo(float).eps\n",
    "    if not np.all(dii):\n",
    "        w = w[dii]\n",
    "        bs = bs[dii]\n",
    "    # normalise w\n",
    "    w /= w.sum()\n",
    "\n",
    "    # posterior mean for b\n",
    "    b = np.sum(bs * w)\n",
    "    # Estimate for k, note that we return a negative of Zhang and\n",
    "    # Stephens's k, because it is more common parameterisation.\n",
    "    temp = (-b) * x\n",
    "    np.log1p(temp, out=temp)\n",
    "    k = np.mean(temp)\n",
    "    if return_quadrature:\n",
    "        np.negative(x, out=temp)\n",
    "        temp = bs[:, None] * temp\n",
    "        np.log1p(temp, out=temp)\n",
    "        ks = np.mean(temp, axis=1)\n",
    "    # estimate for sigma\n",
    "    sigma = -k / b * n / (n - 0)\n",
    "    # weakly informative prior for k\n",
    "    a = 10\n",
    "    k = k * n / (n+a) + a * 0.5 / (n+a)\n",
    "    if return_quadrature:\n",
    "        ks *= n / (n+a)\n",
    "        ks += a * 0.5 / (n+a)\n",
    "\n",
    "    if return_quadrature:\n",
    "        return k, sigma, ks, w\n",
    "    else:\n",
    "        return k, sigma"
   ]
  },
  {
   "cell_type": "markdown",
   "metadata": {},
   "source": [
    "#### We inspect the Bayes estimates of the covariance matrices:"
   ]
  },
  {
   "cell_type": "code",
   "execution_count": 28,
   "metadata": {
    "ExecuteTime": {
     "end_time": "2019-11-19T22:28:49.399715Z",
     "start_time": "2019-11-19T22:28:49.383811Z"
    }
   },
   "outputs": [],
   "source": [
    "def kalman_filter_minibatch(data, emit_mat, initial_state, innovation_covar, post_covar,\n",
    "                            prior_proc_df, prior_proc_scale,\n",
    "                            prior_meas_df, prior_meas_scale\n",
    "                            ):\n",
    "    batch_size = 200\n",
    "    data_nrow = data.shape[0]\n",
    "    proc_cov_mats = invwishart.rvs(\n",
    "        df=prior_proc_df, scale=prior_proc_scale, size=batch_size)\n",
    "    meas_cov_mats = invwishart.rvs(\n",
    "        df=prior_meas_df, scale=prior_meas_scale, size=batch_size)\n",
    "\n",
    "    psis_k = 0\n",
    "    iter_count = 0\n",
    "    data_count = 0\n",
    "    initial_state = initial_state[1:-\n",
    "                                  1] if initial_state.shape[0] > nrow else initial_state\n",
    "    parallel_states = np.expand_dims(initial_state, axis=0)\n",
    "    parallel_states = parallel_states.repeat(batch_size, axis=0)\n",
    "    innovation_covar_mats = np.expand_dims(innovation_covar, axis=0)\n",
    "    innovation_covar_mats = innovation_covar_mats.repeat(batch_size, axis=0)\n",
    "    post_cov_mats = np.expand_dims(post_covar, axis=0)\n",
    "    post_cov_mats = post_cov_mats.repeat(batch_size, axis=0)\n",
    "\n",
    "    latent_states = []\n",
    "    innovation_covar = []\n",
    "    importance_weights = []\n",
    "\n",
    "    while (psis_k < 0.7) and (iter_count < data_nrow):\n",
    "        for i in range(parallel_states.shape[0]):\n",
    "            temp1, temp2, temp3, temp4 = forward_pass(data=data.iloc[iter_count, :],\n",
    "                                                      initial_state=initial_state,\n",
    "                                                      emit_mat=emit_mat,\n",
    "                                                      meas_covar=meas_cov_mats[i, :, :],\n",
    "                                                      proc_covar=proc_cov_mats[i, :, :],\n",
    "                                                      post_covar=post_cov_mats[i, :, :]\n",
    "                                                      )\n",
    "            parallel_states[i] = temp2[-1, 1:-1]\n",
    "            innovation_covar_mats[i] = temp4\n",
    "            post_cov_mats[i] = temp3\n",
    "\n",
    "        iw = []\n",
    "        for i in range(parallel_states.shape[0]):\n",
    "            iw.append(multivariate_normal.logpdf(x=(data.iloc[iter_count, 1:-1]).astype(np.float64),\n",
    "                                                 mean=emit_mat@(\n",
    "                                                     parallel_states[i, :].astype(np.float64)),\n",
    "                                                 cov=innovation_covar_mats[i, :, :]))\n",
    "        importance_weights.append(iw)\n",
    "\n",
    "        psis_weights = np.array(importance_weights)\n",
    "        psis_weights = np.sum(psis_weights, axis=0)\n",
    "\n",
    "        psis_weights = psis_weights[np.argsort(\n",
    "            psis_weights)[-int(batch_size*0.2):]]\n",
    "        psis_weights = np.exp(psis_weights)\n",
    "\n",
    "        psis_k = gpdfitnew(psis_weights - np.min(psis_weights))[0]\n",
    "        print('iter_count', iter_count, 'k:', psis_k)\n",
    "        iter_count += 1\n",
    "\n",
    "    forward = forward_pass(\n",
    "        data=data[:iter_count],\n",
    "        initial_state=initial_state,\n",
    "        emit_mat=emit_mat,\n",
    "        meas_covar=prior_meas_scale / (prior_meas_df - emit_mat.shape[0]),\n",
    "        proc_covar=prior_proc_scale / (prior_proc_df - emit_mat.shape[1]),\n",
    "        post_covar=post_covar\n",
    "    )\n",
    "\n",
    "    return forward"
   ]
  },
  {
   "cell_type": "code",
   "execution_count": 29,
   "metadata": {
    "ExecuteTime": {
     "end_time": "2019-11-19T22:29:05.902065Z",
     "start_time": "2019-11-19T22:28:49.402539Z"
    }
   },
   "outputs": [
    {
     "name": "stdout",
     "output_type": "stream",
     "text": [
      "iter_count 0 k: 0.2401300903740353\n",
      "iter_count 1 k: 0.11199464618723834\n",
      "iter_count 2 k: 0.09946114546688573\n",
      "iter_count 3 k: 0.13166521118552935\n",
      "iter_count 4 k: 0.1499032378324087\n",
      "iter_count 5 k: 0.15947192560180268\n",
      "iter_count 6 k: 0.15785407102823618\n",
      "iter_count 7 k: 0.178954740698971\n",
      "iter_count 8 k: 0.11737657471641363\n",
      "iter_count 9 k: 0.06455265133537594\n",
      "iter_count 10 k: 0.10254631717021279\n",
      "iter_count 11 k: 0.09098244785286289\n",
      "iter_count 12 k: 0.11050055159265192\n",
      "iter_count 13 k: 0.1568971986457665\n",
      "iter_count 14 k: 0.17701023458053938\n",
      "iter_count 15 k: 0.2227144359440113\n",
      "iter_count 16 k: 0.3451493866424913\n",
      "iter_count 17 k: 0.3684579419087105\n",
      "iter_count 18 k: 0.3081825511590865\n",
      "iter_count 19 k: 0.28054333987187097\n",
      "iter_count 20 k: 0.3774462846261053\n",
      "iter_count 21 k: 0.4138956799763992\n",
      "iter_count 22 k: 0.4696068700417705\n",
      "iter_count 23 k: 0.5009745947593546\n",
      "iter_count 24 k: 0.44289256888326645\n",
      "iter_count 25 k: 0.48675627561003054\n",
      "iter_count 26 k: 0.45919961295509315\n",
      "iter_count 27 k: 0.4536302552082322\n",
      "iter_count 28 k: 0.4967316341586474\n",
      "iter_count 29 k: 0.527404533050133\n",
      "iter_count 30 k: 0.5658468550280523\n",
      "iter_count 31 k: 0.6200375304064366\n",
      "iter_count 32 k: 0.6160399478637706\n",
      "iter_count 33 k: 0.5972261012428358\n",
      "iter_count 34 k: 0.5994023537438258\n",
      "iter_count 35 k: 0.5813836275146042\n",
      "iter_count 36 k: 0.5808079162830266\n",
      "iter_count 37 k: 0.6138793386681918\n",
      "iter_count 38 k: 0.6852130814909229\n",
      "iter_count 39 k: 0.6608833460238469\n",
      "iter_count 40 k: 0.6473335714876675\n",
      "iter_count 41 k: 0.6504852676111162\n",
      "iter_count 42 k: 0.6479749302858476\n",
      "iter_count 43 k: 0.6033088179158599\n",
      "iter_count 44 k: 0.5989645329461822\n",
      "iter_count 45 k: 0.6060779508441227\n",
      "iter_count 46 k: 0.6196001005471496\n",
      "iter_count 47 k: 0.6321903850436542\n",
      "iter_count 48 k: 0.6380542436769526\n",
      "iter_count 49 k: 0.6596595824147513\n",
      "iter_count 50 k: 0.6676138849465494\n",
      "iter_count 51 k: 0.6720271848905142\n",
      "iter_count 52 k: 0.6644834097254241\n",
      "iter_count 53 k: 0.6509095927086533\n",
      "iter_count 54 k: 0.6576630200337951\n",
      "iter_count 55 k: 0.6516244881892734\n",
      "iter_count 56 k: 0.655494171816749\n",
      "iter_count 57 k: 0.6701085361353489\n",
      "iter_count 58 k: 0.6707721987061025\n",
      "iter_count 59 k: 0.6708515159025981\n",
      "iter_count 60 k: 0.6743929375875638\n",
      "iter_count 61 k: 0.6710556549077649\n",
      "iter_count 62 k: 0.6714399513052021\n",
      "iter_count 63 k: 0.6895194269892352\n",
      "iter_count 64 k: 0.7074552805249793\n"
     ]
    }
   ],
   "source": [
    "states = check_smoother['states']\n",
    "check_kf_minibatch = kalman_filter_minibatch(data=training[1000:1199],\n",
    "                                             emit_mat=emit_mat,\n",
    "                                             initial_state=states[-1,\n",
    "                                                                  1:-1].astype(np.float64),\n",
    "                                             innovation_covar=check_smoother['innovation_covar'],\n",
    "                                             post_covar=check_smoother['post_covar'],\n",
    "                                             prior_proc_df=check_smoother['post_proc_df'],\n",
    "                                             prior_proc_scale=check_smoother['post_proc_scale'],\n",
    "                                             prior_meas_df=check_smoother['post_meas_df'],\n",
    "                                             prior_meas_scale=check_smoother['post_meas_scale']\n",
    "                                             )"
   ]
  },
  {
   "cell_type": "markdown",
   "metadata": {},
   "source": [
    "## Adaptive Kalman Filter"
   ]
  },
  {
   "cell_type": "code",
   "execution_count": 35,
   "metadata": {
    "ExecuteTime": {
     "end_time": "2019-11-19T22:49:36.171584Z",
     "start_time": "2019-11-19T22:49:36.155392Z"
    }
   },
   "outputs": [],
   "source": [
    "def adaptive_kalman_filter(data, emit_mat, prior_state, prior_covar, innovation_covar, prior_proc_df, prior_proc_scale, prior_meas_df, prior_meas_scale, burn_in=0):\n",
    "    print('Adaptive KF started with a prior state of', prior_state)\n",
    "    output_states = []\n",
    "    output_meas = []\n",
    "    output_meas_covar = []\n",
    "    output_proc_covar = []\n",
    "    breakpoints = []\n",
    "    minibatch_count = 0\n",
    "    itercount = 0\n",
    "    forward = []\n",
    "    nrow_data = data.shape[0]\n",
    "\n",
    "    # if burn_in > 0:\n",
    "    #     smoother = kalman_smoother(data = data[:burn_in],\n",
    "    #                                 prior_state = prior_state,\n",
    "    #                                 meas_mat = meas_mat,\n",
    "    #                                 post_covar = prior_covar,\n",
    "    #                                 prior_meas_df = prior_meas_df,\n",
    "    #                                 prior_meas_scale = prior_meas_scale,\n",
    "    #                                 prior_proc_df = prior_proc_df,\n",
    "    #                                 prior_proc_scale = prior_proc_scale\n",
    "    #     )\n",
    "\n",
    "    #     itercount = itercount + burn_in\n",
    "    #     minibatch_count = minibatch_count + 1\n",
    "\n",
    "    # end of if\n",
    "\n",
    "    print(itercount)\n",
    "\n",
    "    while itercount < nrow_data:\n",
    "        print('prior passed to minibatch', prior_state)\n",
    "        forward1, forward2, forward3, forward4 = kalman_filter_minibatch(\n",
    "            data=data[itercount:nrow_data],\n",
    "            emit_mat=emit_mat,\n",
    "            initial_state=prior_state,\n",
    "            innovation_covar=innovation_covar,\n",
    "            post_covar=prior_covar,\n",
    "            prior_proc_df=prior_proc_df,\n",
    "            prior_proc_scale=prior_proc_scale,\n",
    "            prior_meas_df=prior_meas_df,\n",
    "            prior_meas_scale=prior_meas_scale\n",
    "        )\n",
    "\n",
    "        batch_size = forward1.shape[0]\n",
    "        print('batch_size', batch_size)\n",
    "        if batch_size + itercount >= nrow_data:\n",
    "            break\n",
    "\n",
    "        smoother = kalman_smoother(\n",
    "            data=data[itercount:min(itercount+batch_size, nrow_data)],\n",
    "            prior_state=prior_state,\n",
    "            emit_mat=emit_mat,\n",
    "            post_covar=prior_covar,\n",
    "            prior_meas_df=prior_meas_df,\n",
    "            prior_meas_scale=prior_meas_scale,\n",
    "            prior_proc_df=prior_proc_df,\n",
    "            prior_proc_scale=prior_proc_scale\n",
    "        )\n",
    "\n",
    "        minibatch_count = minibatch_count + 1\n",
    "        itercount = itercount + batch_size\n",
    "\n",
    "        breakpoints.append(itercount)\n",
    "\n",
    "        output_states.append(forward2)\n",
    "        output_meas.append(forward1)\n",
    "        output_meas_covar.append(\n",
    "            smoother['post_meas_scale'] / (smoother['post_meas_df'] - emit_mat.shape[0]))\n",
    "        output_proc_covar.append(\n",
    "            smoother['post_proc_scale'] / (smoother['post_proc_df'] - emit_mat.shape[1]))\n",
    "\n",
    "        # update all our priors using the smoother\n",
    "        # update all our priors using the smoother\n",
    "\n",
    "        batch_size = smoother['input_data'].shape[0]\n",
    "        batch_total_time = np.sum(smoother['input_data'].iloc[:, -1])\n",
    "\n",
    "        prior_state = smoother['states']\n",
    "        prior_state = prior_state[-1, :].astype(np.float64)\n",
    "\n",
    "        prior_meas_df = smoother['post_meas_df']\n",
    "        prior_meas_scale = smoother['post_meas_scale']\n",
    "\n",
    "        prior_proc_df = smoother['post_proc_df']\n",
    "        prior_proc_scale = smoother['post_proc_scale']\n",
    "\n",
    "        prior_covar = smoother['post_covar']\n",
    "        innovation_covar = smoother['innovation_covar']\n",
    "\n",
    "        print('itercount', itercount)\n",
    "        # end of while\n",
    "\n",
    "    print(\"A loop has finished in adaptive_kalman_filter.\")\n",
    "\n",
    "    output_states_combined = np.vstack(output_states)\n",
    "    output_states_combined[:, 0] = shift(output_states_combined[:, 0], 1)\n",
    "\n",
    "    output_meas_combined = np.vstack(output_meas)\n",
    "    output_meas_combined[:, 0] = shift(output_meas_combined[:, 0], 1)\n",
    "\n",
    "    result = {\n",
    "        'input_data': data,\n",
    "        'states': output_states_combined,\n",
    "        'predicted_meas': output_meas_combined,\n",
    "        'post_meas_df': prior_meas_df,\n",
    "        'post_meas_scale': prior_meas_scale,\n",
    "        'post_proc_df': prior_proc_df,\n",
    "        'post_proc_scale': prior_proc_scale,\n",
    "        'post_covar': prior_covar,\n",
    "        'innovation_covar': innovation_covar,\n",
    "        'breakpoints': breakpoints,\n",
    "        'output_meas_covar': output_meas_covar,\n",
    "        'output_proc_covar': output_proc_covar\n",
    "    }\n",
    "\n",
    "    return result"
   ]
  },
  {
   "cell_type": "code",
   "execution_count": 31,
   "metadata": {
    "ExecuteTime": {
     "end_time": "2019-11-19T22:29:12.344295Z",
     "start_time": "2019-11-19T22:29:05.939611Z"
    },
    "scrolled": false
   },
   "outputs": [
    {
     "name": "stdout",
     "output_type": "stream",
     "text": [
      "0.010975180170738121\n",
      "0.009390469320021659\n",
      "0.0012101305268508603\n",
      "0.00013353300619604758\n",
      "2.131384207926826e-05\n",
      "3.684732480672278e-05\n",
      "3.7644169112441946e-05\n",
      "3.6850394513898954e-05\n",
      "3.5893747871603266e-05\n",
      "3.487976972553933e-05\n",
      "3.3809521973954945e-05\n",
      "3.267998672291358e-05\n",
      "3.148870799762536e-05\n",
      "3.0233580270916664e-05\n",
      "2.8914802570003705e-05\n",
      "2.7534813396463754e-05\n",
      "2.60997852430682e-05\n",
      "2.461896416879881e-05\n",
      "2.310474196146007e-05\n",
      "2.1571412681032085e-05\n",
      "2.0034871407964106e-05\n",
      "1.8511440349419342e-05\n",
      "1.7017095480077278e-05\n",
      "1.556629073624218e-05\n",
      "1.4172480850304565e-05\n",
      "1.2846108992859975e-05\n",
      "1.1596404668028391e-05\n",
      "1.0428036495935056e-05\n",
      "9.345365894796777e-06\n",
      "8.348887768526884e-06\n",
      "7.438343239011492e-06\n",
      "6.611679203105284e-06\n",
      "5.864217311242113e-06\n",
      "5.192360923790766e-06\n",
      "4.59204942162259e-06\n",
      "4.055588304402885e-06\n",
      "3.5790791469858855e-06\n",
      "3.1570760809582376e-06\n",
      "2.7837138607047615e-06\n",
      "2.4536264431130603e-06\n",
      "2.1631320843796584e-06\n",
      "1.9069723856108158e-06\n",
      "1.6812532909553683e-06\n",
      "1.483341358567178e-06\n",
      "1.3094143776059225e-06\n",
      "1.1564436535579935e-06\n",
      "1.0218583278946693e-06\n",
      "9.034992826194019e-07\n",
      "7.997217548597205e-07\n",
      "7.086752395768818e-07\n",
      "6.275558752613409e-07\n",
      "5.559821729311521e-07\n",
      "4.944256455286552e-07\n",
      "4.384594598780301e-07\n",
      "3.901608138375075e-07\n",
      "3.466905558243238e-07\n",
      "3.0862008574624895e-07\n",
      "2.7521251895601275e-07\n",
      "2.447367015157649e-07\n",
      "2.184012500328173e-07\n",
      "1.951173791686286e-07\n",
      "1.7384682670117307e-07\n",
      "1.5532026903162362e-07\n",
      "1.3906116651950981e-07\n",
      "1.2400100966376554e-07\n",
      "1.1123820618543493e-07\n",
      "9.93473217427833e-08\n",
      "8.912004733730206e-08\n",
      "7.964062415043994e-08\n",
      "7.160034265243408e-08\n",
      "6.398690824108163e-08\n",
      "5.7417252444690654e-08\n",
      "5.1314088029648986e-08\n",
      "4.619021728448355e-08\n",
      "4.1520165898479816e-08\n",
      "3.7224102374413374e-08\n",
      "3.321289886331532e-08\n",
      "2.994923875981458e-08\n",
      "2.7157678845088564e-08\n",
      "2.42496309457469e-08\n",
      "2.196719690932063e-08\n",
      "1.9526417377847216e-08\n",
      "1.7841304643977886e-08\n",
      "1.5426461759528157e-08\n",
      "1.4278383347698103e-08\n",
      "1.271416032704998e-08\n",
      "1.1472504831093407e-08\n",
      "1.0062317391776858e-08\n",
      "9.149088243117864e-09\n",
      "8.356255506754986e-09\n",
      "7.654746711146595e-09\n",
      "6.744996639047614e-09\n",
      "6.1679238584856645e-09\n",
      "5.428771383159788e-09\n",
      "5.270393705351319e-09\n",
      "4.277947324692416e-09\n",
      "3.6854090413261854e-09\n",
      "3.492108599362488e-09\n",
      "3.1672472046536236e-09\n",
      "2.816676890364749e-09\n",
      "2.4794759018407554e-09\n",
      "2.4134187465722493e-09\n",
      "2.2345983942855233e-09\n",
      "2.0648585250056536e-09\n",
      "1.5001342591507455e-09\n",
      "1.6489201395377627e-09\n",
      "1.6871829210650762e-09\n",
      "1.3726052398360573e-09\n",
      "1.2306691305284442e-09\n"
     ]
    }
   ],
   "source": [
    "check_smoother_init = kalman_smoother(\n",
    "    data=df.loc[19499:19998, :],\n",
    "    emit_mat=emit_mat,\n",
    "    prior_state=np.array([0, 0, 0], dtype=np.float64),\n",
    "    post_covar=10*np.identity(emit_mat.shape[0], dtype=np.float64),\n",
    "    prior_proc_df=10,\n",
    "    prior_proc_scale=10*0.1*np.identity(emit_mat.shape[0], dtype=np.float64),\n",
    "    prior_meas_df=10,\n",
    "    prior_meas_scale=10*0.1*np.identity(emit_mat.shape[0], dtype=np.float64)\n",
    ")"
   ]
  },
  {
   "cell_type": "code",
   "execution_count": 36,
   "metadata": {
    "ExecuteTime": {
     "end_time": "2019-11-19T22:50:29.606224Z",
     "start_time": "2019-11-19T22:49:39.714225Z"
    },
    "scrolled": false
   },
   "outputs": [
    {
     "name": "stdout",
     "output_type": "stream",
     "text": [
      "Adaptive KF started with a prior state of [ 172.85414255 -321.54754214  148.69339951]\n",
      "0\n",
      "prior passed to minibatch [ 172.85414255 -321.54754214  148.69339951]\n",
      "iter_count 0 k: 0.15270670047944374\n",
      "iter_count 1 k: 0.176633823742669\n",
      "iter_count 2 k: 0.1940731468368358\n",
      "iter_count 3 k: 0.22753442925395764\n",
      "iter_count 4 k: 0.2544738204281807\n",
      "iter_count 5 k: 0.2742514097512857\n",
      "iter_count 6 k: 0.2901151890466051\n",
      "iter_count 7 k: 0.30614570229954224\n",
      "iter_count 8 k: 0.3218168618826981\n",
      "iter_count 9 k: 0.3369352104074932\n",
      "iter_count 10 k: 0.35169931320359693\n",
      "iter_count 11 k: 0.3662885089705027\n",
      "iter_count 12 k: 0.38142481607747025\n",
      "iter_count 13 k: 0.3968872980023219\n",
      "iter_count 14 k: 0.41224275619187345\n",
      "iter_count 15 k: 0.4274100318905413\n",
      "iter_count 16 k: 0.4426105648771753\n",
      "iter_count 17 k: 0.4572859450208685\n",
      "iter_count 18 k: 0.47046363713562767\n",
      "iter_count 19 k: 0.4833070334300299\n",
      "iter_count 20 k: 0.49613136114091017\n",
      "iter_count 21 k: 0.5087657135039817\n",
      "iter_count 22 k: 0.5222585413889383\n",
      "iter_count 23 k: 0.5364682303194889\n",
      "iter_count 24 k: 0.5508579933215471\n",
      "iter_count 25 k: 0.5646340455418436\n",
      "iter_count 26 k: 0.5783469001790158\n",
      "iter_count 27 k: 0.5923633670730424\n",
      "iter_count 28 k: 0.6074805759723654\n",
      "iter_count 29 k: 0.6226264501199295\n",
      "iter_count 30 k: 0.6372079450778343\n",
      "iter_count 31 k: 0.6521798672239857\n",
      "iter_count 32 k: 0.6668328923103867\n",
      "iter_count 33 k: 0.6814472664782865\n",
      "iter_count 34 k: 0.6960025083911987\n",
      "iter_count 35 k: 0.7105163101209426\n",
      "batch_size 36\n",
      "6.973440097604916e-05\n",
      "1.3513439322066687e-05\n",
      "1.5218213074296326e-05\n",
      "1.4836306069298727e-05\n",
      "1.3508949664353417e-05\n",
      "1.2107135161580446e-05\n",
      "1.0802095080531941e-05\n",
      "9.695370289608064e-06\n",
      "8.823300085173976e-06\n",
      "8.190321912752678e-06\n",
      "7.781935505823454e-06\n",
      "7.572158945051887e-06\n",
      "7.529418608462797e-06\n",
      "7.621763943234586e-06\n",
      "7.82047647824478e-06\n",
      "8.101593600927284e-06\n",
      "8.445848116991458e-06\n",
      "8.837875429096505e-06\n",
      "9.265316289309995e-06\n",
      "9.718092418643082e-06\n",
      "1.0187896496864802e-05\n",
      "1.0667846166805638e-05\n",
      "1.1152234767560531e-05\n",
      "1.1636331973137434e-05\n",
      "1.2116206134393499e-05\n",
      "1.2588556221161781e-05\n",
      "1.3050550235147024e-05\n",
      "1.349967184055534e-05\n",
      "1.3933577774366213e-05\n",
      "1.43499694056463e-05\n",
      "1.4746481376778375e-05\n",
      "1.5120590402293421e-05\n",
      "1.5469545490566532e-05\n",
      "1.5790323529781446e-05\n",
      "1.6079610707113352e-05\n",
      "1.6333812784012096e-05\n",
      "1.6549096000584927e-05\n",
      "1.6721460295588684e-05\n",
      "1.684684213660249e-05\n",
      "1.6921250539890872e-05\n",
      "1.6940926586603398e-05\n",
      "1.6902524688909994e-05\n",
      "1.680330461284028e-05\n",
      "1.6641322647772322e-05\n",
      "1.6415608717032232e-05\n",
      "1.6126315182631274e-05\n",
      "1.577482003252551e-05\n",
      "1.5363778245238064e-05\n",
      "1.4897106291512934e-05\n",
      "1.4379903040250434e-05\n",
      "1.3818302903259553e-05\n",
      "1.3219276555790716e-05\n",
      "1.2590390169193766e-05\n",
      "1.1939537777467396e-05\n",
      "1.1274672765256169e-05\n",
      "1.0603549547254303e-05\n",
      "9.933495063173235e-06\n",
      "9.271221261059218e-06\n",
      "8.62268367439527e-06\n",
      "7.992991741085209e-06\n",
      "7.386366432671629e-06\n",
      "6.806137992785436e-06\n",
      "6.25478319238364e-06\n",
      "5.733986144993763e-06\n",
      "5.244717200846821e-06\n",
      "4.787328258932594e-06\n",
      "4.361644526369605e-06\n",
      "3.967059720873821e-06\n",
      "3.6026268349055627e-06\n",
      "3.267137474812286e-06\n",
      "2.9591952582246305e-06\n",
      "2.6772792460209464e-06\n",
      "2.419793763488671e-06\n",
      "2.185112675328152e-06\n",
      "1.9716162237525168e-06\n",
      "1.7777138487256374e-06\n",
      "1.6018687002798388e-06\n",
      "1.4426072523404842e-06\n",
      "1.2985341743941672e-06\n",
      "1.1683354139745965e-06\n",
      "1.0507828756014798e-06\n",
      "9.447334117407502e-07\n",
      "8.49130452613632e-07\n",
      "7.62999167415498e-07\n",
      "6.854445012440607e-07\n",
      "6.156465174044e-07\n",
      "5.528564014646364e-07\n",
      "4.963930977191428e-07\n",
      "4.4563499996893695e-07\n",
      "4.000190944689752e-07\n",
      "3.590356081158561e-07\n",
      "3.222219336396978e-07\n",
      "2.8916078004643233e-07\n",
      "2.5947410923339237e-07\n",
      "2.3282159751991974e-07\n",
      "2.0889645816728235e-07\n",
      "1.8742257176211332e-07\n",
      "1.681493156872085e-07\n",
      "1.5085390912154359e-07\n",
      "1.3533406490266145e-07\n",
      "1.2140789113841662e-07\n",
      "1.0891343008902757e-07\n",
      "9.770265959848062e-08\n",
      "8.764529894335469e-08\n",
      "7.862230324036887e-08\n",
      "7.052780639562723e-08\n",
      "6.326655201280107e-08\n",
      "5.6752691995067614e-08\n",
      "5.090924037448794e-08\n",
      "4.566730729147195e-08\n",
      "4.0964814678723706e-08\n",
      "3.674727400753293e-08\n",
      "3.296338021588613e-08\n",
      "2.9569329497294453e-08\n",
      "2.6524864267159116e-08\n",
      "2.3793978271677057e-08\n",
      "2.134401778871113e-08\n",
      "1.9146560728982238e-08\n",
      "1.7175448462516998e-08\n",
      "1.5407257012187404e-08\n",
      "1.382115707219877e-08\n",
      "1.2398469755947021e-08\n",
      "1.1122039336641184e-08\n",
      "9.977466085122378e-09\n",
      "8.950044914868788e-09\n",
      "8.028872009543409e-09\n",
      "7.202665703517296e-09\n",
      "6.461052956305518e-09\n",
      "5.796131118903125e-09\n",
      "5.199739861073991e-09\n",
      "4.6644444486176255e-09\n",
      "4.184413214238419e-09\n",
      "3.753870214657e-09\n",
      "3.3676272503785892e-09\n",
      "3.0209258131567363e-09\n",
      "2.7102094229963408e-09\n",
      "2.4314199501447453e-09\n",
      "2.1811776724847925e-09\n",
      "1.9563916061039835e-09\n",
      "1.755238482390461e-09\n",
      "1.5748368805092608e-09\n",
      "1.4125535020606621e-09\n",
      "1.2671083206544166e-09\n",
      "1.1369551713028882e-09\n",
      "1.0200078644678038e-09\n",
      "itercount 36\n",
      "prior passed to minibatch [          nan  172.84529716 -321.52616827  148.68087103    1.        ]\n",
      "iter_count 0 k: -0.03951496259264614\n",
      "iter_count 1 k: -0.06615942067864991\n",
      "iter_count 2 k: -0.07592030313283246\n",
      "iter_count 3 k: -0.06266805727666672\n",
      "iter_count 4 k: -0.05480734827492095\n",
      "iter_count 5 k: -0.037557424776689746\n",
      "iter_count 6 k: -0.01795900178272869\n",
      "iter_count 7 k: 0.00966956470520601\n",
      "iter_count 8 k: 0.03630189796108045\n",
      "iter_count 9 k: 0.05854722069246221\n",
      "iter_count 10 k: 0.08048768401075573\n",
      "iter_count 11 k: 0.10231403627329963\n",
      "iter_count 12 k: 0.12466373793263927\n",
      "iter_count 13 k: 0.14679974913022414\n",
      "iter_count 14 k: 0.16925625793257648\n",
      "iter_count 15 k: 0.1917478672488503\n",
      "iter_count 16 k: 0.21497325682987808\n",
      "iter_count 17 k: 0.23758698821884972\n",
      "iter_count 18 k: 0.2605716943807207\n",
      "iter_count 19 k: 0.28303335095869603\n",
      "iter_count 20 k: 0.30468807285408883\n",
      "iter_count 21 k: 0.334568786491621\n",
      "iter_count 22 k: 0.3664193531737794\n",
      "iter_count 23 k: 0.38836145255188703\n",
      "iter_count 24 k: 0.4103382171749058\n",
      "iter_count 25 k: 0.4322441897343624\n",
      "iter_count 26 k: 0.45384510917844445\n",
      "iter_count 27 k: 0.47582335187865143\n",
      "iter_count 28 k: 0.4977864446659398\n",
      "iter_count 29 k: 0.5199470795308304\n",
      "iter_count 30 k: 0.5419424599023459\n",
      "iter_count 31 k: 0.5638797911933756\n",
      "iter_count 32 k: 0.5857805108199267\n",
      "iter_count 33 k: 0.6078564498526069\n",
      "iter_count 34 k: 0.6298352878082886\n",
      "iter_count 35 k: 0.6510935672889517\n",
      "iter_count 36 k: 0.6723678933635235\n",
      "iter_count 37 k: 0.6936744654872656\n",
      "iter_count 38 k: 0.715366285886514\n",
      "batch_size 39\n",
      "0.00013494898808549284\n",
      "4.6534008412466e-05\n",
      "4.906925873761576e-05\n",
      "4.902563348576489e-05\n",
      "4.840153139934852e-05\n",
      "4.764969670972886e-05\n",
      "4.681539688009289e-05\n",
      "4.591944315914092e-05\n",
      "4.5028961145842253e-05\n",
      "4.4245816345524844e-05\n",
      "4.3687750408185023e-05\n",
      "4.347785273752041e-05\n",
      "4.3742164583501744e-05\n",
      "4.461287968412359e-05\n",
      "4.623571807119407e-05\n",
      "4.8781251404838346e-05\n",
      "5.2460354584353615e-05\n",
      "5.7543540775129864e-05\n",
      "6.438253118751832e-05\n",
      "7.342878194605702e-05\n",
      "8.523451571616396e-05\n",
      "0.0001004000492384919\n",
      "0.00011938466395886964\n",
      "0.00014201615388371858\n",
      "0.0001664591139662082\n",
      "0.00018762849174286714\n",
      "0.0001963978164913015\n",
      "0.0001835241190193972\n",
      "0.00014966387242441962\n",
      "0.00010884903922600417\n",
      "7.518327171100529e-05\n",
      "5.229478111117645e-05\n",
      "3.7507049258652596e-05\n",
      "2.7718246537958185e-05\n",
      "2.0955012078948134e-05\n",
      "1.610541172369103e-05\n",
      "1.2530763220134513e-05\n",
      "9.841835529745927e-06\n",
      "7.787423765477578e-06\n",
      "6.198150136253388e-06\n",
      "4.956154437787207e-06\n",
      "3.977439877397939e-06\n",
      "3.200965312532615e-06\n",
      "2.5815938966047954e-06\n",
      "2.085425877150543e-06\n",
      "1.6866335386967538e-06\n",
      "1.365297808245815e-06\n",
      "1.105880275851362e-06\n",
      "8.961557917393914e-07\n",
      "7.264297230286359e-07\n",
      "5.889734491478423e-07\n",
      "4.775927286891785e-07\n",
      "3.8730884507549524e-07\n",
      "3.141072413377714e-07\n",
      "2.5474724351073544e-07\n",
      "2.066074628483331e-07\n",
      "1.6756408568332553e-07\n",
      "1.358971109638677e-07\n",
      "1.1021325468645571e-07\n",
      "8.938215368018625e-08\n",
      "7.248741419682457e-08\n",
      "5.878472471261379e-08\n",
      "4.7671962818548294e-08\n",
      "3.865950819557158e-08\n",
      "3.1349969191455995e-08\n",
      "2.5422828037252688e-08\n",
      "2.0616139145071772e-08\n",
      "1.6717553968206732e-08\n",
      "1.3556301209364223e-08\n",
      "1.0992897097164198e-08\n",
      "8.9140996440267e-09\n",
      "7.228564124528208e-09\n",
      "5.861778033732316e-09\n",
      "4.7533251970982544e-09\n",
      "3.853693959193401e-09\n",
      "3.1256161034429894e-09\n",
      "2.534099873204975e-09\n",
      "2.054925216209098e-09\n",
      "1.6663922645701448e-09\n",
      "1.3513750521669518e-09\n",
      "1.095498636510904e-09\n",
      "itercount 75\n",
      "prior passed to minibatch [          nan  172.83782831 -321.50827873  148.67045034    1.        ]\n",
      "iter_count 0 k: -0.21566551752906696\n",
      "iter_count 1 k: -0.22155781259593085\n",
      "iter_count 2 k: -0.20049575855251636\n"
     ]
    },
    {
     "name": "stdout",
     "output_type": "stream",
     "text": [
      "iter_count 3 k: -0.19034724333296008\n",
      "iter_count 4 k: -0.17410757512221933\n",
      "iter_count 5 k: -0.15498033420166998\n",
      "iter_count 6 k: -0.13545774759368856\n",
      "iter_count 7 k: -0.11544882416236299\n",
      "iter_count 8 k: -0.09563307315278904\n",
      "iter_count 9 k: -0.07571952511706964\n",
      "iter_count 10 k: -0.055594245914703744\n",
      "iter_count 11 k: -0.03522632496154776\n",
      "iter_count 12 k: -0.014715726610579904\n",
      "iter_count 13 k: 0.005441720528505334\n",
      "iter_count 14 k: 0.02542178839183687\n",
      "iter_count 15 k: 0.04545390694653579\n",
      "iter_count 16 k: 0.06556138889343491\n",
      "iter_count 17 k: 0.08576945154070595\n",
      "iter_count 18 k: 0.1059584564237699\n",
      "iter_count 19 k: 0.12614051838024237\n",
      "iter_count 20 k: 0.1463474086386988\n",
      "iter_count 21 k: 0.16674375378659992\n",
      "iter_count 22 k: 0.18707569345146968\n",
      "iter_count 23 k: 0.20720640712043337\n",
      "iter_count 24 k: 0.2273361200926727\n",
      "iter_count 25 k: 0.24743018214811707\n",
      "iter_count 26 k: 0.26755170605854367\n",
      "iter_count 27 k: 0.28766252698505057\n",
      "iter_count 28 k: 0.30771632800162185\n",
      "iter_count 29 k: 0.3278854569752748\n",
      "iter_count 30 k: 0.3479954920161008\n",
      "iter_count 31 k: 0.3676946000390552\n",
      "iter_count 32 k: 0.3873010764069459\n",
      "iter_count 33 k: 0.4068881785886962\n",
      "iter_count 34 k: 0.4264734113494406\n",
      "iter_count 35 k: 0.4460497462536023\n",
      "iter_count 36 k: 0.46580189258777194\n",
      "iter_count 37 k: 0.4858033337973945\n",
      "iter_count 38 k: 0.5056471117159415\n",
      "iter_count 39 k: 0.5254539945390064\n",
      "iter_count 40 k: 0.5452998611097309\n",
      "iter_count 41 k: 0.5652261163089256\n",
      "iter_count 42 k: 0.5852801455702717\n",
      "iter_count 43 k: 0.6054086939646148\n",
      "iter_count 44 k: 0.6255509164718387\n",
      "iter_count 45 k: 0.6456507817578281\n",
      "iter_count 46 k: 0.6657302420299377\n",
      "iter_count 47 k: 0.6857623660576369\n",
      "iter_count 48 k: 0.7057522383041118\n",
      "batch_size 49\n",
      "0.00030645097212193584\n",
      "0.00011030129630481246\n",
      "0.00011634853369748928\n",
      "0.00012795120350912723\n",
      "0.00014253504126019443\n",
      "0.00015870611361886998\n",
      "0.0001755848899794987\n",
      "0.00019307570741933843\n",
      "0.00021189982369105407\n",
      "0.00023105556339551503\n",
      "0.00024213869609024125\n",
      "0.00022844976950478558\n",
      "0.0001824482491021601\n",
      "0.00013007076813014606\n",
      "9.937756184847457e-05\n",
      "8.498877261006216e-05\n",
      "7.527088183730897e-05\n",
      "6.57382968833998e-05\n",
      "5.5998036424235415e-05\n",
      "4.676586938550138e-05\n",
      "3.864157583884332e-05\n",
      "3.181750820465055e-05\n",
      "2.6184070652463794e-05\n",
      "2.152416430963481e-05\n",
      "1.7640588106701752e-05\n",
      "1.439230053582082e-05\n",
      "1.1681927849568372e-05\n",
      "9.434992284796431e-06\n",
      "7.58700785282651e-06\n",
      "6.078795265051516e-06\n",
      "4.856054780969354e-06\n",
      "3.87013317653737e-06\n",
      "3.078597722863487e-06\n",
      "2.4452867767248065e-06\n",
      "1.939932121311764e-06\n",
      "1.5375375530108063e-06\n",
      "1.2176678823159102e-06\n",
      "9.637424246388953e-07\n",
      "7.623847138854647e-07\n",
      "6.028521592775436e-07\n",
      "4.765458652864156e-07\n",
      "3.7660290591074007e-07\n",
      "2.9755646883364355e-07\n",
      "2.350608522609756e-07\n",
      "1.8566533317132428e-07\n",
      "1.4663328066070494e-07\n",
      "1.1579675052424646e-07\n",
      "9.143807882642496e-08\n",
      "7.219951772077478e-08\n",
      "5.700616125890172e-08\n",
      "4.5008167608650253e-08\n",
      "3.553438111563293e-08\n",
      "2.8053962778029953e-08\n",
      "2.2148089950675647e-08\n",
      "1.7485114657754936e-08\n",
      "1.3803695024794988e-08\n",
      "1.089723545238006e-08\n",
      "8.602560020623033e-09\n",
      "6.791337446586616e-09\n",
      "5.361317376386365e-09\n",
      "4.232443805918566e-09\n",
      "3.3411863763648263e-09\n",
      "2.637591583831851e-09\n",
      "2.0820090319064767e-09\n",
      "1.6437034229875793e-09\n",
      "1.2974761780757447e-09\n",
      "1.0243186771069093e-09\n",
      "itercount 124\n",
      "prior passed to minibatch [          nan  172.83545567 -321.50903893  148.67358317    1.        ]\n",
      "iter_count 0 k: -0.08845884550971114\n",
      "iter_count 1 k: -0.043979102903101336\n",
      "iter_count 2 k: 0.026044134926536344\n",
      "iter_count 3 k: 0.07448129321048587\n",
      "iter_count 4 k: 0.11423644692567925\n",
      "iter_count 5 k: 0.12743594473926761\n",
      "iter_count 6 k: 0.1353445829081038\n",
      "iter_count 7 k: 0.14632890255846276\n",
      "iter_count 8 k: 0.15942928135663992\n",
      "iter_count 9 k: 0.17426472407993793\n",
      "iter_count 10 k: 0.18879579401432095\n",
      "iter_count 11 k: 0.20562743344053713\n",
      "iter_count 12 k: 0.21654448761555983\n",
      "iter_count 13 k: 0.22536475736390113\n",
      "iter_count 14 k: 0.23498329707461246\n",
      "iter_count 15 k: 0.2482962450290505\n",
      "iter_count 16 k: 0.2720064200858029\n",
      "iter_count 17 k: 0.2514237596878459\n",
      "iter_count 18 k: 0.27160703971712735\n",
      "iter_count 19 k: 0.2957712423680767\n",
      "iter_count 20 k: 0.3217835790379158\n",
      "iter_count 21 k: 0.34577512916594344\n",
      "iter_count 22 k: 0.3598456069778162\n",
      "iter_count 23 k: 0.37432997779802724\n",
      "iter_count 24 k: 0.3872918840057854\n",
      "iter_count 25 k: 0.39492455189334386\n",
      "iter_count 26 k: 0.41251428107345345\n",
      "iter_count 27 k: 0.4282330536606852\n",
      "iter_count 28 k: 0.4365079914863522\n",
      "iter_count 29 k: 0.44516977104894095\n",
      "iter_count 30 k: 0.45162926008737136\n",
      "iter_count 31 k: 0.4690818476640015\n",
      "iter_count 32 k: 0.49561100892816834\n",
      "iter_count 33 k: 0.5165838619560579\n",
      "iter_count 34 k: 0.5379508698790499\n",
      "iter_count 35 k: 0.568613536938888\n",
      "iter_count 36 k: 0.5973996513870767\n",
      "iter_count 37 k: 0.6386298078401837\n",
      "iter_count 38 k: 0.6713825399035286\n",
      "iter_count 39 k: 0.6937196263983467\n",
      "iter_count 40 k: 0.7055162678218919\n",
      "batch_size 41\n",
      "0.0005053402488413358\n",
      "7.210407416578082e-05\n",
      "0.00011041244980255534\n",
      "0.0001448868881355741\n",
      "0.0001763941347757008\n",
      "0.00020533239869242775\n",
      "0.0002330224031802617\n",
      "0.00026096432977198145\n",
      "0.00029141293219354497\n",
      "0.0003281812461878428\n",
      "0.0003771651879200685\n",
      "0.00044579191074441463\n",
      "0.0005405613428220957\n",
      "0.0006623148018327702\n",
      "0.0007996669027849591\n",
      "0.0009252903655296387\n",
      "0.0010079969719146503\n",
      "0.0010431455863653858\n",
      "0.0010662020858800663\n",
      "0.0011242432187331707\n",
      "0.0012416474472754552\n",
      "0.0014075850009062692\n",
      "0.0015581228962997923\n",
      "0.001527869683955418\n",
      "0.0010877060581668883\n",
      "0.00037399671839798685\n",
      "6.0861981507739225e-05\n",
      "6.17732218154883e-05\n",
      "3.164139285098893e-05\n",
      "1.5646413481578484e-05\n",
      "7.5202517044765415e-06\n",
      "3.4415172465276855e-06\n",
      "1.508033956040545e-06\n",
      "6.390886019555049e-07\n",
      "2.640815622727139e-07\n",
      "1.0702601487098887e-07\n",
      "4.2718625362235754e-08\n",
      "1.6843386298612874e-08\n",
      "6.575196743280728e-09\n",
      "2.5445354638398924e-09\n",
      "itercount 165\n",
      "prior passed to minibatch [          nan  172.83357115 -321.50320967  148.66963844    1.        ]\n",
      "iter_count 0 k: 0.12606577158017432\n",
      "iter_count 1 k: 0.08558037426540477\n",
      "iter_count 2 k: 0.15141629959835148\n",
      "iter_count 3 k: 0.12931613242846518\n",
      "iter_count 4 k: 0.13056867310117165\n",
      "iter_count 5 k: 0.1718104388827391\n",
      "iter_count 6 k: 0.18442177496283046\n",
      "iter_count 7 k: 0.18621326445398023\n",
      "iter_count 8 k: 0.20281090875280364\n",
      "iter_count 9 k: 0.2304197053725552\n",
      "iter_count 10 k: 0.2333570800593601\n",
      "iter_count 11 k: 0.24251280928776178\n",
      "iter_count 12 k: 0.2636684494505652\n",
      "iter_count 13 k: 0.2867227806953347\n",
      "iter_count 14 k: 0.30779773251936804\n",
      "iter_count 15 k: 0.32550875361179943\n",
      "iter_count 16 k: 0.3390587273559045\n",
      "iter_count 17 k: 0.35123170606894905\n",
      "iter_count 18 k: 0.35654898749425845\n",
      "iter_count 19 k: 0.3703279293049655\n",
      "iter_count 20 k: 0.3788695023290565\n",
      "iter_count 21 k: 0.3809564346763128\n",
      "iter_count 22 k: 0.3827434684552443\n",
      "iter_count 23 k: 0.3875786630605217\n",
      "iter_count 24 k: 0.3966382684228642\n",
      "iter_count 25 k: 0.4121586624191068\n",
      "iter_count 26 k: 0.42682094201262155\n",
      "iter_count 27 k: 0.43219977207152926\n",
      "iter_count 28 k: 0.43034616802358827\n",
      "iter_count 29 k: 0.44004891263402657\n",
      "iter_count 30 k: 0.45223885259075713\n",
      "iter_count 31 k: 0.47153304143702235\n",
      "iter_count 32 k: 0.47758067191711007\n",
      "iter_count 33 k: 0.48784419887299735\n",
      "iter_count 34 k: 0.49464390583215834\n",
      "batch_size 35\n",
      "A loop has finished in adaptive_kalman_filter.\n"
     ]
    }
   ],
   "source": [
    "check_akf = adaptive_kalman_filter(\n",
    "    data=df.loc[19999:20198, :],\n",
    "    emit_mat=emit_mat,\n",
    "    burn_in=0,\n",
    "    prior_state=check_smoother_init['states'][-1, 1:-1].astype(np.float64),\n",
    "    prior_covar=check_smoother_init['post_covar'],\n",
    "    innovation_covar=check_smoother_init['innovation_covar'],\n",
    "    prior_proc_df=check_smoother_init['post_proc_df'],\n",
    "    prior_proc_scale=check_smoother_init['post_proc_scale'],\n",
    "    prior_meas_df=check_smoother_init['post_meas_df'],\n",
    "    prior_meas_scale=check_smoother_init['post_meas_scale']\n",
    ")"
   ]
  },
  {
   "cell_type": "code",
   "execution_count": 39,
   "metadata": {
    "ExecuteTime": {
     "end_time": "2019-11-19T23:12:44.347663Z",
     "start_time": "2019-11-19T23:12:44.342764Z"
    }
   },
   "outputs": [
    {
     "name": "stdout",
     "output_type": "stream",
     "text": [
      "[array([[2.41544967e-03, 2.04717834e-04, 3.59453319e-04],\n",
      "       [2.04717834e-04, 1.99720184e-03, 5.24011671e-05],\n",
      "       [3.59453319e-04, 5.24011671e-05, 2.15376213e-03]]), array([[2.37552131e-03, 2.62089712e-04, 3.85524815e-04],\n",
      "       [2.62089712e-04, 1.91105744e-03, 7.19153378e-05],\n",
      "       [3.85524815e-04, 7.19153378e-05, 2.03634374e-03]]), array([[2.29964276e-03, 3.44709402e-04, 3.60065968e-04],\n",
      "       [3.44709402e-04, 1.88474665e-03, 4.57302726e-05],\n",
      "       [3.60065968e-04, 4.57302726e-05, 1.90372665e-03]]), array([[ 0.00254611,  0.00078019,  0.00026995],\n",
      "       [ 0.00078019,  0.00240584, -0.00013279],\n",
      "       [ 0.00026995, -0.00013279,  0.00189304]])]\n"
     ]
    }
   ],
   "source": [
    "print(check_akf['output_meas_covar'])"
   ]
  },
  {
   "cell_type": "code",
   "execution_count": 38,
   "metadata": {
    "ExecuteTime": {
     "end_time": "2019-11-19T23:12:40.222981Z",
     "start_time": "2019-11-19T23:12:40.218908Z"
    }
   },
   "outputs": [
    {
     "name": "stdout",
     "output_type": "stream",
     "text": [
      "[array([[ 1.84241311e-03, -1.06114450e-06,  2.68657090e-07],\n",
      "       [-1.06114450e-06,  1.84346771e-03, -7.85941658e-07],\n",
      "       [ 2.68657090e-07, -7.85941658e-07,  1.84213791e-03]]), array([[ 1.71895632e-03, -1.00133491e-06,  2.58076845e-07],\n",
      "       [-1.00133491e-06,  1.71997607e-03, -7.61678671e-07],\n",
      "       [ 2.58076845e-07, -7.61678671e-07,  1.71871666e-03]]), array([[ 1.58547703e-03, -9.35154373e-07,  2.44177311e-07],\n",
      "       [-9.35154373e-07,  1.58643884e-03, -7.17635195e-07],\n",
      "       [ 2.44177311e-07, -7.17635195e-07,  1.58525951e-03]]), array([[ 1.48874534e-03, -8.80848895e-07,  2.30742277e-07],\n",
      "       [-8.80848895e-07,  1.48965329e-03, -6.77207143e-07],\n",
      "       [ 2.30742277e-07, -6.77207143e-07,  1.48854170e-03]])]\n"
     ]
    }
   ],
   "source": [
    "print(check_akf['output_proc_covar'])"
   ]
  },
  {
   "cell_type": "code",
   "execution_count": 44,
   "metadata": {
    "ExecuteTime": {
     "end_time": "2019-11-20T00:06:12.507405Z",
     "start_time": "2019-11-20T00:06:12.503437Z"
    }
   },
   "outputs": [
    {
     "data": {
      "text/plain": [
       "dict_keys(['input_data', 'states', 'predicted_meas', 'post_meas_df', 'post_meas_scale', 'post_proc_df', 'post_proc_scale', 'post_covar', 'innovation_covar', 'breakpoints', 'output_meas_covar', 'output_proc_covar'])"
      ]
     },
     "execution_count": 44,
     "metadata": {},
     "output_type": "execute_result"
    }
   ],
   "source": [
    "check_akf.keys()"
   ]
  },
  {
   "cell_type": "code",
   "execution_count": 100,
   "metadata": {
    "ExecuteTime": {
     "end_time": "2019-11-20T00:20:52.482027Z",
     "start_time": "2019-11-20T00:20:52.477275Z"
    }
   },
   "outputs": [],
   "source": [
    "input_data = check_akf['input_data'].iloc[:,:-1]"
   ]
  },
  {
   "cell_type": "code",
   "execution_count": 101,
   "metadata": {
    "ExecuteTime": {
     "end_time": "2019-11-20T00:20:52.855156Z",
     "start_time": "2019-11-20T00:20:52.846348Z"
    }
   },
   "outputs": [],
   "source": [
    "predictions = pd.DataFrame(check_akf['predicted_meas'], columns=['timestamp'] + ccy_list + ['timegap'])\n",
    "predictions.iloc[:,1:-1] =predictions.iloc[:,1:-1]/100"
   ]
  },
  {
   "cell_type": "code",
   "execution_count": 103,
   "metadata": {
    "ExecuteTime": {
     "end_time": "2019-11-20T00:21:50.537921Z",
     "start_time": "2019-11-20T00:21:50.529006Z"
    }
   },
   "outputs": [],
   "source": [
    "plot_df = pd.merge(how='inner',left=input_data, right=predictions, on='timestamp', suffixes=('_raw', '_pred'))"
   ]
  },
  {
   "cell_type": "code",
   "execution_count": 116,
   "metadata": {
    "ExecuteTime": {
     "end_time": "2019-11-20T00:27:17.318271Z",
     "start_time": "2019-11-20T00:27:17.309359Z"
    }
   },
   "outputs": [
    {
     "data": {
      "text/html": [
       "<div>\n",
       "<style scoped>\n",
       "    .dataframe tbody tr th:only-of-type {\n",
       "        vertical-align: middle;\n",
       "    }\n",
       "\n",
       "    .dataframe tbody tr th {\n",
       "        vertical-align: top;\n",
       "    }\n",
       "\n",
       "    .dataframe thead th {\n",
       "        text-align: right;\n",
       "    }\n",
       "</style>\n",
       "<table border=\"1\" class=\"dataframe\">\n",
       "  <thead>\n",
       "    <tr style=\"text-align: right;\">\n",
       "      <th></th>\n",
       "      <th>timestamp</th>\n",
       "      <th>gbpjpy</th>\n",
       "      <th>gbpusd</th>\n",
       "      <th>usdjpy</th>\n",
       "    </tr>\n",
       "  </thead>\n",
       "  <tbody>\n",
       "    <tr>\n",
       "      <th>19999</th>\n",
       "      <td>2019-05-20 06:19:00</td>\n",
       "      <td>4.943940</td>\n",
       "      <td>0.241643</td>\n",
       "      <td>4.702297</td>\n",
       "    </tr>\n",
       "    <tr>\n",
       "      <th>20000</th>\n",
       "      <td>2019-05-20 06:20:00</td>\n",
       "      <td>4.943861</td>\n",
       "      <td>0.241659</td>\n",
       "      <td>4.702215</td>\n",
       "    </tr>\n",
       "    <tr>\n",
       "      <th>20001</th>\n",
       "      <td>2019-05-20 06:21:00</td>\n",
       "      <td>4.943811</td>\n",
       "      <td>0.241596</td>\n",
       "      <td>4.702224</td>\n",
       "    </tr>\n",
       "    <tr>\n",
       "      <th>20002</th>\n",
       "      <td>2019-05-20 06:22:00</td>\n",
       "      <td>4.943819</td>\n",
       "      <td>0.241636</td>\n",
       "      <td>4.702170</td>\n",
       "    </tr>\n",
       "    <tr>\n",
       "      <th>20003</th>\n",
       "      <td>2019-05-20 06:23:00</td>\n",
       "      <td>4.943747</td>\n",
       "      <td>0.241581</td>\n",
       "      <td>4.702179</td>\n",
       "    </tr>\n",
       "  </tbody>\n",
       "</table>\n",
       "</div>"
      ],
      "text/plain": [
       "                 timestamp    gbpjpy    gbpusd    usdjpy\n",
       "19999  2019-05-20 06:19:00  4.943940  0.241643  4.702297\n",
       "20000  2019-05-20 06:20:00  4.943861  0.241659  4.702215\n",
       "20001  2019-05-20 06:21:00  4.943811  0.241596  4.702224\n",
       "20002  2019-05-20 06:22:00  4.943819  0.241636  4.702170\n",
       "20003  2019-05-20 06:23:00  4.943747  0.241581  4.702179"
      ]
     },
     "execution_count": 116,
     "metadata": {},
     "output_type": "execute_result"
    }
   ],
   "source": [
    "input_data.head()"
   ]
  },
  {
   "cell_type": "code",
   "execution_count": 107,
   "metadata": {
    "ExecuteTime": {
     "end_time": "2019-11-20T00:22:15.833579Z",
     "start_time": "2019-11-20T00:22:15.821591Z"
    }
   },
   "outputs": [
    {
     "data": {
      "text/html": [
       "<div>\n",
       "<style scoped>\n",
       "    .dataframe tbody tr th:only-of-type {\n",
       "        vertical-align: middle;\n",
       "    }\n",
       "\n",
       "    .dataframe tbody tr th {\n",
       "        vertical-align: top;\n",
       "    }\n",
       "\n",
       "    .dataframe thead th {\n",
       "        text-align: right;\n",
       "    }\n",
       "</style>\n",
       "<table border=\"1\" class=\"dataframe\">\n",
       "  <thead>\n",
       "    <tr style=\"text-align: right;\">\n",
       "      <th></th>\n",
       "      <th>timestamp</th>\n",
       "      <th>gbpjpy_raw</th>\n",
       "      <th>gbpusd_raw</th>\n",
       "      <th>usdjpy_raw</th>\n",
       "      <th>gbpjpy_pred</th>\n",
       "      <th>gbpusd_pred</th>\n",
       "      <th>usdjpy_pred</th>\n",
       "      <th>timegap</th>\n",
       "    </tr>\n",
       "  </thead>\n",
       "  <tbody>\n",
       "    <tr>\n",
       "      <th>0</th>\n",
       "      <td>2019-05-20 06:20:00</td>\n",
       "      <td>4.943861</td>\n",
       "      <td>0.241659</td>\n",
       "      <td>4.702215</td>\n",
       "      <td>4.94389</td>\n",
       "      <td>0.241653</td>\n",
       "      <td>4.70224</td>\n",
       "      <td>1</td>\n",
       "    </tr>\n",
       "    <tr>\n",
       "      <th>1</th>\n",
       "      <td>2019-05-20 06:21:00</td>\n",
       "      <td>4.943811</td>\n",
       "      <td>0.241596</td>\n",
       "      <td>4.702224</td>\n",
       "      <td>4.94383</td>\n",
       "      <td>0.241607</td>\n",
       "      <td>4.70223</td>\n",
       "      <td>1</td>\n",
       "    </tr>\n",
       "    <tr>\n",
       "      <th>2</th>\n",
       "      <td>2019-05-20 06:22:00</td>\n",
       "      <td>4.943819</td>\n",
       "      <td>0.241636</td>\n",
       "      <td>4.702170</td>\n",
       "      <td>4.94382</td>\n",
       "      <td>0.241633</td>\n",
       "      <td>4.70219</td>\n",
       "      <td>1</td>\n",
       "    </tr>\n",
       "    <tr>\n",
       "      <th>3</th>\n",
       "      <td>2019-05-20 06:23:00</td>\n",
       "      <td>4.943747</td>\n",
       "      <td>0.241581</td>\n",
       "      <td>4.702179</td>\n",
       "      <td>4.94377</td>\n",
       "      <td>0.24159</td>\n",
       "      <td>4.70218</td>\n",
       "      <td>1</td>\n",
       "    </tr>\n",
       "    <tr>\n",
       "      <th>4</th>\n",
       "      <td>2019-05-20 06:24:00</td>\n",
       "      <td>4.943726</td>\n",
       "      <td>0.241588</td>\n",
       "      <td>4.702124</td>\n",
       "      <td>4.94373</td>\n",
       "      <td>0.241593</td>\n",
       "      <td>4.70214</td>\n",
       "      <td>1</td>\n",
       "    </tr>\n",
       "  </tbody>\n",
       "</table>\n",
       "</div>"
      ],
      "text/plain": [
       "             timestamp  gbpjpy_raw  gbpusd_raw  usdjpy_raw gbpjpy_pred  \\\n",
       "0  2019-05-20 06:20:00    4.943861    0.241659    4.702215     4.94389   \n",
       "1  2019-05-20 06:21:00    4.943811    0.241596    4.702224     4.94383   \n",
       "2  2019-05-20 06:22:00    4.943819    0.241636    4.702170     4.94382   \n",
       "3  2019-05-20 06:23:00    4.943747    0.241581    4.702179     4.94377   \n",
       "4  2019-05-20 06:24:00    4.943726    0.241588    4.702124     4.94373   \n",
       "\n",
       "  gbpusd_pred usdjpy_pred timegap  \n",
       "0    0.241653     4.70224       1  \n",
       "1    0.241607     4.70223       1  \n",
       "2    0.241633     4.70219       1  \n",
       "3     0.24159     4.70218       1  \n",
       "4    0.241593     4.70214       1  "
      ]
     },
     "execution_count": 107,
     "metadata": {},
     "output_type": "execute_result"
    }
   ],
   "source": [
    "plot_df.head()"
   ]
  },
  {
   "cell_type": "code",
   "execution_count": 125,
   "metadata": {
    "ExecuteTime": {
     "end_time": "2019-11-20T00:34:44.816590Z",
     "start_time": "2019-11-20T00:34:44.805240Z"
    }
   },
   "outputs": [],
   "source": [
    "gbpjpy_dict = {'gbpjpy_raw':plot_df.loc[0:-1,'gbpjpy_raw'], 'gbpjpy_pred':plot_df.loc[1:,'gbpjpy_pred']}"
   ]
  },
  {
   "cell_type": "code",
   "execution_count": 126,
   "metadata": {
    "ExecuteTime": {
     "end_time": "2019-11-20T00:34:46.924234Z",
     "start_time": "2019-11-20T00:34:46.520035Z"
    }
   },
   "outputs": [
    {
     "data": {
      "text/plain": [
       "<matplotlib.axes._subplots.AxesSubplot at 0x125de2048>"
      ]
     },
     "execution_count": 126,
     "metadata": {},
     "output_type": "execute_result"
    },
    {
     "data": {
      "image/png": "[encoded data removed]",
      "text/plain": [
       "<Figure size 720x576 with 1 Axes>"
      ]
     },
     "metadata": {},
     "output_type": "display_data"
    }
   ],
   "source": [
    "plot_multi(pd.DataFrame(gbpjpy_dict), figsize=(10, 8))"
   ]
  },
  {
   "cell_type": "code",
   "execution_count": 148,
   "metadata": {
    "ExecuteTime": {
     "end_time": "2019-11-20T00:40:28.820945Z",
     "start_time": "2019-11-20T00:40:28.810429Z"
    }
   },
   "outputs": [
    {
     "data": {
      "text/html": [
       "<div>\n",
       "<style scoped>\n",
       "    .dataframe tbody tr th:only-of-type {\n",
       "        vertical-align: middle;\n",
       "    }\n",
       "\n",
       "    .dataframe tbody tr th {\n",
       "        vertical-align: top;\n",
       "    }\n",
       "\n",
       "    .dataframe thead th {\n",
       "        text-align: right;\n",
       "    }\n",
       "</style>\n",
       "<table border=\"1\" class=\"dataframe\">\n",
       "  <thead>\n",
       "    <tr style=\"text-align: right;\">\n",
       "      <th></th>\n",
       "      <th>gbpjpy_pred</th>\n",
       "      <th>timestamp</th>\n",
       "    </tr>\n",
       "  </thead>\n",
       "  <tbody>\n",
       "    <tr>\n",
       "      <th>0</th>\n",
       "      <td>4.94389</td>\n",
       "      <td>2019-05-20 06:20:00</td>\n",
       "    </tr>\n",
       "    <tr>\n",
       "      <th>1</th>\n",
       "      <td>4.94383</td>\n",
       "      <td>2019-05-20 06:21:00</td>\n",
       "    </tr>\n",
       "    <tr>\n",
       "      <th>2</th>\n",
       "      <td>4.94382</td>\n",
       "      <td>2019-05-20 06:22:00</td>\n",
       "    </tr>\n",
       "    <tr>\n",
       "      <th>3</th>\n",
       "      <td>4.94377</td>\n",
       "      <td>2019-05-20 06:23:00</td>\n",
       "    </tr>\n",
       "    <tr>\n",
       "      <th>4</th>\n",
       "      <td>4.94373</td>\n",
       "      <td>2019-05-20 06:24:00</td>\n",
       "    </tr>\n",
       "    <tr>\n",
       "      <th>5</th>\n",
       "      <td>4.94372</td>\n",
       "      <td>2019-05-20 06:25:00</td>\n",
       "    </tr>\n",
       "  </tbody>\n",
       "</table>\n",
       "</div>"
      ],
      "text/plain": [
       "  gbpjpy_pred            timestamp\n",
       "0     4.94389  2019-05-20 06:20:00\n",
       "1     4.94383  2019-05-20 06:21:00\n",
       "2     4.94382  2019-05-20 06:22:00\n",
       "3     4.94377  2019-05-20 06:23:00\n",
       "4     4.94373  2019-05-20 06:24:00\n",
       "5     4.94372  2019-05-20 06:25:00"
      ]
     },
     "execution_count": 148,
     "metadata": {},
     "output_type": "execute_result"
    }
   ],
   "source": [
    "plot_df.loc[:5,['gbpjpy_pred', 'timestamp']]"
   ]
  },
  {
   "cell_type": "code",
   "execution_count": 141,
   "metadata": {
    "ExecuteTime": {
     "end_time": "2019-11-20T00:37:45.581603Z",
     "start_time": "2019-11-20T00:37:45.568718Z"
    }
   },
   "outputs": [
    {
     "data": {
      "text/html": [
       "<div>\n",
       "<style scoped>\n",
       "    .dataframe tbody tr th:only-of-type {\n",
       "        vertical-align: middle;\n",
       "    }\n",
       "\n",
       "    .dataframe tbody tr th {\n",
       "        vertical-align: top;\n",
       "    }\n",
       "\n",
       "    .dataframe thead th {\n",
       "        text-align: right;\n",
       "    }\n",
       "</style>\n",
       "<table border=\"1\" class=\"dataframe\">\n",
       "  <thead>\n",
       "    <tr style=\"text-align: right;\">\n",
       "      <th></th>\n",
       "      <th>gbpjpy_raw</th>\n",
       "      <th>timestamp</th>\n",
       "    </tr>\n",
       "  </thead>\n",
       "  <tbody>\n",
       "    <tr>\n",
       "      <th>0</th>\n",
       "      <td>4.943861</td>\n",
       "      <td>2019-05-20 06:20:00</td>\n",
       "    </tr>\n",
       "    <tr>\n",
       "      <th>1</th>\n",
       "      <td>4.943811</td>\n",
       "      <td>2019-05-20 06:21:00</td>\n",
       "    </tr>\n",
       "    <tr>\n",
       "      <th>2</th>\n",
       "      <td>4.943819</td>\n",
       "      <td>2019-05-20 06:22:00</td>\n",
       "    </tr>\n",
       "    <tr>\n",
       "      <th>3</th>\n",
       "      <td>4.943747</td>\n",
       "      <td>2019-05-20 06:23:00</td>\n",
       "    </tr>\n",
       "    <tr>\n",
       "      <th>4</th>\n",
       "      <td>4.943726</td>\n",
       "      <td>2019-05-20 06:24:00</td>\n",
       "    </tr>\n",
       "    <tr>\n",
       "      <th>...</th>\n",
       "      <td>...</td>\n",
       "      <td>...</td>\n",
       "    </tr>\n",
       "    <tr>\n",
       "      <th>156</th>\n",
       "      <td>4.944560</td>\n",
       "      <td>2019-05-20 08:59:00</td>\n",
       "    </tr>\n",
       "    <tr>\n",
       "      <th>157</th>\n",
       "      <td>4.944837</td>\n",
       "      <td>2019-05-20 09:00:00</td>\n",
       "    </tr>\n",
       "    <tr>\n",
       "      <th>158</th>\n",
       "      <td>4.944916</td>\n",
       "      <td>2019-05-20 09:01:00</td>\n",
       "    </tr>\n",
       "    <tr>\n",
       "      <th>159</th>\n",
       "      <td>4.944766</td>\n",
       "      <td>2019-05-20 09:02:00</td>\n",
       "    </tr>\n",
       "    <tr>\n",
       "      <th>160</th>\n",
       "      <td>4.944631</td>\n",
       "      <td>2019-05-20 09:03:00</td>\n",
       "    </tr>\n",
       "  </tbody>\n",
       "</table>\n",
       "<p>161 rows × 2 columns</p>\n",
       "</div>"
      ],
      "text/plain": [
       "     gbpjpy_raw            timestamp\n",
       "0      4.943861  2019-05-20 06:20:00\n",
       "1      4.943811  2019-05-20 06:21:00\n",
       "2      4.943819  2019-05-20 06:22:00\n",
       "3      4.943747  2019-05-20 06:23:00\n",
       "4      4.943726  2019-05-20 06:24:00\n",
       "..          ...                  ...\n",
       "156    4.944560  2019-05-20 08:59:00\n",
       "157    4.944837  2019-05-20 09:00:00\n",
       "158    4.944916  2019-05-20 09:01:00\n",
       "159    4.944766  2019-05-20 09:02:00\n",
       "160    4.944631  2019-05-20 09:03:00\n",
       "\n",
       "[161 rows x 2 columns]"
      ]
     },
     "execution_count": 141,
     "metadata": {},
     "output_type": "execute_result"
    }
   ],
   "source": [
    "plot_df.loc[-2:,['gbpjpy_raw', 'timestamp']]"
   ]
  },
  {
   "cell_type": "code",
   "execution_count": null,
   "metadata": {},
   "outputs": [],
   "source": []
  }
 ],
 "metadata": {
  "kernelspec": {
   "display_name": "Python 3",
   "language": "python",
   "name": "python3"
  },
  "language_info": {
   "codemirror_mode": {
    "name": "ipython",
    "version": 3
   },
   "file_extension": ".py",
   "mimetype": "text/x-python",
   "name": "python",
   "nbconvert_exporter": "python",
   "pygments_lexer": "ipython3",
   "version": "3.7.3"
  }
 },
 "nbformat": 4,
 "nbformat_minor": 2
}
