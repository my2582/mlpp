{
 "cells": [
  {
   "cell_type": "markdown",
   "metadata": {},
   "source": [
    "# 1. Import packages"
   ]
  },
  {
   "cell_type": "code",
   "execution_count": 73,
   "metadata": {
    "ExecuteTime": {
     "end_time": "2019-11-17T05:59:15.424830Z",
     "start_time": "2019-11-17T05:59:15.197756Z"
    }
   },
   "outputs": [],
   "source": [
    "import os\n",
    "import numpy as np\n",
    "import pandas as pd\n",
    "\n",
    "import matplotlib.pyplot as plt"
   ]
  },
  {
   "cell_type": "markdown",
   "metadata": {},
   "source": [
    "# 2. Loading a pre-processed data set"
   ]
  },
  {
   "cell_type": "code",
   "execution_count": 2,
   "metadata": {
    "ExecuteTime": {
     "end_time": "2019-11-17T04:26:44.729706Z",
     "start_time": "2019-11-17T04:26:44.681950Z"
    }
   },
   "outputs": [],
   "source": [
    "path = './dataset/toyset/'\n",
    "filename = 'processed_toyset.csv'\n",
    "df = pd.read_csv(path + filename)"
   ]
  },
  {
   "cell_type": "markdown",
   "metadata": {},
   "source": [
    "#### Define dataset row/column sizes to begin with"
   ]
  },
  {
   "cell_type": "code",
   "execution_count": 3,
   "metadata": {
    "ExecuteTime": {
     "end_time": "2019-11-17T04:26:44.735797Z",
     "start_time": "2019-11-17T04:26:44.733070Z"
    }
   },
   "outputs": [],
   "source": [
    "nrow = 3\n",
    "ncol = 3"
   ]
  },
  {
   "cell_type": "code",
   "execution_count": 4,
   "metadata": {
    "ExecuteTime": {
     "end_time": "2019-11-17T04:26:44.742219Z",
     "start_time": "2019-11-17T04:26:44.738454Z"
    }
   },
   "outputs": [],
   "source": [
    "proc_covar = 0.0001**2*np.identity(nrow)\n",
    "post_covar = proc_covar\n",
    "meas_covar = 0.0003**2*np.identity(nrow)\n",
    "pred_covar = meas_covar\n",
    "ident = np.identity(nrow)"
   ]
  },
  {
   "cell_type": "code",
   "execution_count": 5,
   "metadata": {
    "ExecuteTime": {
     "end_time": "2019-11-17T04:26:44.751487Z",
     "start_time": "2019-11-17T04:26:44.744612Z"
    }
   },
   "outputs": [],
   "source": [
    "state_old = np.ones((3, 1))\n",
    "emit_mat = np.array([[1., -1, 0.],\n",
    "                      [1.,  0, -1.],\n",
    "                      [0., -1., 1.],\n",
    "                      ])\n",
    "obs_mat = df.drop(['timestamp', 'time_gap'], axis=1)\n",
    "obs_mat = obs_mat.to_numpy()\n",
    "time_gap = df.time_gap.to_numpy().reshape(-1,1)\n",
    "\n",
    "latent_states = np.empty(shape=(df.shape[0], nrow))\n",
    "predicted_obs = np.empty(shape=(df.shape[0], nrow))"
   ]
  },
  {
   "cell_type": "markdown",
   "metadata": {},
   "source": [
    "## Kalman updates"
   ]
  },
  {
   "cell_type": "markdown",
   "metadata": {},
   "source": [
    "#### Assumptions:\n",
    "- the order of measurements is GBPJPY, GBPUSD, USDJPY.\n",
    "- the order of latent variables is GBP, JPY, USD."
   ]
  },
  {
   "cell_type": "code",
   "execution_count": 6,
   "metadata": {
    "ExecuteTime": {
     "end_time": "2019-11-17T04:26:44.757337Z",
     "start_time": "2019-11-17T04:26:44.754225Z"
    }
   },
   "outputs": [],
   "source": [
    "ccy_list = ['gbpjpy', 'gbpusd', 'usdjpy']\n",
    "latent_cols = ['GBP', 'JPY', 'USD']"
   ]
  },
  {
   "cell_type": "code",
   "execution_count": 7,
   "metadata": {
    "ExecuteTime": {
     "end_time": "2019-11-17T04:26:47.225460Z",
     "start_time": "2019-11-17T04:26:44.760068Z"
    }
   },
   "outputs": [],
   "source": [
    "for i in range(df.shape[0]):\n",
    "    post_covar = post_covar + time_gap[i]*proc_covar\n",
    "\n",
    "    # obs_mat[i,:] is a (3,) vector. So, we need flatten() to match\n",
    "    innovation = obs_mat[i, :] - (emit_mat@state_old).flatten()\n",
    "    innovation_covar = emit_mat@post_covar@(emit_mat.T) + meas_covar\n",
    "    kalman_gain = post_covar@(emit_mat.T)@np.linalg.inv(innovation_covar)\n",
    "\n",
    "    # We transpose (kalman_gain@innovation) from (3,) to (3,1)\n",
    "    state_new = state_old + (kalman_gain@innovation).reshape(-1, 1)\n",
    "    post_covar = (ident - kalman_gain@emit_mat)@post_covar\n",
    "    predicted_obs[i] = (emit_mat@state_new).T\n",
    "    latent_states[i] - state_new.T\n",
    "    state_old = state_new"
   ]
  },
  {
   "cell_type": "markdown",
   "metadata": {},
   "source": [
    "#### Remove the oldest timestamp and shift each row upward by one row.\n",
    "- e.g. If the raw dataset starts from 2019-05-01 00:00:00 at 0th element, predictions would start from 2019-05-01 00:00:01 at 0th element instead ('lead' by one minute)"
   ]
  },
  {
   "cell_type": "code",
   "execution_count": 8,
   "metadata": {
    "ExecuteTime": {
     "end_time": "2019-11-17T04:26:47.248811Z",
     "start_time": "2019-11-17T04:26:47.232530Z"
    }
   },
   "outputs": [],
   "source": [
    "new_idx = df.timestamp.shift(-1).to_numpy().reshape(-1, 1)\n",
    "predictions = np.hstack((new_idx, predicted_obs))\n",
    "latent_estimates = np.hstack((new_idx, latent_states))"
   ]
  },
  {
   "cell_type": "code",
   "execution_count": 9,
   "metadata": {
    "ExecuteTime": {
     "end_time": "2019-11-17T04:26:47.257070Z",
     "start_time": "2019-11-17T04:26:47.252468Z"
    }
   },
   "outputs": [],
   "source": [
    "assert predictions.shape[0] == predicted_obs.shape[0], \"We have some data loss.\"\n",
    "assert latent_estimates.shape[0] == latent_states.shape[0], \"We have some data loss.\""
   ]
  },
  {
   "cell_type": "markdown",
   "metadata": {},
   "source": [
    "#### Convert arrays to DataFrame instances"
   ]
  },
  {
   "cell_type": "code",
   "execution_count": 10,
   "metadata": {
    "ExecuteTime": {
     "end_time": "2019-11-17T04:26:47.277881Z",
     "start_time": "2019-11-17T04:26:47.260393Z"
    }
   },
   "outputs": [],
   "source": [
    "predictions = pd.DataFrame(predictions, columns=['timestamp'] + ccy_list)\n",
    "latent_estimates = pd.DataFrame(latent_estimates,\n",
    "                                columns=['timestampe'] + latent_cols)"
   ]
  },
  {
   "cell_type": "markdown",
   "metadata": {},
   "source": [
    "## How good are the predictions?"
   ]
  },
  {
   "cell_type": "code",
   "execution_count": null,
   "metadata": {},
   "outputs": [],
   "source": []
  },
  {
   "cell_type": "code",
   "execution_count": null,
   "metadata": {},
   "outputs": [],
   "source": []
  },
  {
   "cell_type": "code",
   "execution_count": null,
   "metadata": {},
   "outputs": [],
   "source": []
  },
  {
   "cell_type": "markdown",
   "metadata": {},
   "source": [
    "#### It's worse than the baseline. Let's see what's going on:"
   ]
  },
  {
   "cell_type": "code",
   "execution_count": null,
   "metadata": {},
   "outputs": [],
   "source": []
  },
  {
   "cell_type": "code",
   "execution_count": null,
   "metadata": {},
   "outputs": [],
   "source": []
  },
  {
   "cell_type": "code",
   "execution_count": null,
   "metadata": {},
   "outputs": [],
   "source": []
  },
  {
   "cell_type": "code",
   "execution_count": null,
   "metadata": {},
   "outputs": [],
   "source": []
  },
  {
   "cell_type": "markdown",
   "metadata": {},
   "source": [
    "As we expected, currency exchange rates are extremely volatile, and our naive approach fails. Then again, the covariance matrices are not estimated in this case, and there may be a setting that works better. But on the bright side, the graph of currency intrinsic values is really neat:"
   ]
  },
  {
   "cell_type": "code",
   "execution_count": null,
   "metadata": {},
   "outputs": [],
   "source": []
  },
  {
   "cell_type": "code",
   "execution_count": null,
   "metadata": {},
   "outputs": [],
   "source": []
  },
  {
   "cell_type": "code",
   "execution_count": null,
   "metadata": {},
   "outputs": [],
   "source": []
  },
  {
   "cell_type": "code",
   "execution_count": null,
   "metadata": {},
   "outputs": [],
   "source": []
  },
  {
   "cell_type": "code",
   "execution_count": null,
   "metadata": {},
   "outputs": [],
   "source": []
  },
  {
   "cell_type": "markdown",
   "metadata": {},
   "source": [
    "## Parameter Estimation: EM"
   ]
  },
  {
   "cell_type": "markdown",
   "metadata": {
    "ExecuteTime": {
     "end_time": "2019-11-17T04:45:16.755449Z",
     "start_time": "2019-11-17T04:45:16.744285Z"
    }
   },
   "source": [
    "So the goal of the project is to build an adaptive Kalman Filter. However, the problem is impossible at our current level, so we have to do a middle ground. A Kalman Smoother allows us to estimate the covariance matrices through the EM algorithm, but it requires using future data to predict the past. By combining a Kalman Smoother with PSIS detailed in the next section, we construct an algorithm to do filtering in a heuristic fashion."
   ]
  },
  {
   "cell_type": "markdown",
   "metadata": {},
   "source": [
    "### E step\n",
    "- The forward pass propagates through the system, given fixed covariance matrices.\n",
    "- It outputs both the predicted states and the predicted measurements."
   ]
  },
  {
   "cell_type": "code",
   "execution_count": 28,
   "metadata": {
    "ExecuteTime": {
     "end_time": "2019-11-17T05:40:10.755567Z",
     "start_time": "2019-11-17T05:40:10.750819Z"
    }
   },
   "outputs": [
    {
     "data": {
      "text/plain": [
       "array([[1., 0., 0.],\n",
       "       [0., 1., 0.],\n",
       "       [0., 0., 1.]])"
      ]
     },
     "execution_count": 28,
     "metadata": {},
     "output_type": "execute_result"
    }
   ],
   "source": [
    "ident"
   ]
  },
  {
   "cell_type": "code",
   "execution_count": 66,
   "metadata": {
    "ExecuteTime": {
     "end_time": "2019-11-17T05:56:57.924498Z",
     "start_time": "2019-11-17T05:56:57.912973Z"
    }
   },
   "outputs": [],
   "source": [
    "def forward_pass(data, initial_state, emit_mat, meas_covar, proc_covar, post_covar):\n",
    "    '''\n",
    "    Parameters:\n",
    "      data(DataFrame, ): a (batch) dataset\n",
    "    '''\n",
    "    obs_mat = data.drop(['timestamp', 'time_gap'], axis=1)\n",
    "    obs_mat = obs_mat.to_numpy()\n",
    "    time_gap = data.time_gap.to_numpy().reshape(-1,1)\n",
    "\n",
    "    latent_states = np.empty((data.shape[0], nrow))\n",
    "    predicted_obs = np.empty((data.shape[0], nrow))\n",
    "\n",
    "    state_old = initial_state    \n",
    "\n",
    "    for i in range(data.shape[0]):\n",
    "        post_covar = post_covar + time_gap[i]*proc_covar\n",
    "\n",
    "        # obs_mat[i,:] is a (3,) vector. So, we need flatten() to match\n",
    "        innovation = obs_mat[i, :] - (emit_mat@state_old).flatten()\n",
    "        innovation_covar = emit_mat@post_covar@(emit_mat.T) + meas_covar\n",
    "        kalman_gain = post_covar@(emit_mat.T)@np.linalg.inv(innovation_covar)\n",
    "\n",
    "        # We transpose (kalman_gain@innovation) from (3,) to (3,1)\n",
    "        state_new = state_old.reshape(-1, 1) + (kalman_gain@innovation).reshape(-1, 1)\n",
    "        post_covar = (ident - kalman_gain@emit_mat)@post_covar\n",
    "        predicted_obs[i] = (emit_mat@state_new).T\n",
    "        latent_states[i] = state_new.T\n",
    "        state_old = state_new\n",
    "        \n",
    "    new_idx = data.timestamp.shift(-1).to_numpy().reshape(-1, 1)\n",
    "    predicted_obs = np.array(predicted_obs)\n",
    "    latent_states = np.array(latent_states)\n",
    "    predictions = np.hstack((new_idx, predicted_obs))\n",
    "    predictions = np.hstack((predictions, time_gap))\n",
    "    latent_estimates = np.hstack((new_idx, latent_states))\n",
    "    latent_estimates = np.hstack((latent_estimates, time_gap))\n",
    "    \n",
    "    return predictions, latent_estimates, post_covar, innovation_covar\n",
    "    "
   ]
  },
  {
   "cell_type": "markdown",
   "metadata": {},
   "source": [
    "### M step"
   ]
  },
  {
   "cell_type": "code",
   "execution_count": 62,
   "metadata": {
    "ExecuteTime": {
     "end_time": "2019-11-17T05:56:27.704236Z",
     "start_time": "2019-11-17T05:56:27.694850Z"
    }
   },
   "outputs": [],
   "source": [
    "def update_proc_scale(latent_estimates):\n",
    "    '''\n",
    "    Takes the scale matrix of the propagated states.\n",
    "    But we have to take into account the uneven time gaps.\n",
    "    '''\n",
    "    # drop any row with na\n",
    "    latent_estimates = latent_estimates.dropna(how='any')\n",
    "    time_gap = latent_estimates.time_gap\n",
    "    \n",
    "    # drop two columns\n",
    "    latent_estimates = latent_estimates.drop(['timestamp', 'time_gap'], axis=1)\n",
    "\n",
    "    sample_means = [np.average(latent_estimates[ccy], weights=time_gap) for ccy in latent_cols]\n",
    "    latent_estimates = latent_estimates[latent_cols] - sample_means\n",
    "    \n",
    "    return (latent_estimates.T)@latent_estimates\n",
    "\n",
    "def update_meas_scale(pred, obs):\n",
    "    '''\n",
    "    Gets us the observed scale matrix through (biased) MLE.\n",
    "    The debiasing is done by supplying the correct df to the invWishart\n",
    "    '''\n",
    "    unique_timestamp = np.sort(np.unique(np.union1d(pred['timestamp'].dropna(\n",
    "        how='any').to_numpy(), obs['timestamp'].dropna(how='any').to_numpy())))\n",
    "\n",
    "    obs_mat = obs[np.isin(obs.timestamp, unique_timestamp)]\n",
    "    pred_mat = pred[np.isin(pred.timestamp, unique_timestamp)]\n",
    "\n",
    "    obs_pred_mat = pd.merge(left=obs_mat, right=pred_mat,\n",
    "                            how='inner', on='timestamp', suffixes=('_obs', '_pred'))\n",
    "\n",
    "    ccy_list_obs = [ccy+'_obs' for ccy in ccy_list]\n",
    "    ccy_list_pred = [ccy+'_pred' for ccy in ccy_list]\n",
    "\n",
    "    error_mat = np.array(obs_pred_mat[ccy_list_pred], dtype=float) - np.array(obs_pred_mat[ccy_list_obs], dtype=float) \n",
    "    return (error_mat.T)@error_mat"
   ]
  },
  {
   "cell_type": "code",
   "execution_count": 63,
   "metadata": {
    "ExecuteTime": {
     "end_time": "2019-11-17T05:56:27.923198Z",
     "start_time": "2019-11-17T05:56:27.920889Z"
    }
   },
   "outputs": [],
   "source": [
    "# check.append(update_proc_covar(check[1]))\n",
    "# check.append(update_meas_scale(pred=check[0], obs=training[:100]))"
   ]
  },
  {
   "cell_type": "markdown",
   "metadata": {},
   "source": [
    "### EM"
   ]
  },
  {
   "cell_type": "code",
   "execution_count": 67,
   "metadata": {
    "ExecuteTime": {
     "end_time": "2019-11-17T05:57:01.026616Z",
     "start_time": "2019-11-17T05:57:01.017430Z"
    }
   },
   "outputs": [],
   "source": [
    "def kalman_smoother(data, prior_state, meas_mat, post_covar, prior_meas_df, prior_meas_scale, prior_proc_df, prior_proc_scale):\n",
    "    '''\n",
    "    Runs the smoother on a time block through EM\n",
    "    '''\n",
    "    nrow = data.shape[0]\n",
    "    predicted_measurements, states, post_covar, innovation_covar = \\\n",
    "        forward_pass(data=data, initial_state=prior_state,\n",
    "                     emit_mat=meas_mat, meas_cover=prior_meas_scale/prior_meas_df,\n",
    "                     proc_covar=prior_proc_scale/prior_proc_df,\n",
    "                     post_covar=post_covar)\n",
    "\n",
    "    post_proc_scale = update_proc_scale(states)\n",
    "    post_meas_scale = update_meas_scale(pred=predicted_measurements, obs=data)\n",
    "\n",
    "    old_proc_scale = post_proc_scale*2\n",
    "    old_meas_scale = post_meas_scale*2\n",
    "\n",
    "    while np.sqrt(np.sum(((old_proc_scale - post_proc_scale)/nrow)**2) +\n",
    "                  np.sum(((meas_covar_old-meas_covar_new)/nrow)**2)) > 10**(-12):\n",
    "        print(np.sum(((old_proc_scale - post_proc_scale)/nrow)**2 +\n",
    "                     np.sum(((meas_covar_old-meas_covar_new)/nrow)**2)))\n",
    "\n",
    "        old_meas_scale = post_meas_scale\n",
    "        old_proc_scale = post_proc_scale\n",
    "\n",
    "        predicted_measurements, states, post_covar, innovation_covar = \\\n",
    "            forward_pass(data=data, initial_state=prior_state,\n",
    "                         emit_mat=meas_mat, meas_cover=post_meas_scale/nrow,\n",
    "                         proc_covar=post_proc_scale/nrow,\n",
    "                         post_covar=post_covar)\n",
    "\n",
    "        post_proc_scale = update_proc_scale(states)\n",
    "        post_meas_scale = update_meas_scale(pred=predicted_measurements, obs=data)\n",
    "\n",
    "    post_proc_sf = prior_proc_df + nrow - emit_mat.shape[1]\n",
    "    post_meas_df = prior_meas_df + nrow - emit_mat.shape[0]\n",
    "\n",
    "    return data, states, predicted_measurements, post_meas_df, \\\n",
    "        prior_meas_scale + post_meas_scale, post_proc_df, \\\n",
    "        prior_proc_scale + post_proc_scale, post_covar, innovation_covar"
   ]
  },
  {
   "cell_type": "code",
   "execution_count": 68,
   "metadata": {
    "ExecuteTime": {
     "end_time": "2019-11-17T05:57:01.332640Z",
     "start_time": "2019-11-17T05:57:01.316066Z"
    }
   },
   "outputs": [
    {
     "name": "stdout",
     "output_type": "stream",
     "text": [
      "predicted_obs (100, 3)\n",
      "latent_states (100, 3)\n",
      "new_idx (100, 1)\n",
      "time_gap (100, 1)\n"
     ]
    }
   ],
   "source": [
    "training = df.loc[:100, :]\n",
    "\n",
    "predictions, _, _, _ = forward_pass(data=training[:100],\n",
    "                                    initial_state=np.array([2.7, -2.2, 2.5]),\n",
    "                                    emit_mat=emit_mat,\n",
    "                                    meas_covar=0.01*np.identity(nrow),\n",
    "                                    proc_covar=0.001*np.identity(nrow),\n",
    "                                    post_covar=0.001*np.identity(nrow))\n",
    "\n",
    "# Convert to pandas Data Frame\n",
    "predictions = pd.DataFrame(predictions,\n",
    "                           columns=['timestamp'] + ccy_list + ['time_gap'])\n",
    "\n",
    "\n",
    "# check = []\n",
    "# check.append(predictions)\n",
    "# check.append(latent_estimates)\n"
   ]
  },
  {
   "cell_type": "code",
   "execution_count": 69,
   "metadata": {
    "ExecuteTime": {
     "end_time": "2019-11-17T05:58:28.586735Z",
     "start_time": "2019-11-17T05:58:28.573799Z"
    }
   },
   "outputs": [
    {
     "data": {
      "text/html": [
       "<div>\n",
       "<style scoped>\n",
       "    .dataframe tbody tr th:only-of-type {\n",
       "        vertical-align: middle;\n",
       "    }\n",
       "\n",
       "    .dataframe tbody tr th {\n",
       "        vertical-align: top;\n",
       "    }\n",
       "\n",
       "    .dataframe thead th {\n",
       "        text-align: right;\n",
       "    }\n",
       "</style>\n",
       "<table border=\"1\" class=\"dataframe\">\n",
       "  <thead>\n",
       "    <tr style=\"text-align: right;\">\n",
       "      <th></th>\n",
       "      <th>timestamp</th>\n",
       "      <th>gbpjpy</th>\n",
       "      <th>gbpusd</th>\n",
       "      <th>usdjpy</th>\n",
       "      <th>time_gap</th>\n",
       "    </tr>\n",
       "  </thead>\n",
       "  <tbody>\n",
       "    <tr>\n",
       "      <th>0</th>\n",
       "      <td>2019-05-01 00:01:00</td>\n",
       "      <td>4.92991</td>\n",
       "      <td>0.224655</td>\n",
       "      <td>4.70526</td>\n",
       "      <td>1</td>\n",
       "    </tr>\n",
       "    <tr>\n",
       "      <th>1</th>\n",
       "      <td>2019-05-01 00:02:00</td>\n",
       "      <td>4.95001</td>\n",
       "      <td>0.241215</td>\n",
       "      <td>4.70879</td>\n",
       "      <td>1</td>\n",
       "    </tr>\n",
       "    <tr>\n",
       "      <th>2</th>\n",
       "      <td>2019-05-01 00:03:00</td>\n",
       "      <td>4.96229</td>\n",
       "      <td>0.251342</td>\n",
       "      <td>4.71095</td>\n",
       "      <td>1</td>\n",
       "    </tr>\n",
       "    <tr>\n",
       "      <th>3</th>\n",
       "      <td>2019-05-01 00:04:00</td>\n",
       "      <td>4.96957</td>\n",
       "      <td>0.257337</td>\n",
       "      <td>4.71223</td>\n",
       "      <td>1</td>\n",
       "    </tr>\n",
       "    <tr>\n",
       "      <th>4</th>\n",
       "      <td>2019-05-01 00:05:00</td>\n",
       "      <td>4.97383</td>\n",
       "      <td>0.260847</td>\n",
       "      <td>4.71298</td>\n",
       "      <td>1</td>\n",
       "    </tr>\n",
       "    <tr>\n",
       "      <th>...</th>\n",
       "      <td>...</td>\n",
       "      <td>...</td>\n",
       "      <td>...</td>\n",
       "      <td>...</td>\n",
       "      <td>...</td>\n",
       "    </tr>\n",
       "    <tr>\n",
       "      <th>95</th>\n",
       "      <td>2019-05-01 01:36:00</td>\n",
       "      <td>4.97977</td>\n",
       "      <td>0.265748</td>\n",
       "      <td>4.71402</td>\n",
       "      <td>1</td>\n",
       "    </tr>\n",
       "    <tr>\n",
       "      <th>96</th>\n",
       "      <td>2019-05-01 01:37:00</td>\n",
       "      <td>4.97977</td>\n",
       "      <td>0.265748</td>\n",
       "      <td>4.71402</td>\n",
       "      <td>1</td>\n",
       "    </tr>\n",
       "    <tr>\n",
       "      <th>97</th>\n",
       "      <td>2019-05-01 01:38:00</td>\n",
       "      <td>4.97977</td>\n",
       "      <td>0.265748</td>\n",
       "      <td>4.71402</td>\n",
       "      <td>1</td>\n",
       "    </tr>\n",
       "    <tr>\n",
       "      <th>98</th>\n",
       "      <td>2019-05-01 01:39:00</td>\n",
       "      <td>4.97977</td>\n",
       "      <td>0.265748</td>\n",
       "      <td>4.71402</td>\n",
       "      <td>1</td>\n",
       "    </tr>\n",
       "    <tr>\n",
       "      <th>99</th>\n",
       "      <td>NaN</td>\n",
       "      <td>4.97977</td>\n",
       "      <td>0.265748</td>\n",
       "      <td>4.71402</td>\n",
       "      <td>1</td>\n",
       "    </tr>\n",
       "  </tbody>\n",
       "</table>\n",
       "<p>100 rows × 5 columns</p>\n",
       "</div>"
      ],
      "text/plain": [
       "              timestamp   gbpjpy    gbpusd   usdjpy time_gap\n",
       "0   2019-05-01 00:01:00  4.92991  0.224655  4.70526        1\n",
       "1   2019-05-01 00:02:00  4.95001  0.241215  4.70879        1\n",
       "2   2019-05-01 00:03:00  4.96229  0.251342  4.71095        1\n",
       "3   2019-05-01 00:04:00  4.96957  0.257337  4.71223        1\n",
       "4   2019-05-01 00:05:00  4.97383  0.260847  4.71298        1\n",
       "..                  ...      ...       ...      ...      ...\n",
       "95  2019-05-01 01:36:00  4.97977  0.265748  4.71402        1\n",
       "96  2019-05-01 01:37:00  4.97977  0.265748  4.71402        1\n",
       "97  2019-05-01 01:38:00  4.97977  0.265748  4.71402        1\n",
       "98  2019-05-01 01:39:00  4.97977  0.265748  4.71402        1\n",
       "99                  NaN  4.97977  0.265748  4.71402        1\n",
       "\n",
       "[100 rows x 5 columns]"
      ]
     },
     "execution_count": 69,
     "metadata": {},
     "output_type": "execute_result"
    }
   ],
   "source": [
    "predictions"
   ]
  },
  {
   "cell_type": "code",
   "execution_count": 75,
   "metadata": {
    "ExecuteTime": {
     "end_time": "2019-11-17T06:00:16.059452Z",
     "start_time": "2019-11-17T06:00:16.048485Z"
    }
   },
   "outputs": [],
   "source": [
    "# Code: https://stackoverflow.com/questions/11640243/pandas-plot-multiple-y-axes\n",
    "def plot_multi(data, cols=None, spacing=.1, **kwargs):\n",
    "\n",
    "    from pandas import plotting\n",
    "\n",
    "    # Get default color style from pandas - can be changed to any other color list\n",
    "    if cols is None: cols = data.columns\n",
    "    if len(cols) == 0: return\n",
    "    colors = getattr(getattr(plotting, '_matplotlib').style, '_get_standard_colors')(num_colors=len(cols))\n",
    "\n",
    "    # First axis\n",
    "    ax = data.loc[:, cols[0]].plot(label=cols[0], color=colors[0], **kwargs)\n",
    "    ax.set_ylabel(ylabel=cols[0])\n",
    "    ax.tick_params(axis='y', colors=colors[0])\n",
    "    lines, labels = ax.get_legend_handles_labels()\n",
    "\n",
    "    for n in range(1, len(cols)):\n",
    "        # Multiple y-axes\n",
    "        ax_new = ax.twinx()\n",
    "        ax_new.spines['right'].set_position(('axes', 1 + spacing * (n - 1)))\n",
    "        data.loc[:, cols[n]].plot(ax=ax_new, label=cols[n], color=colors[n % len(colors)])\n",
    "        ax_new.set_ylabel(ylabel=cols[n])\n",
    "        ax_new.tick_params(axis='y', colors=colors[n % len(colors)])\n",
    "\n",
    "        # Proper legend position\n",
    "        line, label = ax_new.get_legend_handles_labels()\n",
    "        lines += line\n",
    "        labels += label\n",
    "\n",
    "    ax.legend(lines, labels, loc=0)\n",
    "    return ax"
   ]
  },
  {
   "cell_type": "code",
   "execution_count": 76,
   "metadata": {
    "ExecuteTime": {
     "end_time": "2019-11-17T06:00:29.832346Z",
     "start_time": "2019-11-17T06:00:29.819590Z"
    }
   },
   "outputs": [
    {
     "data": {
      "text/html": [
       "<div>\n",
       "<style scoped>\n",
       "    .dataframe tbody tr th:only-of-type {\n",
       "        vertical-align: middle;\n",
       "    }\n",
       "\n",
       "    .dataframe tbody tr th {\n",
       "        vertical-align: top;\n",
       "    }\n",
       "\n",
       "    .dataframe thead th {\n",
       "        text-align: right;\n",
       "    }\n",
       "</style>\n",
       "<table border=\"1\" class=\"dataframe\">\n",
       "  <thead>\n",
       "    <tr style=\"text-align: right;\">\n",
       "      <th></th>\n",
       "      <th>timestamp</th>\n",
       "      <th>gbpjpy</th>\n",
       "      <th>gbpusd</th>\n",
       "      <th>usdjpy</th>\n",
       "      <th>time_gap</th>\n",
       "    </tr>\n",
       "  </thead>\n",
       "  <tbody>\n",
       "    <tr>\n",
       "      <th>0</th>\n",
       "      <td>2019-05-01 00:01:00</td>\n",
       "      <td>4.92991</td>\n",
       "      <td>0.224655</td>\n",
       "      <td>4.70526</td>\n",
       "      <td>1</td>\n",
       "    </tr>\n",
       "    <tr>\n",
       "      <th>1</th>\n",
       "      <td>2019-05-01 00:02:00</td>\n",
       "      <td>4.95001</td>\n",
       "      <td>0.241215</td>\n",
       "      <td>4.70879</td>\n",
       "      <td>1</td>\n",
       "    </tr>\n",
       "    <tr>\n",
       "      <th>2</th>\n",
       "      <td>2019-05-01 00:03:00</td>\n",
       "      <td>4.96229</td>\n",
       "      <td>0.251342</td>\n",
       "      <td>4.71095</td>\n",
       "      <td>1</td>\n",
       "    </tr>\n",
       "    <tr>\n",
       "      <th>3</th>\n",
       "      <td>2019-05-01 00:04:00</td>\n",
       "      <td>4.96957</td>\n",
       "      <td>0.257337</td>\n",
       "      <td>4.71223</td>\n",
       "      <td>1</td>\n",
       "    </tr>\n",
       "    <tr>\n",
       "      <th>4</th>\n",
       "      <td>2019-05-01 00:05:00</td>\n",
       "      <td>4.97383</td>\n",
       "      <td>0.260847</td>\n",
       "      <td>4.71298</td>\n",
       "      <td>1</td>\n",
       "    </tr>\n",
       "    <tr>\n",
       "      <th>...</th>\n",
       "      <td>...</td>\n",
       "      <td>...</td>\n",
       "      <td>...</td>\n",
       "      <td>...</td>\n",
       "      <td>...</td>\n",
       "    </tr>\n",
       "    <tr>\n",
       "      <th>95</th>\n",
       "      <td>2019-05-01 01:36:00</td>\n",
       "      <td>4.97977</td>\n",
       "      <td>0.265748</td>\n",
       "      <td>4.71402</td>\n",
       "      <td>1</td>\n",
       "    </tr>\n",
       "    <tr>\n",
       "      <th>96</th>\n",
       "      <td>2019-05-01 01:37:00</td>\n",
       "      <td>4.97977</td>\n",
       "      <td>0.265748</td>\n",
       "      <td>4.71402</td>\n",
       "      <td>1</td>\n",
       "    </tr>\n",
       "    <tr>\n",
       "      <th>97</th>\n",
       "      <td>2019-05-01 01:38:00</td>\n",
       "      <td>4.97977</td>\n",
       "      <td>0.265748</td>\n",
       "      <td>4.71402</td>\n",
       "      <td>1</td>\n",
       "    </tr>\n",
       "    <tr>\n",
       "      <th>98</th>\n",
       "      <td>2019-05-01 01:39:00</td>\n",
       "      <td>4.97977</td>\n",
       "      <td>0.265748</td>\n",
       "      <td>4.71402</td>\n",
       "      <td>1</td>\n",
       "    </tr>\n",
       "    <tr>\n",
       "      <th>99</th>\n",
       "      <td>NaN</td>\n",
       "      <td>4.97977</td>\n",
       "      <td>0.265748</td>\n",
       "      <td>4.71402</td>\n",
       "      <td>1</td>\n",
       "    </tr>\n",
       "  </tbody>\n",
       "</table>\n",
       "<p>100 rows × 5 columns</p>\n",
       "</div>"
      ],
      "text/plain": [
       "              timestamp   gbpjpy    gbpusd   usdjpy time_gap\n",
       "0   2019-05-01 00:01:00  4.92991  0.224655  4.70526        1\n",
       "1   2019-05-01 00:02:00  4.95001  0.241215  4.70879        1\n",
       "2   2019-05-01 00:03:00  4.96229  0.251342  4.71095        1\n",
       "3   2019-05-01 00:04:00  4.96957  0.257337  4.71223        1\n",
       "4   2019-05-01 00:05:00  4.97383  0.260847  4.71298        1\n",
       "..                  ...      ...       ...      ...      ...\n",
       "95  2019-05-01 01:36:00  4.97977  0.265748  4.71402        1\n",
       "96  2019-05-01 01:37:00  4.97977  0.265748  4.71402        1\n",
       "97  2019-05-01 01:38:00  4.97977  0.265748  4.71402        1\n",
       "98  2019-05-01 01:39:00  4.97977  0.265748  4.71402        1\n",
       "99                  NaN  4.97977  0.265748  4.71402        1\n",
       "\n",
       "[100 rows x 5 columns]"
      ]
     },
     "execution_count": 76,
     "metadata": {},
     "output_type": "execute_result"
    }
   ],
   "source": [
    "predictions"
   ]
  },
  {
   "cell_type": "code",
   "execution_count": 78,
   "metadata": {
    "ExecuteTime": {
     "end_time": "2019-11-17T06:01:09.320569Z",
     "start_time": "2019-11-17T06:01:08.830832Z"
    }
   },
   "outputs": [
    {
     "data": {
      "text/plain": [
       "<matplotlib.axes._subplots.AxesSubplot at 0x122e41940>"
      ]
     },
     "execution_count": 78,
     "metadata": {},
     "output_type": "execute_result"
    },
    {
     "data": {
      "image/png": "[encoded data removed]",
      "text/plain": [
       "<Figure size 432x288 with 3 Axes>"
      ]
     },
     "metadata": {},
     "output_type": "display_data"
    }
   ],
   "source": [
    "plot_multi(predictions.loc[:, ['gbpjpy', 'gbpusd', 'usdjpy']])"
   ]
  },
  {
   "cell_type": "code",
   "execution_count": null,
   "metadata": {},
   "outputs": [],
   "source": []
  }
 ],
 "metadata": {
  "kernelspec": {
   "display_name": "Python 3",
   "language": "python",
   "name": "python3"
  },
  "language_info": {
   "codemirror_mode": {
    "name": "ipython",
    "version": 3
   },
   "file_extension": ".py",
   "mimetype": "text/x-python",
   "name": "python",
   "nbconvert_exporter": "python",
   "pygments_lexer": "ipython3",
   "version": "3.7.3"
  }
 },
 "nbformat": 4,
 "nbformat_minor": 2
}
