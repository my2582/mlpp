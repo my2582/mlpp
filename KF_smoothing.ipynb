{
 "cells": [
  {
   "cell_type": "markdown",
   "metadata": {},
   "source": [
    "# 1. Import packages"
   ]
  },
  {
   "cell_type": "code",
   "execution_count": 1,
   "metadata": {
    "ExecuteTime": {
     "end_time": "2019-11-17T21:43:50.286752Z",
     "start_time": "2019-11-17T21:43:49.693069Z"
    }
   },
   "outputs": [],
   "source": [
    "import os\n",
    "import numpy as np\n",
    "import pandas as pd\n",
    "\n",
    "import matplotlib.pyplot as plt"
   ]
  },
  {
   "cell_type": "markdown",
   "metadata": {},
   "source": [
    "# 2. Loading a pre-processed data set"
   ]
  },
  {
   "cell_type": "code",
   "execution_count": 2,
   "metadata": {
    "ExecuteTime": {
     "end_time": "2019-11-17T21:43:50.331752Z",
     "start_time": "2019-11-17T21:43:50.289247Z"
    }
   },
   "outputs": [],
   "source": [
    "path = './dataset/toyset/'\n",
    "filename = 'processed_toyset.csv'\n",
    "df = pd.read_csv(path + filename)"
   ]
  },
  {
   "cell_type": "markdown",
   "metadata": {},
   "source": [
    "#### Define dataset row/column sizes to begin with"
   ]
  },
  {
   "cell_type": "code",
   "execution_count": 3,
   "metadata": {
    "ExecuteTime": {
     "end_time": "2019-11-17T21:43:50.337703Z",
     "start_time": "2019-11-17T21:43:50.335092Z"
    }
   },
   "outputs": [],
   "source": [
    "# df.loc[:, 'gbpusd'] = df.loc[:, 'gbpusd']*50\n",
    "# df.loc[:, 'gbpjpy'] = df.loc[:, 'gbpjpy']*3\n",
    "# df.loc[:, 'usdjpy'] = df.loc[:, 'usdjpy']*3"
   ]
  },
  {
   "cell_type": "code",
   "execution_count": 4,
   "metadata": {
    "ExecuteTime": {
     "end_time": "2019-11-17T21:43:50.343690Z",
     "start_time": "2019-11-17T21:43:50.340880Z"
    }
   },
   "outputs": [],
   "source": [
    "nrow = 3\n",
    "ncol = 3"
   ]
  },
  {
   "cell_type": "code",
   "execution_count": 5,
   "metadata": {
    "ExecuteTime": {
     "end_time": "2019-11-17T21:43:50.349778Z",
     "start_time": "2019-11-17T21:43:50.345967Z"
    }
   },
   "outputs": [],
   "source": [
    "proc_covar = 0.0001**2*np.identity(nrow)\n",
    "post_covar = proc_covar\n",
    "meas_covar = 0.0003**2*np.identity(nrow)\n",
    "pred_covar = meas_covar\n",
    "ident = np.identity(nrow)"
   ]
  },
  {
   "cell_type": "code",
   "execution_count": 6,
   "metadata": {
    "ExecuteTime": {
     "end_time": "2019-11-17T21:43:50.360608Z",
     "start_time": "2019-11-17T21:43:50.352276Z"
    }
   },
   "outputs": [],
   "source": [
    "state_old = np.ones((3, 1), dtype=np.float64)\n",
    "emit_mat = np.array([[1., -1, 0.],\n",
    "                      [1.,  0, -1.],\n",
    "                      [0., -1., 1.],\n",
    "                      ], dtype=np.float64)\n",
    "obs_mat = df.drop(['timestamp', 'time_gap'], axis=1)\n",
    "obs_mat = obs_mat.to_numpy()\n",
    "time_gap = df.time_gap.to_numpy().reshape(-1,1)\n",
    "\n",
    "latent_states = np.empty(shape=(df.shape[0], nrow), dtype=np.float64)\n",
    "predicted_obs = np.empty(shape=(df.shape[0], nrow), dtype=np.float64)"
   ]
  },
  {
   "cell_type": "markdown",
   "metadata": {},
   "source": [
    "## Kalman updates"
   ]
  },
  {
   "cell_type": "markdown",
   "metadata": {},
   "source": [
    "#### Assumptions:\n",
    "- the order of measurements is GBPJPY, GBPUSD, USDJPY.\n",
    "- the order of latent variables is GBP, JPY, USD."
   ]
  },
  {
   "cell_type": "code",
   "execution_count": 7,
   "metadata": {
    "ExecuteTime": {
     "end_time": "2019-11-17T21:43:50.365587Z",
     "start_time": "2019-11-17T21:43:50.362975Z"
    }
   },
   "outputs": [],
   "source": [
    "ccy_list = ['gbpjpy', 'gbpusd', 'usdjpy']\n",
    "latent_cols = ['GBP', 'JPY', 'USD']"
   ]
  },
  {
   "cell_type": "code",
   "execution_count": 8,
   "metadata": {
    "ExecuteTime": {
     "end_time": "2019-11-17T21:43:51.959059Z",
     "start_time": "2019-11-17T21:43:50.370234Z"
    }
   },
   "outputs": [],
   "source": [
    "for i in range(df.shape[0]):\n",
    "    post_covar = post_covar + time_gap[i]*proc_covar\n",
    "\n",
    "    # obs_mat[i,:] is a (3,) vector. So, we need flatten() to match\n",
    "    innovation = obs_mat[i, :] - (emit_mat@state_old).flatten()\n",
    "    innovation_covar = emit_mat@post_covar@(emit_mat.T) + meas_covar\n",
    "    kalman_gain = post_covar@(emit_mat.T)@np.linalg.inv(innovation_covar)\n",
    "\n",
    "    # We transpose (kalman_gain@innovation) from (3,) to (3,1)\n",
    "    state_new = state_old + (kalman_gain@innovation).reshape(-1, 1)\n",
    "    post_covar = (ident - kalman_gain@emit_mat)@post_covar\n",
    "    predicted_obs[i] = (emit_mat@state_new).T\n",
    "    latent_states[i] - state_new.T\n",
    "    state_old = state_new"
   ]
  },
  {
   "cell_type": "markdown",
   "metadata": {},
   "source": [
    "#### Remove the oldest timestamp and shift each row upward by one row.\n",
    "- e.g. If the raw dataset starts from 2019-05-01 00:00:00 at 0th element, predictions would start from 2019-05-01 00:00:01 at 0th element instead ('lead' by one minute)"
   ]
  },
  {
   "cell_type": "code",
   "execution_count": 9,
   "metadata": {
    "ExecuteTime": {
     "end_time": "2019-11-17T21:43:51.972855Z",
     "start_time": "2019-11-17T21:43:51.962510Z"
    }
   },
   "outputs": [],
   "source": [
    "new_idx = df.timestamp.shift(-1).to_numpy().reshape(-1, 1)\n",
    "predictions = np.hstack((new_idx, predicted_obs))\n",
    "latent_estimates = np.hstack((new_idx, latent_states))"
   ]
  },
  {
   "cell_type": "code",
   "execution_count": 10,
   "metadata": {
    "ExecuteTime": {
     "end_time": "2019-11-17T21:43:51.980620Z",
     "start_time": "2019-11-17T21:43:51.974849Z"
    }
   },
   "outputs": [],
   "source": [
    "assert predictions.shape[0] == predicted_obs.shape[0], \"We have some data loss.\"\n",
    "assert latent_estimates.shape[0] == latent_states.shape[0], \"We have some data loss.\""
   ]
  },
  {
   "cell_type": "markdown",
   "metadata": {},
   "source": [
    "#### Convert arrays to DataFrame instances"
   ]
  },
  {
   "cell_type": "code",
   "execution_count": 11,
   "metadata": {
    "ExecuteTime": {
     "end_time": "2019-11-17T21:43:51.994137Z",
     "start_time": "2019-11-17T21:43:51.982915Z"
    }
   },
   "outputs": [],
   "source": [
    "predictions = pd.DataFrame(predictions, columns=['timestamp'] + ccy_list)\n",
    "latent_estimates = pd.DataFrame(latent_estimates,\n",
    "                                columns=['timestampe'] + latent_cols)"
   ]
  },
  {
   "cell_type": "markdown",
   "metadata": {},
   "source": [
    "## How good are the predictions?"
   ]
  },
  {
   "cell_type": "code",
   "execution_count": null,
   "metadata": {},
   "outputs": [],
   "source": []
  },
  {
   "cell_type": "code",
   "execution_count": null,
   "metadata": {},
   "outputs": [],
   "source": []
  },
  {
   "cell_type": "code",
   "execution_count": null,
   "metadata": {},
   "outputs": [],
   "source": []
  },
  {
   "cell_type": "markdown",
   "metadata": {},
   "source": [
    "#### It's worse than the baseline. Let's see what's going on:"
   ]
  },
  {
   "cell_type": "code",
   "execution_count": null,
   "metadata": {},
   "outputs": [],
   "source": []
  },
  {
   "cell_type": "code",
   "execution_count": null,
   "metadata": {},
   "outputs": [],
   "source": []
  },
  {
   "cell_type": "code",
   "execution_count": null,
   "metadata": {},
   "outputs": [],
   "source": []
  },
  {
   "cell_type": "code",
   "execution_count": null,
   "metadata": {},
   "outputs": [],
   "source": []
  },
  {
   "cell_type": "markdown",
   "metadata": {},
   "source": [
    "As we expected, currency exchange rates are extremely volatile, and our naive approach fails. Then again, the covariance matrices are not estimated in this case, and there may be a setting that works better. But on the bright side, the graph of currency intrinsic values is really neat:"
   ]
  },
  {
   "cell_type": "code",
   "execution_count": null,
   "metadata": {},
   "outputs": [],
   "source": []
  },
  {
   "cell_type": "code",
   "execution_count": null,
   "metadata": {},
   "outputs": [],
   "source": []
  },
  {
   "cell_type": "code",
   "execution_count": null,
   "metadata": {},
   "outputs": [],
   "source": []
  },
  {
   "cell_type": "code",
   "execution_count": null,
   "metadata": {},
   "outputs": [],
   "source": []
  },
  {
   "cell_type": "code",
   "execution_count": null,
   "metadata": {},
   "outputs": [],
   "source": []
  },
  {
   "cell_type": "markdown",
   "metadata": {},
   "source": [
    "## Parameter Estimation: EM"
   ]
  },
  {
   "cell_type": "markdown",
   "metadata": {
    "ExecuteTime": {
     "end_time": "2019-11-17T04:45:16.755449Z",
     "start_time": "2019-11-17T04:45:16.744285Z"
    }
   },
   "source": [
    "So the goal of the project is to build an adaptive Kalman Filter. However, the problem is impossible at our current level, so we have to do a middle ground. A Kalman Smoother allows us to estimate the covariance matrices through the EM algorithm, but it requires using future data to predict the past. By combining a Kalman Smoother with PSIS detailed in the next section, we construct an algorithm to do filtering in a heuristic fashion."
   ]
  },
  {
   "cell_type": "markdown",
   "metadata": {},
   "source": [
    "### E step\n",
    "- The forward pass propagates through the system, given fixed covariance matrices.\n",
    "- It outputs both the predicted states and the predicted measurements."
   ]
  },
  {
   "cell_type": "code",
   "execution_count": 12,
   "metadata": {
    "ExecuteTime": {
     "end_time": "2019-11-17T21:43:52.001908Z",
     "start_time": "2019-11-17T21:43:51.996417Z"
    }
   },
   "outputs": [
    {
     "data": {
      "text/plain": [
       "array([[1., 0., 0.],\n",
       "       [0., 1., 0.],\n",
       "       [0., 0., 1.]])"
      ]
     },
     "execution_count": 12,
     "metadata": {},
     "output_type": "execute_result"
    }
   ],
   "source": [
    "ident"
   ]
  },
  {
   "cell_type": "code",
   "execution_count": 13,
   "metadata": {
    "ExecuteTime": {
     "end_time": "2019-11-17T21:43:52.016840Z",
     "start_time": "2019-11-17T21:43:52.004733Z"
    }
   },
   "outputs": [],
   "source": [
    "def forward_pass(data, initial_state, emit_mat, meas_covar, proc_covar, post_covar):\n",
    "    '''\n",
    "    Parameters:\n",
    "      data(DataFrame, ): a (batch) dataset\n",
    "    '''\n",
    "    obs_mat = data.drop(['timestamp', 'time_gap'], axis=1)\n",
    "    obs_mat = obs_mat.to_numpy()\n",
    "    time_gap = data.time_gap.to_numpy().reshape(-1,1)\n",
    "\n",
    "    latent_states = np.empty((data.shape[0], nrow))\n",
    "    predicted_obs = np.empty((data.shape[0], nrow))\n",
    "\n",
    "    state_old = initial_state    \n",
    "\n",
    "    for i in range(data.shape[0]):\n",
    "        post_covar = post_covar + time_gap[i]*proc_covar\n",
    "\n",
    "        # obs_mat[i,:] is a (3,) vector. So, we need flatten() to match\n",
    "        innovation = obs_mat[i, :] - (emit_mat@state_old).flatten()\n",
    "        innovation_covar = emit_mat@post_covar@(emit_mat.T) + meas_covar\n",
    "        try:\n",
    "            kalman_gain = post_covar@(emit_mat.T)@np.linalg.inv(innovation_covar)\n",
    "        except:\n",
    "            print(i, 'error at kalman')\n",
    "            print('post_covar', post_covar, 'dtype', post_covar.dtype)\n",
    "            print('emit_mat.T', emit_mat.T, 'dtype', emit_mat.dtype)\n",
    "            print('innovation_covar', innovation_covar, 'dtype', innovation_covar.dtype)\n",
    "            print('np.linalg.inv(innovation_covar)', np.linalg.inv(innovation_covar))\n",
    "\n",
    "        # We transpose (kalman_gain@innovation) from (3,) to (3,1)\n",
    "        state_new = state_old.reshape(-1, 1) + (kalman_gain@innovation).reshape(-1, 1)\n",
    "        post_covar = (ident - kalman_gain@emit_mat)@post_covar\n",
    "        predicted_obs[i] = (emit_mat@state_new).T\n",
    "        latent_states[i] = state_new.T\n",
    "        state_old = state_new\n",
    "        \n",
    "    new_idx = data.timestamp.shift(-1).to_numpy().reshape(-1, 1)\n",
    "    predicted_obs = np.array(predicted_obs)\n",
    "    latent_states = np.array(latent_states)\n",
    "    predictions = np.hstack((new_idx, predicted_obs))\n",
    "    predictions = np.hstack((predictions, time_gap))\n",
    "    latent_estimates = np.hstack((new_idx, latent_states))\n",
    "    latent_estimates = np.hstack((latent_estimates, time_gap))\n",
    "    \n",
    "    return predictions, latent_estimates, post_covar, innovation_covar\n",
    "    "
   ]
  },
  {
   "cell_type": "code",
   "execution_count": null,
   "metadata": {},
   "outputs": [],
   "source": []
  },
  {
   "cell_type": "code",
   "execution_count": null,
   "metadata": {},
   "outputs": [],
   "source": []
  },
  {
   "cell_type": "markdown",
   "metadata": {},
   "source": [
    "### M step"
   ]
  },
  {
   "cell_type": "code",
   "execution_count": 14,
   "metadata": {
    "ExecuteTime": {
     "end_time": "2019-11-17T21:43:52.035884Z",
     "start_time": "2019-11-17T21:43:52.019489Z"
    }
   },
   "outputs": [],
   "source": [
    "def update_proc_scale(latent_estimates):\n",
    "    '''\n",
    "    Takes the scale matrix of the propagated states.\n",
    "    But we have to take into account the uneven time gaps.\n",
    "    '''\n",
    "    # drop any row with na\n",
    "#     latent_estimates = latent_estimates.dropna(how='any')\n",
    "    latent_estimates = latent_estimates[~pd.isna(latent_estimates[:,0]),:]\n",
    "    time_gap = latent_estimates[:,-1]\n",
    "    \n",
    "    # drop two columns\n",
    "#     latent_estimates = latent_estimates.drop(['timestamp', 'time_gap'], axis=1)\n",
    "    latent_estimates = latent_estimates[:,1:-1]\n",
    "\n",
    "    sample_means = [np.average(latent_estimates[:,i], weights=time_gap) for i in range(len(latent_cols))]\n",
    "    latent_estimates = latent_estimates - sample_means\n",
    "    \n",
    "    return ((latent_estimates.T)@latent_estimates).astype(np.float64)\n",
    "\n",
    "def update_meas_scale(pred, obs):\n",
    "    '''\n",
    "    Gets us the observed scale matrix through (biased) MLE.\n",
    "    The debiasing is done by supplying the correct df to the invWishart\n",
    "    '''\n",
    "#     print('type(pred)', type(pred), pred.shape)\n",
    "#     print('type(obs)', type(obs), obs.shape)\n",
    "    pred = pred[~pd.isna(pred[:,0]),:]\n",
    "    obs_timestamp = obs['timestamp'].dropna(how='any').to_numpy()\n",
    "    unique_timestamp = np.union1d(pred[:,0], obs_timestamp)\n",
    "\n",
    "    pred_mat = pred[np.isin(pred[:,0], unique_timestamp)]\n",
    "    obs_mat = obs[np.isin(obs_timestamp, unique_timestamp)]\n",
    "\n",
    "    # Convert np to dataframe\n",
    "    pred_mat = pd.DataFrame(pred_mat, columns=['timestamp'] + ccy_list + ['time_gap'])\n",
    "    obs_pred_mat = pd.merge(left=obs_mat, right=pred_mat,\n",
    "                            how='inner', on='timestamp', suffixes=('_obs', '_pred'))\n",
    "\n",
    "    ccy_list_obs = [ccy+'_obs' for ccy in ccy_list]\n",
    "    ccy_list_pred = [ccy+'_pred' for ccy in ccy_list]\n",
    "\n",
    "    error_mat = np.array(obs_pred_mat[ccy_list_pred], dtype=float) - np.array(obs_pred_mat[ccy_list_obs], dtype=float) \n",
    "    return (error_mat.T)@error_mat"
   ]
  },
  {
   "cell_type": "code",
   "execution_count": 15,
   "metadata": {
    "ExecuteTime": {
     "end_time": "2019-11-17T21:43:52.040878Z",
     "start_time": "2019-11-17T21:43:52.038313Z"
    }
   },
   "outputs": [],
   "source": [
    "# check.append(update_proc_covar(check[1]))\n",
    "# check.append(update_meas_scale(pred=check[0], obs=training[:100]))"
   ]
  },
  {
   "cell_type": "markdown",
   "metadata": {},
   "source": [
    "### EM (Kalman smoother)"
   ]
  },
  {
   "cell_type": "code",
   "execution_count": 26,
   "metadata": {
    "ExecuteTime": {
     "end_time": "2019-11-17T21:49:40.273279Z",
     "start_time": "2019-11-17T21:49:40.223431Z"
    }
   },
   "outputs": [],
   "source": [
    "def kalman_smoother(data, prior_state, emit_mat, post_covar, prior_meas_df, prior_meas_scale, prior_proc_df, prior_proc_scale):\n",
    "    '''\n",
    "    Runs the smoother on a time block through EM\n",
    "    '''\n",
    "    nrow_data = data.shape[0]\n",
    "    predicted_measurements, states, post_covar, innovation_covar = \\\n",
    "        forward_pass(data=data, initial_state=prior_state,\n",
    "                     emit_mat=emit_mat, meas_covar=prior_meas_scale/prior_meas_df,\n",
    "                     proc_covar=prior_proc_scale/prior_proc_df,\n",
    "                     post_covar=post_covar)\n",
    "\n",
    "    post_proc_scale = update_proc_scale(states)\n",
    "    post_meas_scale = update_meas_scale(pred=predicted_measurements, obs=data)\n",
    "\n",
    "    old_proc_scale = post_proc_scale*2\n",
    "    old_meas_scale = post_meas_scale*2\n",
    "\n",
    "    while np.sqrt(np.sum(((old_proc_scale - post_proc_scale)/nrow_data)**2) +\n",
    "                  np.sum(((old_meas_scale-post_meas_scale)/nrow_data)**2)) > 10**(-12):\n",
    "        \n",
    "        print(np.sum(((old_proc_scale - post_proc_scale)/nrow_data)**2 +\n",
    "                     np.sum(((old_meas_scale-post_meas_scale)/nrow_data)**2)))\n",
    "\n",
    "        old_meas_scale = post_meas_scale\n",
    "        old_proc_scale = post_proc_scale\n",
    "\n",
    "        predicted_measurements, states, post_covar, innovation_covar = \\\n",
    "            forward_pass(data=data, initial_state=prior_state,\n",
    "                         emit_mat=emit_mat,\n",
    "                         meas_covar=post_meas_scale/nrow_data,\n",
    "                         proc_covar=post_proc_scale/nrow_data,\n",
    "                         post_covar=post_covar)\n",
    "\n",
    "        post_proc_scale = update_proc_scale(states)\n",
    "        post_meas_scale = update_meas_scale(\n",
    "            pred=predicted_measurements, obs=data)\n",
    "\n",
    "\n",
    "    post_proc_df = prior_proc_df + nrow_data - emit_mat.shape[1]\n",
    "    post_meas_df = prior_meas_df + nrow_data - emit_mat.shape[0]\n",
    "    \n",
    "    result = {\n",
    "        'input_data': data,\n",
    "        'states': states,\n",
    "        'predicted_measurements': predicted_measurements,\n",
    "        'post_meas_df': post_meas_df,\n",
    "        'post_meas_scale': prior_meas_scale + post_meas_scale,\n",
    "        'post_proc_df': post_proc_df,\n",
    "        'post_proc_scale': prior_proc_scale + post_proc_scale,\n",
    "        'post_covar': post_covar,\n",
    "        'innovation_covar': innovation_covar\n",
    "    }\n",
    "\n",
    "    return result"
   ]
  },
  {
   "cell_type": "code",
   "execution_count": null,
   "metadata": {
    "ExecuteTime": {
     "end_time": "2019-11-17T21:39:11.878976Z",
     "start_time": "2019-11-17T21:38:29.512Z"
    }
   },
   "outputs": [],
   "source": []
  },
  {
   "cell_type": "code",
   "execution_count": 17,
   "metadata": {
    "ExecuteTime": {
     "end_time": "2019-11-17T21:43:52.074574Z",
     "start_time": "2019-11-17T21:43:52.058433Z"
    }
   },
   "outputs": [],
   "source": [
    "training = df.loc[10001:12000, :]\n",
    "\n",
    "predictions, states, post_covar, innovation_covar= forward_pass(data=training[:100],\n",
    "                                    initial_state=np.array([2.7, -2.2, 2.5]),\n",
    "                                    emit_mat=emit_mat,\n",
    "                                    meas_covar=0.01*np.identity(nrow),\n",
    "                                    proc_covar=0.001*np.identity(nrow),\n",
    "                                    post_covar=0.001*np.identity(nrow))\n",
    "\n",
    "# Convert to pandas Data Frame\n",
    "predictions = pd.DataFrame(predictions,\n",
    "                           columns=['timestamp'] + ccy_list + ['time_gap'])\n",
    "\n",
    "\n",
    "# check = []\n",
    "# check.append(predictions)\n",
    "# check.append(latent_estimates)\n"
   ]
  },
  {
   "cell_type": "code",
   "execution_count": 60,
   "metadata": {
    "ExecuteTime": {
     "end_time": "2019-11-17T22:04:28.140780Z",
     "start_time": "2019-11-17T22:04:28.130870Z"
    }
   },
   "outputs": [],
   "source": [
    "# Code: https://stackoverflow.com/questions/11640243/pandas-plot-multiple-y-axes\n",
    "def plot_multi(data, cols=None, spacing=.1, **kwargs):\n",
    "\n",
    "    from pandas import plotting\n",
    "\n",
    "    # Get default color style from pandas - can be changed to any other color list\n",
    "    if cols is None: cols = data.columns\n",
    "    if len(cols) == 0: return\n",
    "    colors = getattr(getattr(plotting, '_matplotlib').style, '_get_standard_colors')(num_colors=len(cols))\n",
    "\n",
    "    # First axis\n",
    "    ax = data.loc[:, cols[0]].plot(label=cols[0], color=colors[0], **kwargs)\n",
    "    ax.set_ylabel(ylabel=cols[0])\n",
    "    ax.tick_params(axis='y', colors=colors[0])\n",
    "    lines, labels = ax.get_legend_handles_labels()\n",
    "\n",
    "    for n in range(1, len(cols)):\n",
    "        # Multiple y-axes\n",
    "        ax_new = ax.twinx()\n",
    "        ax_new.spines['right'].set_position(('axes', 1 + spacing * (n - 1)))\n",
    "        data.loc[:, cols[n]].plot(ax=ax_new, label=cols[n], color=colors[n % len(colors)])\n",
    "        ax_new.set_ylabel(ylabel=cols[n])\n",
    "        ax_new.tick_params(axis='y', colors=colors[n % len(colors)])\n",
    "\n",
    "        # Proper legend position\n",
    "        line, label = ax_new.get_legend_handles_labels()\n",
    "        lines += line\n",
    "        labels += label\n",
    "\n",
    "    ax.legend(lines, labels, loc=0)\n",
    "    return ax"
   ]
  },
  {
   "cell_type": "code",
   "execution_count": 61,
   "metadata": {
    "ExecuteTime": {
     "end_time": "2019-11-17T22:04:28.433546Z",
     "start_time": "2019-11-17T22:04:28.429662Z"
    }
   },
   "outputs": [],
   "source": [
    "gbpusd_dict = {'gbpusd(pred)':predictions.iloc[20:100, 1].to_numpy(), \n",
    "               'gbpusd(training)':training.iloc[20:100, 1].to_numpy()}"
   ]
  },
  {
   "cell_type": "code",
   "execution_count": 62,
   "metadata": {
    "ExecuteTime": {
     "end_time": "2019-11-17T22:04:29.042743Z",
     "start_time": "2019-11-17T22:04:28.660050Z"
    }
   },
   "outputs": [
    {
     "data": {
      "text/plain": [
       "<matplotlib.axes._subplots.AxesSubplot at 0x11aa08748>"
      ]
     },
     "execution_count": 62,
     "metadata": {},
     "output_type": "execute_result"
    },
    {
     "data": {
      "image/png": "[encoded data removed]",
      "text/plain": [
       "<Figure size 432x288 with 2 Axes>"
      ]
     },
     "metadata": {},
     "output_type": "display_data"
    }
   ],
   "source": [
    "plot_multi(pd.DataFrame(gbpusd_dict))"
   ]
  },
  {
   "cell_type": "code",
   "execution_count": 21,
   "metadata": {
    "ExecuteTime": {
     "end_time": "2019-11-17T21:43:52.516981Z",
     "start_time": "2019-11-17T21:43:52.503064Z"
    }
   },
   "outputs": [
    {
     "data": {
      "text/html": [
       "<div>\n",
       "<style scoped>\n",
       "    .dataframe tbody tr th:only-of-type {\n",
       "        vertical-align: middle;\n",
       "    }\n",
       "\n",
       "    .dataframe tbody tr th {\n",
       "        vertical-align: top;\n",
       "    }\n",
       "\n",
       "    .dataframe thead th {\n",
       "        text-align: right;\n",
       "    }\n",
       "</style>\n",
       "<table border=\"1\" class=\"dataframe\">\n",
       "  <thead>\n",
       "    <tr style=\"text-align: right;\">\n",
       "      <th></th>\n",
       "      <th>timestamp</th>\n",
       "      <th>gbpjpy</th>\n",
       "      <th>gbpusd</th>\n",
       "      <th>usdjpy</th>\n",
       "      <th>time_gap</th>\n",
       "    </tr>\n",
       "  </thead>\n",
       "  <tbody>\n",
       "    <tr>\n",
       "      <th>10001</th>\n",
       "      <td>2019-05-09 17:41:00</td>\n",
       "      <td>4.962901</td>\n",
       "      <td>0.263679</td>\n",
       "      <td>4.699243</td>\n",
       "      <td>1</td>\n",
       "    </tr>\n",
       "    <tr>\n",
       "      <th>10002</th>\n",
       "      <td>2019-05-09 17:42:00</td>\n",
       "      <td>4.962299</td>\n",
       "      <td>0.263571</td>\n",
       "      <td>4.698742</td>\n",
       "      <td>1</td>\n",
       "    </tr>\n",
       "    <tr>\n",
       "      <th>10003</th>\n",
       "      <td>2019-05-09 17:43:00</td>\n",
       "      <td>4.961774</td>\n",
       "      <td>0.263671</td>\n",
       "      <td>4.698096</td>\n",
       "      <td>1</td>\n",
       "    </tr>\n",
       "    <tr>\n",
       "      <th>10004</th>\n",
       "      <td>2019-05-09 17:44:00</td>\n",
       "      <td>4.961781</td>\n",
       "      <td>0.263748</td>\n",
       "      <td>4.698050</td>\n",
       "      <td>1</td>\n",
       "    </tr>\n",
       "    <tr>\n",
       "      <th>10005</th>\n",
       "      <td>2019-05-09 17:45:00</td>\n",
       "      <td>4.961795</td>\n",
       "      <td>0.263756</td>\n",
       "      <td>4.698032</td>\n",
       "      <td>1</td>\n",
       "    </tr>\n",
       "    <tr>\n",
       "      <th>...</th>\n",
       "      <td>...</td>\n",
       "      <td>...</td>\n",
       "      <td>...</td>\n",
       "      <td>...</td>\n",
       "      <td>...</td>\n",
       "    </tr>\n",
       "    <tr>\n",
       "      <th>10996</th>\n",
       "      <td>2019-05-10 10:16:00</td>\n",
       "      <td>4.961907</td>\n",
       "      <td>0.263041</td>\n",
       "      <td>4.698870</td>\n",
       "      <td>1</td>\n",
       "    </tr>\n",
       "    <tr>\n",
       "      <th>10997</th>\n",
       "      <td>2019-05-10 10:17:00</td>\n",
       "      <td>4.961977</td>\n",
       "      <td>0.263126</td>\n",
       "      <td>4.698861</td>\n",
       "      <td>1</td>\n",
       "    </tr>\n",
       "    <tr>\n",
       "      <th>10998</th>\n",
       "      <td>2019-05-10 10:18:00</td>\n",
       "      <td>4.962103</td>\n",
       "      <td>0.263279</td>\n",
       "      <td>4.698834</td>\n",
       "      <td>1</td>\n",
       "    </tr>\n",
       "    <tr>\n",
       "      <th>10999</th>\n",
       "      <td>2019-05-10 10:19:00</td>\n",
       "      <td>4.962040</td>\n",
       "      <td>0.263202</td>\n",
       "      <td>4.698834</td>\n",
       "      <td>1</td>\n",
       "    </tr>\n",
       "    <tr>\n",
       "      <th>11000</th>\n",
       "      <td>2019-05-10 10:20:00</td>\n",
       "      <td>4.962089</td>\n",
       "      <td>0.263210</td>\n",
       "      <td>4.698879</td>\n",
       "      <td>1</td>\n",
       "    </tr>\n",
       "  </tbody>\n",
       "</table>\n",
       "<p>1000 rows × 5 columns</p>\n",
       "</div>"
      ],
      "text/plain": [
       "                 timestamp    gbpjpy    gbpusd    usdjpy  time_gap\n",
       "10001  2019-05-09 17:41:00  4.962901  0.263679  4.699243         1\n",
       "10002  2019-05-09 17:42:00  4.962299  0.263571  4.698742         1\n",
       "10003  2019-05-09 17:43:00  4.961774  0.263671  4.698096         1\n",
       "10004  2019-05-09 17:44:00  4.961781  0.263748  4.698050         1\n",
       "10005  2019-05-09 17:45:00  4.961795  0.263756  4.698032         1\n",
       "...                    ...       ...       ...       ...       ...\n",
       "10996  2019-05-10 10:16:00  4.961907  0.263041  4.698870         1\n",
       "10997  2019-05-10 10:17:00  4.961977  0.263126  4.698861         1\n",
       "10998  2019-05-10 10:18:00  4.962103  0.263279  4.698834         1\n",
       "10999  2019-05-10 10:19:00  4.962040  0.263202  4.698834         1\n",
       "11000  2019-05-10 10:20:00  4.962089  0.263210  4.698879         1\n",
       "\n",
       "[1000 rows x 5 columns]"
      ]
     },
     "execution_count": 21,
     "metadata": {},
     "output_type": "execute_result"
    }
   ],
   "source": [
    "training[:1000]"
   ]
  },
  {
   "cell_type": "code",
   "execution_count": 32,
   "metadata": {
    "ExecuteTime": {
     "end_time": "2019-11-17T21:55:40.311680Z",
     "start_time": "2019-11-17T21:55:38.278923Z"
    },
    "scrolled": true
   },
   "outputs": [
    {
     "name": "stdout",
     "output_type": "stream",
     "text": [
      "3.1355628680499123e-13\n",
      "2.1918688789657228e-14\n",
      "8.300220069773679e-16\n",
      "1.9804270090211445e-16\n",
      "5.026319133176936e-17\n",
      "1.3243564666858579e-17\n",
      "3.4349907264446747e-18\n",
      "8.617317158211035e-19\n",
      "2.1108796032007704e-19\n",
      "5.12930485524792e-20\n",
      "1.2551439098285317e-20\n",
      "3.1411080019817368e-21\n",
      "8.189952508679795e-22\n",
      "2.274925305407932e-22\n",
      "6.881101522900907e-23\n",
      "2.2955593194551152e-23\n",
      "8.417265473809589e-24\n"
     ]
    }
   ],
   "source": [
    "check_smoother = kalman_smoother(data = training[:1000],\n",
    "                                 prior_state = np.array([2.7, -2.2, 2.5], dtype=np.float64),\n",
    "                                 emit_mat=emit_mat,\n",
    "                                 prior_meas_df=100,\n",
    "                                 prior_meas_scale=0.01**2*np.identity(emit_mat.shape[1], dtype=np.float64),\n",
    "                                 prior_proc_df=100,\n",
    "                                 prior_proc_scale=0.001**2*np.identity(emit_mat.shape[0], dtype=np.float64),\n",
    "                                 post_covar =0.01*np.identity(emit_mat.shape[0], dtype=np.float64)\n",
    "                                )"
   ]
  },
  {
   "cell_type": "markdown",
   "metadata": {},
   "source": [
    "#### We inspect the Bayes estimates of the covariance matrices:"
   ]
  },
  {
   "cell_type": "code",
   "execution_count": 35,
   "metadata": {
    "ExecuteTime": {
     "end_time": "2019-11-17T21:56:30.178090Z",
     "start_time": "2019-11-17T21:56:30.172735Z"
    }
   },
   "outputs": [
    {
     "data": {
      "text/plain": [
       "array([[ 1.13607678e-07,  7.57690076e-09,  1.12489416e-08],\n",
       "       [ 7.57690076e-09,  1.01463000e-07, -1.53571497e-09],\n",
       "       [ 1.12489416e-08, -1.53571497e-09,  1.05621064e-07]])"
      ]
     },
     "execution_count": 35,
     "metadata": {},
     "output_type": "execute_result"
    }
   ],
   "source": [
    "check_smoother['post_meas_scale'] / (check_smoother['post_meas_df'] - emit_mat.shape[0])"
   ]
  },
  {
   "cell_type": "code",
   "execution_count": 37,
   "metadata": {
    "ExecuteTime": {
     "end_time": "2019-11-17T21:56:58.597621Z",
     "start_time": "2019-11-17T21:56:58.592816Z"
    }
   },
   "outputs": [
    {
     "data": {
      "text/plain": [
       "array([[ 2.10105201e-07, -1.92190032e-07, -1.70010922e-08],\n",
       "       [-1.92190032e-07,  2.71375613e-07, -7.82715041e-08],\n",
       "       [-1.70010922e-08, -7.82715041e-08,  9.61866731e-08]])"
      ]
     },
     "execution_count": 37,
     "metadata": {},
     "output_type": "execute_result"
    }
   ],
   "source": [
    "check_smoother['post_proc_scale'] / (check_smoother['post_proc_df'] - emit_mat.shape[1])"
   ]
  },
  {
   "cell_type": "markdown",
   "metadata": {},
   "source": [
    "#### And can visually inspect how the smoother performs on individual currencies:"
   ]
  },
  {
   "cell_type": "code",
   "execution_count": 50,
   "metadata": {
    "ExecuteTime": {
     "end_time": "2019-11-17T22:01:14.360057Z",
     "start_time": "2019-11-17T22:01:14.356328Z"
    }
   },
   "outputs": [],
   "source": [
    "usdjpy_dict = {'usdjpy(pred)':check_smoother['predicted_measurements'][500:600][:,-2], \n",
    "               'usdjpy(training)':check_smoother['input_data'][500:600].loc[:,'usdjpy'].to_numpy()}"
   ]
  },
  {
   "cell_type": "code",
   "execution_count": 63,
   "metadata": {
    "ExecuteTime": {
     "end_time": "2019-11-17T22:04:34.787007Z",
     "start_time": "2019-11-17T22:04:34.429224Z"
    }
   },
   "outputs": [
    {
     "data": {
      "text/plain": [
       "<matplotlib.axes._subplots.AxesSubplot at 0x11a6feac8>"
      ]
     },
     "execution_count": 63,
     "metadata": {},
     "output_type": "execute_result"
    },
    {
     "data": {
      "image/png": "[encoded data removed]",
      "text/plain": [
       "<Figure size 432x288 with 2 Axes>"
      ]
     },
     "metadata": {},
     "output_type": "display_data"
    }
   ],
   "source": [
    "plot_multi(pd.DataFrame(usdjpy_dict))"
   ]
  },
  {
   "cell_type": "code",
   "execution_count": 52,
   "metadata": {
    "ExecuteTime": {
     "end_time": "2019-11-17T22:01:47.508066Z",
     "start_time": "2019-11-17T22:01:47.503351Z"
    }
   },
   "outputs": [
    {
     "data": {
      "text/plain": [
       "array([-5.197076970553383e-06, 6.643028622299596e-06,\n",
       "       1.9306277074804257e-06, 6.780757235702595e-07,\n",
       "       4.970597675679755e-06, 1.8489109947950055e-05,\n",
       "       -1.0650153587477007e-05, 4.599105367653067e-06,\n",
       "       -3.3281923581540696e-06, 6.33080479595094e-07,\n",
       "       -2.3510625180023226e-06, -3.4991537729567312e-06,\n",
       "       -1.6221022969276078e-06, 7.656582014625712e-06,\n",
       "       -7.1099767167126515e-06, 1.1241390120986239e-06,\n",
       "       -1.5733490394964633e-06, 3.52770375222633e-06,\n",
       "       -4.806020152514634e-06, -3.799238701418517e-07,\n",
       "       1.6024760745025901e-06, 3.3670031918120458e-06,\n",
       "       -1.8959956875619355e-06, 5.072567245356652e-06,\n",
       "       -4.432827727995914e-06, 6.021385869914297e-07,\n",
       "       9.364956543578273e-07, -4.174394850231522e-06,\n",
       "       8.531495649499732e-06, -1.5700599895751566e-06,\n",
       "       -2.4723484530753126e-06, -9.573120942185653e-06,\n",
       "       7.540972586816963e-06, -6.643298640085504e-06,\n",
       "       6.40675818619485e-06, -2.330992041166269e-06,\n",
       "       -5.118760271649592e-06, -4.426243268795815e-06,\n",
       "       -3.5978214638632267e-06, 2.2006517843564666e-06,\n",
       "       -3.0616475372724494e-06, 1.175626350935488e-06,\n",
       "       1.0277850635453945e-05, 2.717329388168821e-06,\n",
       "       5.634987896740995e-06, -2.7862907243658697e-06,\n",
       "       -6.571427153545528e-07, -7.187648689566117e-07,\n",
       "       6.416805117481772e-06, 3.012592860507368e-06,\n",
       "       5.180989322006724e-06, -2.288817313456093e-07,\n",
       "       -1.2961771136410505e-05, 3.092807340010495e-06,\n",
       "       -3.899189763068023e-06, 4.21036670417152e-07,\n",
       "       -1.7615355032418734e-06, 9.627794881339469e-07,\n",
       "       -4.35292564660017e-07, 4.560992219460047e-06,\n",
       "       -1.0065573183837273e-06, 3.7616644110727293e-07,\n",
       "       -1.9955062668941537e-07, -5.0914587665928934e-06,\n",
       "       1.271797405166808e-06, -5.604616486465375e-07,\n",
       "       -2.4662327691160613e-06, 4.789758456524851e-08,\n",
       "       -2.4157652314116262e-06, -3.893868564475156e-06,\n",
       "       -4.874712544733484e-07, -1.5750175279549694e-06,\n",
       "       1.8329549940077072e-06, 2.9465521320659604e-06,\n",
       "       5.7400607174074025e-06, 5.493428909097986e-06,\n",
       "       2.3093635608262275e-06, 6.307748465772534e-07,\n",
       "       1.8875511615945584e-06, -4.902996961320127e-06,\n",
       "       -1.0668631253096805e-05, -5.69469066391548e-06,\n",
       "       1.0062295823232148e-06, -1.8443874454376896e-06,\n",
       "       -2.6646064394952873e-06, -3.3901565350547003e-06,\n",
       "       1.8940027883829202e-06, 5.641648453291737e-06,\n",
       "       6.406201060293881e-06, -1.1553067231773184e-06,\n",
       "       -3.8011508607382893e-07, -6.350599983662164e-06,\n",
       "       -3.848712230691831e-06, -9.190285971349965e-06,\n",
       "       3.6196835271340433e-06, -1.7741943558746698e-06,\n",
       "       -9.495442502505114e-06, -9.263243226698137e-06,\n",
       "       1.9411327993879013e-06, -3.90480430834117e-06], dtype=object)"
      ]
     },
     "execution_count": 52,
     "metadata": {},
     "output_type": "execute_result"
    }
   ],
   "source": [
    "usdjpy_dict['usdjpy(pred)'] - usdjpy_dict['usdjpy(training)']"
   ]
  },
  {
   "cell_type": "markdown",
   "metadata": {},
   "source": [
    "#  PSIS"
   ]
  },
  {
   "cell_type": "markdown",
   "metadata": {},
   "source": [
    "PSIS is like our alarm that rings whenever the predictions become really bad and we need to update our parameters through smoothing. In particular, we fit the generalized Pareto distribution to the 20% highest importance weights, and if k > 0.7, we refit because we think the variance of the importance weights is infinity.\n",
    "\n",
    "To do this, we sample 1000 covariance matrices at the start of our forward pass through the filter and hold those fixed (covariance matrices are very expensive to sample)"
   ]
  },
  {
   "cell_type": "code",
   "execution_count": 64,
   "metadata": {
    "ExecuteTime": {
     "end_time": "2019-11-17T22:07:54.075614Z",
     "start_time": "2019-11-17T22:07:53.512815Z"
    }
   },
   "outputs": [],
   "source": [
    "from scipy.stats import invwishart"
   ]
  },
  {
   "cell_type": "code",
   "execution_count": null,
   "metadata": {
    "ExecuteTime": {
     "end_time": "2019-11-17T22:13:31.688042Z",
     "start_time": "2019-11-17T22:13:31.664465Z"
    }
   },
   "outputs": [],
   "source": []
  },
  {
   "cell_type": "code",
   "execution_count": 77,
   "metadata": {
    "ExecuteTime": {
     "end_time": "2019-11-17T22:49:43.933828Z",
     "start_time": "2019-11-17T22:49:43.915530Z"
    }
   },
   "outputs": [],
   "source": [
    "prior_proc_df = check_smoother['post_proc_df']\n",
    "prior_proc_scale = check_smoother['post_proc_scale']\n",
    "proc_cov_mats = invwishart.rvs(df=prior_proc_df, scale=prior_proc_scale, size=1000)"
   ]
  },
  {
   "cell_type": "code",
   "execution_count": null,
   "metadata": {},
   "outputs": [],
   "source": [
    "def kalman_filter_minibatch(data, emit_mat, initial_state, innovation_covar, post_covar,\n",
    "                            prior_proc_df, prior_proc_scale,\n",
    "                            prior_meas_df, prior_meas_scale\n",
    "                            ):\n",
    "    batch_size = 1000\n",
    "    proc_cov_mats = invwishart.rvs(\n",
    "        df=prior_proc_df, scale=prior_proc_scale, size=batch_size)\n",
    "    meas_cov_mats = invwishart.rvs(\n",
    "        df=prior_meas_df, scale=prior_meas_scale, size=batch_size)\n",
    "\n",
    "    psis_k = 0\n",
    "    iter_count = 0\n",
    "    data_count = 0\n",
    "#     parallel_state = np.expand_dims(initial_state, axis=0)\n",
    "#     parallel_state = parallel_state.repeat(batch_size, axis=0)\n",
    "#     innovation_covar_mats = np.expand_dims(innovation_covar, axis=0)\n",
    "#     innovation_covar_mats = innovation_covar_mats.repeat(batch_size, axis=0)\n",
    "#     post_cov_mats = np.expand_dims(post_covar, axis=0)\n",
    "#     post_cov_mats = post_covar.repeat(batch_size, axis=0)\n",
    "\n",
    "    importance_weights = []\n",
    "\n",
    "    latent_states = []\n",
    "    innovation_covar = []\n",
    "    post_covar = []\n",
    "    while psis_k < 0.7:\n",
    "        for i in range(batch_size):\n",
    "            temp1, temp2, temp3, temp4 = forward_pass(data=data[iter_count],\n",
    "                                                      initial_state=initial_state,\n",
    "                                                      emit_mat=emit_mat,\n",
    "                                                      meas_covar=meas_covar,\n",
    "                                                      proc_covar=proc_covar,\n",
    "                                                      post_covar=post_covar\n",
    "                                                      )\n",
    "            latent_states.append(temp2[:,emit_mat.shape[0]])\n",
    "            innovation_covar.append(temp4)\n",
    "            post_covar.append(temp3)\n",
    "        \n",
    "        \n",
    "        parallel_states = np.array(latent_states)\n",
    "        innovation_covar_mats = np.array(innovation_covar)\n",
    "        post_covar_mats = np.array(post_covar)\n",
    "        \n",
    "        for i in range(len(parallel_states)):\n",
    "            \n",
    "            \n",
    "            \n",
    "            \n",
    "            "
   ]
  },
  {
   "cell_type": "code",
   "execution_count": 131,
   "metadata": {
    "ExecuteTime": {
     "end_time": "2019-11-17T23:37:36.082270Z",
     "start_time": "2019-11-17T23:37:36.077529Z"
    },
    "scrolled": true
   },
   "outputs": [
    {
     "data": {
      "text/plain": [
       "array([[0.03459531, 0.03320234, 0.03320234],\n",
       "       [0.03320234, 0.03459531, 0.03320234],\n",
       "       [0.03320234, 0.03320234, 0.03459531]])"
      ]
     },
     "execution_count": 131,
     "metadata": {},
     "output_type": "execute_result"
    }
   ],
   "source": [
    "post_covar"
   ]
  },
  {
   "cell_type": "code",
   "execution_count": null,
   "metadata": {},
   "outputs": [],
   "source": [
    "predictions, states, post_covar, innovation_covar= forward_pass"
   ]
  },
  {
   "cell_type": "code",
   "execution_count": 125,
   "metadata": {
    "ExecuteTime": {
     "end_time": "2019-11-17T23:17:14.325344Z",
     "start_time": "2019-11-17T23:17:14.321644Z"
    }
   },
   "outputs": [],
   "source": [
    "batch_size=1000\n",
    "parallel_state = np.expand_dims(initial_state, axis=0)\n",
    "parallel_state = parallel_state.repeat(batch_size, axis=0)"
   ]
  },
  {
   "cell_type": "code",
   "execution_count": null,
   "metadata": {},
   "outputs": [],
   "source": [
    "for i in range(batch_size):\n",
    "    temp1, temp2, temp3, temp4 = forward_pass(\n",
    "        data = data[iter_count],\n",
    "        initial_state = initial_state,\n",
    "        emit_mat=emit_mat,\n",
    "        meas_covar = meas_covar,\n",
    "        proc_covar = proc_covar,\n",
    "        post_covar = post_covar\n",
    "    )"
   ]
  },
  {
   "cell_type": "code",
   "execution_count": null,
   "metadata": {},
   "outputs": [],
   "source": []
  },
  {
   "cell_type": "code",
   "execution_count": 87,
   "metadata": {
    "ExecuteTime": {
     "end_time": "2019-11-17T22:56:12.315676Z",
     "start_time": "2019-11-17T22:56:12.310402Z"
    }
   },
   "outputs": [
    {
     "data": {
      "text/plain": [
       "array([[ 2.7, -2.2,  2.5],\n",
       "       [ 2.7, -2.2,  2.5],\n",
       "       [ 2.7, -2.2,  2.5],\n",
       "       ...,\n",
       "       [ 2.7, -2.2,  2.5],\n",
       "       [ 2.7, -2.2,  2.5],\n",
       "       [ 2.7, -2.2,  2.5]])"
      ]
     },
     "execution_count": 87,
     "metadata": {},
     "output_type": "execute_result"
    }
   ],
   "source": [
    "np.ones((1000, len(initial_state)))*initial_state"
   ]
  },
  {
   "cell_type": "code",
   "execution_count": 118,
   "metadata": {
    "ExecuteTime": {
     "end_time": "2019-11-17T23:04:31.130645Z",
     "start_time": "2019-11-17T23:04:31.126620Z"
    }
   },
   "outputs": [],
   "source": [
    "a = np.expand_dims(innovation_covar, axis=0)"
   ]
  },
  {
   "cell_type": "code",
   "execution_count": 119,
   "metadata": {
    "ExecuteTime": {
     "end_time": "2019-11-17T23:04:32.014394Z",
     "start_time": "2019-11-17T23:04:32.010935Z"
    }
   },
   "outputs": [
    {
     "data": {
      "text/plain": [
       "(1, 3, 3)"
      ]
     },
     "execution_count": 119,
     "metadata": {},
     "output_type": "execute_result"
    }
   ],
   "source": [
    "a.shape"
   ]
  },
  {
   "cell_type": "code",
   "execution_count": 121,
   "metadata": {
    "ExecuteTime": {
     "end_time": "2019-11-17T23:04:39.329792Z",
     "start_time": "2019-11-17T23:04:39.326129Z"
    }
   },
   "outputs": [
    {
     "data": {
      "text/plain": [
       "(10, 3, 3)"
      ]
     },
     "execution_count": 121,
     "metadata": {},
     "output_type": "execute_result"
    }
   ],
   "source": [
    "a.repeat(10, axis=0).shape"
   ]
  },
  {
   "cell_type": "code",
   "execution_count": 114,
   "metadata": {
    "ExecuteTime": {
     "end_time": "2019-11-17T23:03:34.815489Z",
     "start_time": "2019-11-17T23:03:34.811292Z"
    }
   },
   "outputs": [
    {
     "data": {
      "text/plain": [
       "(1, 3)"
      ]
     },
     "execution_count": 114,
     "metadata": {},
     "output_type": "execute_result"
    }
   ],
   "source": [
    "a.shape"
   ]
  },
  {
   "cell_type": "code",
   "execution_count": 105,
   "metadata": {
    "ExecuteTime": {
     "end_time": "2019-11-17T22:59:36.362628Z",
     "start_time": "2019-11-17T22:59:36.359335Z"
    }
   },
   "outputs": [
    {
     "data": {
      "text/plain": [
       "array([[ 2.7, -2.2,  2.5]])"
      ]
     },
     "execution_count": 105,
     "metadata": {},
     "output_type": "execute_result"
    }
   ],
   "source": [
    "a"
   ]
  },
  {
   "cell_type": "code",
   "execution_count": null,
   "metadata": {},
   "outputs": [],
   "source": []
  }
 ],
 "metadata": {
  "kernelspec": {
   "display_name": "Python 3",
   "language": "python",
   "name": "python3"
  },
  "language_info": {
   "codemirror_mode": {
    "name": "ipython",
    "version": 3
   },
   "file_extension": ".py",
   "mimetype": "text/x-python",
   "name": "python",
   "nbconvert_exporter": "python",
   "pygments_lexer": "ipython3",
   "version": "3.7.3"
  }
 },
 "nbformat": 4,
 "nbformat_minor": 2
}
