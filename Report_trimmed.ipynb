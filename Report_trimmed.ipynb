{
 "cells": [
  {
   "cell_type": "markdown",
   "metadata": {},
   "source": [
    "# Introduction\n",
    "\n",
    "## Motivation\n",
    "\n",
    "We want to build a model of currency exchange rates for GBP, USD, and JPY. The observed exchange rates are GBPUSD, GBPJPY, USDJPY, and their reciprocals (we assume zero spread). Here, USDJPY = 100 means 1 USD buys us 100 JPY. \n",
    "\n",
    "Forecasting each exchange rate separately might imply arbitrage opportunities, inconsistent with the efficient market assumption. Suppose we forecast USDJPY = 100, JPYGBP = 0.01, and GBPUSD = 1.5. Then\n",
    "\n",
    "$$\\frac{USD}{JPY} \\times \\frac{JPY}{GBP} \\times \\frac{GBP}{USD} = 100 \\times 0.01 \\times 1.5 = 1.5$$\n",
    "\n",
    "We can traverse the path $USD \\to JPY \\to GBP \\to USD$ for 50% profit per cycle with no risk. Generally, arbitrage opportunities do not exist, so these forecasts are inconsistent with the real world.\n",
    "\n",
    "To satisfy the no-arbitrage constraint, we can model individual currency values and assert the exchange rates are ratios of these hidden values. Even though $\\frac{USD}{JPY}$ is written as a fraction, it is a single variable; the fraction is notational convenience. We want the fraction to be an actual ratio of two variables so the variables can \"cancel out\" and evaluate to 1 no matter the cycle.\n",
    "\n",
    "We forecast the log of the exchange rates: $log(\\frac{USD}{JPY}) = log(USD) - log(JPY)$. This has two major benefits. First, we can express observations as linear combinations of hidden variables. Second, we can explicitly model USD and JPY as geometric Brownian motion.\n",
    "\n",
    "The second part has some subtleties. We cannot model $X = log(\\frac{USD}{JPY})$ as Brownian motion $X_{t+1} - X_t \\sim \\mathcal N(0, \\sigma^2)$ because that implies the exchange rate will keep going up. Recall that if $Y \\sim \\mathcal N(\\mu, \\sigma^2)$, then $\\mathbb E[e^{Y}] = e^{\\mu + \\frac 12 \\sigma^2} > 1$. If we model both $log(\\frac{USD}{JPY})$ and $log(\\frac{JPY}{USD})$ as Brownian motion with zero drift, then both exchange rates will go up over time, which is absurd.\n",
    "\n",
    "However, allowing both $log(USD)$ and $log(JPY)$ go up in value over time is perfectly reasonable. For instance, if USD goes up slower than JPY, but both are going up, then the exchange rate USDJPY will go down. Therefore, allowing an individual currency to be geometric Brownian motion leads to a consistent model. Furthermore, we will be able to tell at a glance which currencies are strengthening or weakening by plotting the latent states over time.\n",
    "\n",
    "## Data\n",
    "\n",
    "We obtained 1-minute interval exchange data from __[Philippe Remy's Github](https://github.com/philipperemy/FX-1-Minute-Data)__ and worked on USD, GBP, and JPY exchange rates in May 2019. We took a small sample where the market is continuously open. Missing values are assumed to be missing because the exchange rate has not changed since the last measurement, so we impute with the last observed value."
   ]
  },
  {
   "cell_type": "markdown",
   "metadata": {},
   "source": [
    "# (Adaptive) Kalman Filter\n",
    "\n",
    "The model assumes the observed values y are linear combinations of latent variables x. Here, x is log currency while y is log exchange rate.\n",
    "\n",
    "$$x_{t+1} = x_{t} + u_t$$\n",
    "$$y_{t+1} = B x_{t+1} + v_t$$\n",
    "$$u \\sim MVN(0, \\Sigma_p)$$\n",
    "$$v \\sim MVN(0, \\Sigma_m)$$\n",
    "\n",
    "For this setup, the Kalman Filter is the optimal estimator. We will limit ourselves to the Gaussian assumption.\n",
    "\n",
    "## What is a Filter?\n",
    "\n",
    "A filter only sees past and current data and does not know of the future, whereas smoothing uses future information to make inferences about the present. If we use moving averages, then a sliding window from $t-2$ to $t$ is a filter, while a sliding window from $t-2$ to $t+2$ is a smoother. Visually, a filter looks similar to a smoother. In this illustration, the blue line is the observed values, while the red line is the filtered values.\n",
    "\n",
    "<img src=\"gbpusd_example.jpeg\" width = \"500\" />\n",
    "\n",
    "## Continuous State Space Model\n",
    "\n",
    "<img src=\"HMM.png\" width = \"500\" />\n",
    "\n",
    "__[<center>Image source</center>](http://www.davidsbatista.net/blog/2017/11/11/HHM_and_Naive_Bayes/)__\n",
    "\n",
    "A Kalman Filter the continuous analog of a Hidden Markov Model. The first equation governs the transition of the hidden states while the second equation governs the emissions. The Kalman Filter is commonly used for navigation systems, so think of the hidden state as your car's true position while the measurements are GPS readings. The continuity further implies that your car cannot teleport.\n",
    "\n",
    "## Connection to Normal-Normal Conjugacy\n",
    "\n",
    "Consider a univariate random walk with increments $\\mathcal N(0, \\sigma^2_p)$ and our measurements have an error $\\sim \\mathcal N(0, \\sigma^2_m)$. \n",
    "\n",
    "Then the Kalman Filter reduces to a Normal-Normal conjugacy relationship with unknown mean:\n",
    "\n",
    "$$\\mu_{t+1} = \\frac{\\frac{1}{Var(\\mu_t) + \\sigma^2_p} \\mu_t + \\frac{1}{\\sigma^2_m} y}{\\frac{1}{Var(\\mu_t) + \\sigma^2_p} + \\frac{1}{\\sigma^2_m}}$$       \n",
    "$$Var(\\mu_{t+1}) = \\frac{1}{\\frac{1}{Var(\\mu_t) + \\sigma^2_p} + \\frac{1}{\\sigma^2_m}}$$\n",
    "\n",
    "The Kalman Filter is the optimal estimator because it gives us the posterior mode = mean = median. We cannot do any better."
   ]
  },
  {
   "cell_type": "markdown",
   "metadata": {},
   "source": [
    "\n",
    "## Parameter Estimation\n",
    "\n",
    "In virtually all real-world cases, the variances are unknown hyperparameters. In the univariate case, the only thing that matters is the ratio $\\frac{\\sigma^2_m}{\\sigma^2_p}$ when your n is large enough. Likewise, for the multivariate case, the simplest model is to set $\\Sigma_m = I_m$ and $\\Sigma_p = \\tau I_p, \\tau \\in \\mathbb R^+$ and the problem reduces to estimating a single parameter. The next step up in complexity is to use the mean-field variational family: diagonal covariance matrices where we estimate each diagonal element separately.\n",
    "\n",
    "However, a priori, this is too simple. We expect some currencies to be more stable than others, and exchange rates with the same underlying currency should be correlated with each other. In ADVI, it is noted that financial assets have enough complexity that a full covariance matrix tends to perform much better than the mean-field variational family. Therefore, we want to estimate full-rank matrices.\n",
    "\n",
    "## Adaptivity\n",
    "\n",
    "Many financial time series exhibit volatility clustering, so models like GARCH are popular in finance. We want to capture this dynamic and let the covariance matrices vary over time. $\\Sigma_p$ might increase because of changes in government policy. $\\Sigma_m$ might increase in times of market uncertainty."
   ]
  },
  {
   "cell_type": "markdown",
   "metadata": {},
   "source": [
    "# Big Problem\n",
    "\n",
    "We ended up not using Pyro because, as we found out, this problem is not suited for probabilistic programming. The __[Kalman Filter implementation in Pyro](http://docs.pyro.ai/en/stable/contrib.tracking.html#module-pyro.contrib.tracking.extended_kalman_filter)__ require us to supply one covariance, which we are trying to estimate.\n",
    "\n",
    "Time series models are hard to fit because the likelihood cannot be factored nicely. The most relaxed assumption we can have is at least first-order Markov process. In our case, assuming $\\theta$ is all the hyperparameters that are *not* time-varying, the likelihood is\n",
    "\n",
    "$$ p(Y | X, \\theta ) = p(\\theta ) p(x_0) \\prod_{t=1}^n p(y_t | x_t, \\theta ) p(x_t | x_{t-1}, \\theta) $$\n",
    "\n",
    "We cannot evaluate the gradient with respect to $\\theta$. The likelihood of the observations can be computed easily when $\\theta$ is fixed. However, when $\\theta$ changes, so does our estimate of $X$, so it is not clear how a change in $\\theta$ might affect the likelihood. Furthermore, automatic differentiation will have to go through the entire time series at every single step, leading to computational issues. \n",
    "\n",
    "An EM approach is better-suited for this kind of problem, where we alternate between estimating $\\theta$ while holding $X$ fixed and estimating $X$ while holding $\\theta$ fixed. Therefore, we do EM the old-fashioned way.\n",
    "\n",
    "To make matters worse, we cannot use stochastic methods because the observations are not exchangeable, even assuming $\\theta$ is fixed. With time-varying $\\theta$, stochastic methods go out the window."
   ]
  },
  {
   "cell_type": "markdown",
   "metadata": {},
   "source": [
    "# Model Fitting\n",
    "\n",
    "The pseudocode of the algorithm:\n",
    "\n",
    "```python\n",
    "initialize priors with kalman_smoother() on burn-in samples\n",
    "counter = 1\n",
    "do:\n",
    "    iter = 0\n",
    "    while psis_k < 0.7:\n",
    "        iter = iter + 1\n",
    "        forward_pass(data[counter:])\n",
    "    kalman_smoother(data[counter:(counter + iter)])\n",
    "    update hyperparameters\n",
    "    counter = counter + iter\n",
    "until went through all observations\n",
    "```\n",
    "\n",
    "To make the problem tractable, we use the inverse Wishart distribution, which is the distribution of covariance matrices characterized by the $\\nu$ degrees of freedom parameter and the $S_{p \\times p}$ scale parameter. Intuitively, $\\nu$ is the number of observations we pad our prior with, and $S$ is $X^T X$ where $X$ is a $n \\times p$ matrix where each row comes from a $MVN(0, \\Sigma)$ distribution. The inverse Wishart has mode $\\frac{S}{\\nu}$ and mean $\\frac{S}{\\nu - p - 1}$. If this looks like the MLE vs unbiased estimator of variance, you're getting it. Thus, the update is\n",
    "\n",
    "$$\\nu_{t+1} = \\nu_t + n$$\n",
    "\n",
    "$$S_{t+1} = S_t + S_{obs}$$\n",
    "\n",
    "## Forward Pass\n",
    "\n",
    "The forward pass estimates the latent variables by supplying a starting point, some observations, and the covariance matrices. We hold hyperparameters fixed and propagate through the system. The calculations are standard and can be found on Wikipedia. We are simply updating our MVN prior with MVN likelihood and then adding some uncertainty at each time step.\n",
    "\n",
    "## EM Smoothing\n",
    "\n",
    "Kalman smoothing algorithms provide the best estimates of initial state. However, this will allow currencies to \"teleport\" from one minibatch to the next. Instead, we use EM to hold the initial state fixed. In the expectation step, we do a forward_pass() to estimate the latent states given the covariances. In the maximization step, we do\n",
    "\n",
    "$$\\hat S_m = (Y-\\hat Y)^T (Y-\\hat Y)$$\n",
    "\n",
    "$$\\hat S_p = \\sum_t (X_t - X_{t-1})^T (X_t - X_{t-1})$$\n",
    "\n",
    "We iterate EM until convergence and update our inverse Wishart priors using the empirical scale matrices.\n",
    "\n",
    "\n",
    "## Pareto-Smoothed-Importance-Sampling Leave-Future-Out CV (PSIS-LFO-CV)\n",
    "\n",
    "PSIS is often used to approximate LOO-CV to assess model fit. PSIS-LFO-CV is a form of approximate LOO-CV for time series models, and the raw importance weights are proportional to\n",
    "\n",
    "$$r_n^{(s)} \\propto \\prod_{i=1}^n p(y_{t+i}|\\theta^{(s)})$$\n",
    "\n",
    "Which is the likelihood of the observations given some sampled hyperparameters. In other words, we can sample some covariance matrices and hold them fixed, and given an initial state and some observations, we can go through the forward_pass() and evaluate the likelihood of the observations up to that time point. When the likelihoods start to have infinite variance, our model is becoming unstable because their predictions start to differ wildly, and we have to refit our model. Instead of refitting for the entire past, instead we use the conjugacy of the inverse Wishart to refit only using the data since the last time the model was refitted.\n",
    "\n",
    "PSIS fits a generalized Pareto distribution to the right tail of the raw importance weights (the highest 20%) with some weakly regularizing prior (because otherwise fitting a GPD can be extremely hard). When the shape parameter $k$ goes above 0.5, the variance of the distribution is infinite. However, in the PSIS-LOO-CV paper, empirically the results are decent until $k > 0.7$, at which point we update our hyperparameters and start a new forward_pass()."
   ]
  },
  {
   "cell_type": "markdown",
   "metadata": {},
   "source": [
    "# Criticism of Results\n",
    "\n",
    "Ok, first of all, the model will not run when the dimensions are too high. While it runs for 3 currencies, the predictions become terribly off with 5 currencies."
   ]
  },
  {
   "cell_type": "markdown",
   "metadata": {},
   "source": [
    "## Code"
   ]
  },
  {
   "cell_type": "markdown",
   "metadata": {},
   "source": [
    "### Data loading and preprocessing"
   ]
  },
  {
   "cell_type": "code",
   "execution_count": 1,
   "metadata": {
    "ExecuteTime": {
     "end_time": "2019-11-20T02:16:14.014303Z",
     "start_time": "2019-11-20T02:16:11.503417Z"
    }
   },
   "outputs": [],
   "source": [
    "import numpy as np\n",
    "import pandas as pd\n",
    "from Report_EM import forward_pass\n",
    "%run Report_preprocessing.py\n",
    "%run Report_EM.py"
   ]
  },
  {
   "cell_type": "markdown",
   "metadata": {},
   "source": [
    "We took logs for each FX rate and multiply them by 100 to avoid numerical issues."
   ]
  },
  {
   "cell_type": "code",
   "execution_count": 2,
   "metadata": {
    "ExecuteTime": {
     "end_time": "2019-11-20T02:16:14.038144Z",
     "start_time": "2019-11-20T02:16:14.017464Z"
    }
   },
   "outputs": [
    {
     "data": {
      "text/html": [
       "<div>\n",
       "<style scoped>\n",
       "    .dataframe tbody tr th:only-of-type {\n",
       "        vertical-align: middle;\n",
       "    }\n",
       "\n",
       "    .dataframe tbody tr th {\n",
       "        vertical-align: top;\n",
       "    }\n",
       "\n",
       "    .dataframe thead th {\n",
       "        text-align: right;\n",
       "    }\n",
       "</style>\n",
       "<table border=\"1\" class=\"dataframe\">\n",
       "  <thead>\n",
       "    <tr style=\"text-align: right;\">\n",
       "      <th></th>\n",
       "      <th>timestamp</th>\n",
       "      <th>gbpjpy</th>\n",
       "      <th>gbpusd</th>\n",
       "      <th>usdjpy</th>\n",
       "      <th>time_gap</th>\n",
       "    </tr>\n",
       "  </thead>\n",
       "  <tbody>\n",
       "    <tr>\n",
       "      <th>0</th>\n",
       "      <td>2019-05-01 00:00:00</td>\n",
       "      <td>497.985989</td>\n",
       "      <td>26.565883</td>\n",
       "      <td>471.39349</td>\n",
       "      <td>1</td>\n",
       "    </tr>\n",
       "    <tr>\n",
       "      <th>1</th>\n",
       "      <td>2019-05-01 00:01:00</td>\n",
       "      <td>497.985989</td>\n",
       "      <td>26.565883</td>\n",
       "      <td>471.39349</td>\n",
       "      <td>1</td>\n",
       "    </tr>\n",
       "    <tr>\n",
       "      <th>2</th>\n",
       "      <td>2019-05-01 00:02:00</td>\n",
       "      <td>497.985989</td>\n",
       "      <td>26.565883</td>\n",
       "      <td>471.39349</td>\n",
       "      <td>1</td>\n",
       "    </tr>\n",
       "    <tr>\n",
       "      <th>3</th>\n",
       "      <td>2019-05-01 00:03:00</td>\n",
       "      <td>497.985989</td>\n",
       "      <td>26.565883</td>\n",
       "      <td>471.39349</td>\n",
       "      <td>1</td>\n",
       "    </tr>\n",
       "    <tr>\n",
       "      <th>4</th>\n",
       "      <td>2019-05-01 00:04:00</td>\n",
       "      <td>497.985989</td>\n",
       "      <td>26.565883</td>\n",
       "      <td>471.39349</td>\n",
       "      <td>1</td>\n",
       "    </tr>\n",
       "  </tbody>\n",
       "</table>\n",
       "</div>"
      ],
      "text/plain": [
       "             timestamp      gbpjpy     gbpusd     usdjpy  time_gap\n",
       "0  2019-05-01 00:00:00  497.985989  26.565883  471.39349         1\n",
       "1  2019-05-01 00:01:00  497.985989  26.565883  471.39349         1\n",
       "2  2019-05-01 00:02:00  497.985989  26.565883  471.39349         1\n",
       "3  2019-05-01 00:03:00  497.985989  26.565883  471.39349         1\n",
       "4  2019-05-01 00:04:00  497.985989  26.565883  471.39349         1"
      ]
     },
     "execution_count": 2,
     "metadata": {},
     "output_type": "execute_result"
    }
   ],
   "source": [
    "df.head()"
   ]
  },
  {
   "cell_type": "markdown",
   "metadata": {
    "ExecuteTime": {
     "end_time": "2019-11-20T01:22:38.857525Z",
     "start_time": "2019-11-20T01:22:38.853822Z"
    }
   },
   "source": [
    "### Running forward pass"
   ]
  },
  {
   "cell_type": "code",
   "execution_count": 3,
   "metadata": {
    "ExecuteTime": {
     "end_time": "2019-11-20T02:16:14.056991Z",
     "start_time": "2019-11-20T02:16:14.041206Z"
    },
    "scrolled": true
   },
   "outputs": [],
   "source": [
    "training = df.loc[10000:11999, :]\n",
    "\n",
    "forward_predictions, forward_states, \\\n",
    "    forward_post_covar, forward_innoation_covar = \\\n",
    "    forward_pass(data=training[:100],\n",
    "                 initial_state=np.array([270, -220, 250]),\n",
    "                 emit_mat=emit_mat,\n",
    "                 meas_covar=1 *\n",
    "                 np.identity(\n",
    "                 nrow),\n",
    "                 proc_covar=0.01 *\n",
    "                 np.identity(\n",
    "                 nrow),\n",
    "                 post_covar=0.01*np.identity(nrow))\n",
    "# Convert to pandas Data Frame\n",
    "forward_predictions = pd.DataFrame(forward_predictions,\n",
    "                                   columns=['timestamp'] +\n",
    "                                   ccy_list + ['time_gap'])"
   ]
  },
  {
   "cell_type": "code",
   "execution_count": 4,
   "metadata": {
    "ExecuteTime": {
     "end_time": "2019-11-20T02:16:14.063775Z",
     "start_time": "2019-11-20T02:16:14.059340Z"
    }
   },
   "outputs": [],
   "source": [
    "%run Report_utils.py"
   ]
  },
  {
   "cell_type": "code",
   "execution_count": 5,
   "metadata": {
    "ExecuteTime": {
     "end_time": "2019-11-20T02:16:14.070459Z",
     "start_time": "2019-11-20T02:16:14.066038Z"
    }
   },
   "outputs": [],
   "source": [
    "gbpusd_dict = {'gbpusd(raw)': training.iloc[20:100, 1].shift(-1),\n",
    "               'gbpusd(pred)': forward_predictions.iloc[20:100, 1].to_numpy()}"
   ]
  },
  {
   "cell_type": "code",
   "execution_count": 6,
   "metadata": {
    "ExecuteTime": {
     "end_time": "2019-11-20T02:16:14.363043Z",
     "start_time": "2019-11-20T02:16:14.073201Z"
    }
   },
   "outputs": [
    {
     "data": {
      "text/plain": [
       "<matplotlib.axes._subplots.AxesSubplot at 0x116e163c8>"
      ]
     },
     "execution_count": 6,
     "metadata": {},
     "output_type": "execute_result"
    }
   ],
   "source": [
    "plot_multi(pd.DataFrame(gbpusd_dict), figsize=(10,8))"
   ]
  },
  {
   "cell_type": "markdown",
   "metadata": {},
   "source": [
    "### Running Kalman smoother"
   ]
  },
  {
   "cell_type": "code",
   "execution_count": 7,
   "metadata": {
    "ExecuteTime": {
     "end_time": "2019-11-20T02:16:23.853187Z",
     "start_time": "2019-11-20T02:16:14.371232Z"
    },
    "scrolled": true
   },
   "outputs": [],
   "source": [
    "check_smoother = kalman_smoother(data=training[:1000],\n",
    "                                 prior_state=np.array(\n",
    "                                     [270, -220, 250], dtype=np.float64),\n",
    "                                 emit_mat=emit_mat,\n",
    "                                 prior_meas_df=100,\n",
    "                                 prior_meas_scale=1**2 *\n",
    "                                 np.identity(\n",
    "                                     emit_mat.shape[1], dtype=np.float64),\n",
    "                                 prior_proc_df=100,\n",
    "                                 prior_proc_scale=0.1**2 *\n",
    "                                 np.identity(\n",
    "                                     emit_mat.shape[0], dtype=np.float64),\n",
    "                                 post_covar=forward_post_covar\n",
    "                                 )"
   ]
  },
  {
   "cell_type": "code",
   "execution_count": 8,
   "metadata": {
    "ExecuteTime": {
     "end_time": "2019-11-20T02:16:23.860494Z",
     "start_time": "2019-11-20T02:16:23.856175Z"
    }
   },
   "outputs": [],
   "source": [
    "gbpusd_dict = {'gbpusd(raw)': check_smoother['input_data'][0:100].loc[:, 'gbpusd'].shift(-1),\n",
    "                'gbpusd(pred)': check_smoother['predicted_measurements'][0:100][:, -3]}"
   ]
  },
  {
   "cell_type": "code",
   "execution_count": 9,
   "metadata": {
    "ExecuteTime": {
     "end_time": "2019-11-20T02:16:24.378556Z",
     "start_time": "2019-11-20T02:16:23.863146Z"
    }
   },
   "outputs": [
    {
     "data": {
      "text/plain": [
       "<matplotlib.axes._subplots.AxesSubplot at 0x1170dd940>"
      ]
     },
     "execution_count": 9,
     "metadata": {},
     "output_type": "execute_result"
    },
    {
     "data": {
      "image/png": "[encoded data removed]",
      "text/plain": [
       "<Figure size 720x576 with 1 Axes>"
      ]
     },
     "metadata": {},
     "output_type": "display_data"
    }
   ],
   "source": [
    "plot_multi(pd.DataFrame(gbpusd_dict), figsize=(10,8))"
   ]
  },
  {
   "cell_type": "markdown",
   "metadata": {},
   "source": [
    "### Adaptive Kalman Filter"
   ]
  },
  {
   "cell_type": "code",
   "execution_count": 10,
   "metadata": {
    "ExecuteTime": {
     "end_time": "2019-11-20T02:16:24.799325Z",
     "start_time": "2019-11-20T02:16:24.381268Z"
    }
   },
   "outputs": [],
   "source": [
    "%run Report_adaptive_kf.py"
   ]
  },
  {
   "cell_type": "code",
   "execution_count": 11,
   "metadata": {
    "ExecuteTime": {
     "end_time": "2019-11-20T02:16:30.422399Z",
     "start_time": "2019-11-20T02:16:24.802010Z"
    },
    "scrolled": true
   },
   "outputs": [],
   "source": [
    "check_smoother_init = kalman_smoother(\n",
    "    data=df.loc[19499:19998, :],\n",
    "    emit_mat=emit_mat,\n",
    "    prior_state=np.array([0, 0, 0], dtype=np.float64),\n",
    "    post_covar=10*np.identity(emit_mat.shape[0], dtype=np.float64),\n",
    "    prior_proc_df=10,\n",
    "    prior_proc_scale=10*0.1*np.identity(emit_mat.shape[0], dtype=np.float64),\n",
    "    prior_meas_df=10,\n",
    "    prior_meas_scale=10*0.1*np.identity(emit_mat.shape[0], dtype=np.float64)\n",
    ")"
   ]
  },
  {
   "cell_type": "code",
   "execution_count": 12,
   "metadata": {
    "ExecuteTime": {
     "end_time": "2019-11-20T02:17:16.494874Z",
     "start_time": "2019-11-20T02:16:30.424293Z"
    },
    "scrolled": true
   },
   "outputs": [],
   "source": [
    "check_akf = adaptive_kalman_filter(\n",
    "    data=df.loc[19999:20198, :],\n",
    "    emit_mat=emit_mat,\n",
    "    burn_in=0,\n",
    "    prior_state=check_smoother_init['states'][-1, 1:-1].astype(np.float64),\n",
    "    prior_covar=check_smoother_init['post_covar'],\n",
    "    innovation_covar=check_smoother_init['innovation_covar'],\n",
    "    prior_proc_df=check_smoother_init['post_proc_df'],\n",
    "    prior_proc_scale=check_smoother_init['post_proc_scale'],\n",
    "    prior_meas_df=check_smoother_init['post_meas_df'],\n",
    "    prior_meas_scale=check_smoother_init['post_meas_scale']\n",
    ")"
   ]
  },
  {
   "cell_type": "code",
   "execution_count": 13,
   "metadata": {
    "ExecuteTime": {
     "end_time": "2019-11-20T02:17:16.511014Z",
     "start_time": "2019-11-20T02:17:16.496803Z"
    }
   },
   "outputs": [],
   "source": [
    "input_data = check_akf['input_data'].iloc[:,:-1]\n",
    "input_data.iloc[:,1:] = input_data.iloc[:,1:]/100\n",
    "predictions = pd.DataFrame(check_akf['predicted_meas'], columns=['timestamp'] + ccy_list + ['timegap'])\n",
    "predictions.iloc[:,1:-1] =predictions.iloc[:,1:-1]/100\n",
    "plot_df = pd.merge(how='inner',left=input_data, right=predictions, on='timestamp', suffixes=('_raw', '_pred'))\n",
    "gbpjpy_dict = {'gbpjpy_raw':plot_df.loc[:,'gbpjpy_raw'].shift(-1), 'gbpjpy_pred':plot_df.loc[:,'gbpjpy_pred']}"
   ]
  },
  {
   "cell_type": "code",
   "execution_count": 14,
   "metadata": {
    "ExecuteTime": {
     "end_time": "2019-11-20T02:17:16.864141Z",
     "start_time": "2019-11-20T02:17:16.513085Z"
    }
   },
   "outputs": [
    {
     "data": {
      "text/plain": [
       "<matplotlib.axes._subplots.AxesSubplot at 0x11859d320>"
      ]
     },
     "execution_count": 14,
     "metadata": {},
     "output_type": "execute_result"
    },
    {
     "data": {
      "image/png": "[encoded data removed]",
      "text/plain": [
       "<Figure size 720x576 with 1 Axes>"
      ]
     },
     "metadata": {},
     "output_type": "display_data"
    }
   ],
   "source": [
    "plot_multi(pd.DataFrame(gbpjpy_dict), figsize=(10, 8))"
   ]
  },
  {
   "cell_type": "markdown",
   "metadata": {},
   "source": [
    "## Predictive Performance"
   ]
  },
  {
   "cell_type": "code",
   "execution_count": null,
   "metadata": {},
   "outputs": [],
   "source": []
  },
  {
   "cell_type": "code",
   "execution_count": null,
   "metadata": {},
   "outputs": [],
   "source": []
  },
  {
   "cell_type": "code",
   "execution_count": null,
   "metadata": {},
   "outputs": [],
   "source": []
  },
  {
   "cell_type": "code",
   "execution_count": null,
   "metadata": {},
   "outputs": [],
   "source": []
  },
  {
   "cell_type": "code",
   "execution_count": null,
   "metadata": {},
   "outputs": [],
   "source": []
  },
  {
   "cell_type": "markdown",
   "metadata": {},
   "source": [
    "## Latent State Estimates"
   ]
  },
  {
   "cell_type": "markdown",
   "metadata": {},
   "source": [
    "# Criticism of Model\n",
    "\n",
    "## Computational Complexity\n",
    "\n",
    "## Serially Correlated Errors\n",
    "\n",
    "## Variance of the Inverse Wishart Posterior\n",
    "\n",
    "## Acceleration Term\n",
    "\n",
    "Minsu"
   ]
  },
  {
   "cell_type": "markdown",
   "metadata": {},
   "source": [
    "# Conclusion\n",
    "\n",
    "We started with strong theory and set out to build a model consistent with the theory. Like with many research problems, we didn't know at the start whether or not we'd get a satisfying conclusion. In our case, we are left unsatisfied."
   ]
  },
  {
   "cell_type": "markdown",
   "metadata": {},
   "source": [
    "# References\n",
    "\n",
    "__[ADVI](https://arxiv.org/pdf/1603.00788.pdf)__ Kucukelbir et al. (2016). Automatic Differentiation Variational Inference\n",
    "\n",
    "__[PSIS](https://arxiv.org/pdf/1507.02646.pdf)__ Vehtari et al. (2019). Pareto Smoothed Importance Sampling\n",
    "\n",
    "__[PSIS-LOO-CV](https://arxiv.org/pdf/1507.04544.pdf)__ Vehtari et al. (2016) Practical Bayesian model evaluation using leave-one-out cross-validation and WAIC\n",
    "\n",
    "__[PSIS-LFO-CV](https://arxiv.org/pdf/1902.06281.pdf)__ Bürkner et al. (2019). Approximate leave-future-out cross-validation for Bayesian time series models\n",
    "\n"
   ]
  }
 ],
 "metadata": {
  "kernelspec": {
   "display_name": "Python 3",
   "language": "python",
   "name": "python3"
  },
  "language_info": {
   "codemirror_mode": {
    "name": "ipython",
    "version": 3
   },
   "file_extension": ".py",
   "mimetype": "text/x-python",
   "name": "python",
   "nbconvert_exporter": "python",
   "pygments_lexer": "ipython3",
   "version": "3.7.4"
  }
 },
 "nbformat": 4,
 "nbformat_minor": 2
}
