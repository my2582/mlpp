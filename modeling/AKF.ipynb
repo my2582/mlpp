{
 "cells": [
  {
   "cell_type": "markdown",
   "metadata": {},
   "source": [
    "# 1. Import packages"
   ]
  },
  {
   "cell_type": "code",
   "execution_count": 1,
   "metadata": {
    "ExecuteTime": {
     "end_time": "2019-11-04T14:17:30.784763Z",
     "start_time": "2019-11-04T14:17:29.189911Z"
    }
   },
   "outputs": [],
   "source": [
    "import os\n",
    "import numpy as np\n",
    "import pandas as pd\n",
    "\n",
    "# Plotting\n",
    "import matplotlib.pyplot as plt\n",
    "import seaborn as sns\n",
    "\n",
    "import logging "
   ]
  },
  {
   "cell_type": "code",
   "execution_count": 2,
   "metadata": {
    "ExecuteTime": {
     "end_time": "2019-11-04T14:17:30.789786Z",
     "start_time": "2019-11-04T14:17:30.786868Z"
    }
   },
   "outputs": [],
   "source": [
    "logging.basicConfig(format='%(levelname)s: %(message)s', level=logging.INFO)\n",
    "logger = logging.getLogger(__name__)"
   ]
  },
  {
   "cell_type": "markdown",
   "metadata": {},
   "source": [
    "# 2. Data loading"
   ]
  },
  {
   "cell_type": "markdown",
   "metadata": {},
   "source": [
    "## 2.1. Dataset description"
   ]
  },
  {
   "cell_type": "markdown",
   "metadata": {},
   "source": [
    "### A toy dataset\n",
    "- **Triangular** currency pairs: `gbpusd`, `usdjpy`, **`jpygbp`**\n",
    "  - $\\frac{USD}{GBP}\\times\\frac{JPY}{USD}\\times\\frac{GBP}{JPY}=1$. Therefore, the following holds assuming a frictionless market condition:\n",
    "  - $\\log{\\frac{USD}{GBP}}-\\log{\\frac{JPY}{USD}}-\\log{\\frac{GBP}{JPY}}=0.$\n",
    "- Period: One day. May 1st, 2019.\n",
    "- Frequency: 1 minute (=1440 data points per day per currency pair)"
   ]
  },
  {
   "cell_type": "markdown",
   "metadata": {},
   "source": [
    "## 2.2 Loading a toy data set"
   ]
  },
  {
   "cell_type": "code",
   "execution_count": 3,
   "metadata": {
    "ExecuteTime": {
     "end_time": "2019-11-04T14:19:07.745032Z",
     "start_time": "2019-11-04T14:19:07.559090Z"
    },
    "scrolled": false
   },
   "outputs": [
    {
     "name": "stderr",
     "output_type": "stream",
     "text": [
      "INFO: Loading...\n",
      "INFO: gbpjpy_DAT_ASCII_GBPJPY_M1_201905.csv\n",
      "INFO: gbpusd_DAT_ASCII_GBPUSD_M1_201905.csv\n",
      "INFO: usdjpy_DAT_ASCII_USDJPY_M1_201905.csv\n",
      "INFO: Complted.\n"
     ]
    }
   ],
   "source": [
    "toy_path = '../dataset/'\n",
    "toy_folders = ['toyset']\n",
    "\n",
    "# csv files have no explicit column header, but column names come in this order.\n",
    "# 'timestamp',  'opening', 'high', 'low', 'close', 'volume'\n",
    "# As we are only interested in timestamp and close prices, we set `usecols` = [0,4], a list of indices\n",
    "col_names = ['datetime',  'opening', 'high', 'low', 'close', 'volume']\n",
    "usecols = [0, 4]\n",
    "\n",
    "df = {}\n",
    "f = pd.DataFrame(columns=col_names)\n",
    "total_size = 0\n",
    "logger.info(\"Loading...\")\n",
    "for folder in toy_folders:\n",
    "    files = os.listdir(toy_path+folder)\n",
    "    for file in files:\n",
    "        if file.endswith(\".csv\"):\n",
    "            logger.info(file)\n",
    "            tmp = pd.read_csv(os.path.join(toy_path, folder, file),\n",
    "                              delimiter=';', header=0, names=col_names, usecols=usecols)\n",
    "            loaded_ccy = file[:6]\n",
    "            if loaded_ccy in df.keys():\n",
    "                df[loaded_ccy] = df[loaded_ccy].append(tmp, ignore_index=True)\n",
    "            else:\n",
    "                df[loaded_ccy] = tmp.copy()\n",
    "            total_size += len(df[loaded_ccy])\n",
    "logger.info(\"Complted.\")"
   ]
  },
  {
   "cell_type": "code",
   "execution_count": 4,
   "metadata": {
    "ExecuteTime": {
     "end_time": "2019-11-04T14:19:14.096180Z",
     "start_time": "2019-11-04T14:19:14.092908Z"
    }
   },
   "outputs": [
    {
     "name": "stdout",
     "output_type": "stream",
     "text": [
      "We have 96376 data points in total for all pairs\n"
     ]
    }
   ],
   "source": [
    "print('We have {:d} data points in total for all pairs'.format(total_size))"
   ]
  },
  {
   "cell_type": "code",
   "execution_count": 5,
   "metadata": {
    "ExecuteTime": {
     "end_time": "2019-11-04T14:19:14.765167Z",
     "start_time": "2019-11-04T14:19:14.759926Z"
    }
   },
   "outputs": [
    {
     "data": {
      "text/plain": [
       "dict_keys(['gbpjpy', 'gbpusd', 'usdjpy'])"
      ]
     },
     "execution_count": 5,
     "metadata": {},
     "output_type": "execute_result"
    }
   ],
   "source": [
    "df.keys()"
   ]
  },
  {
   "cell_type": "code",
   "execution_count": 6,
   "metadata": {
    "ExecuteTime": {
     "end_time": "2019-11-04T14:19:16.830077Z",
     "start_time": "2019-11-04T14:19:16.826453Z"
    }
   },
   "outputs": [
    {
     "name": "stdout",
     "output_type": "stream",
     "text": [
      "We have a list of currency pairs: ['gbpjpy', 'gbpusd', 'usdjpy']\n"
     ]
    }
   ],
   "source": [
    "ccy_list = list(df.keys())\n",
    "print('We have a list of currency pairs:', ccy_list)"
   ]
  },
  {
   "cell_type": "code",
   "execution_count": 10,
   "metadata": {
    "ExecuteTime": {
     "end_time": "2019-11-04T14:21:05.310105Z",
     "start_time": "2019-11-04T14:21:05.301911Z"
    }
   },
   "outputs": [
    {
     "name": "stdout",
     "output_type": "stream",
     "text": [
      "e.g. gbpjpy\n"
     ]
    },
    {
     "data": {
      "text/html": [
       "<div>\n",
       "<style scoped>\n",
       "    .dataframe tbody tr th:only-of-type {\n",
       "        vertical-align: middle;\n",
       "    }\n",
       "\n",
       "    .dataframe tbody tr th {\n",
       "        vertical-align: top;\n",
       "    }\n",
       "\n",
       "    .dataframe thead th {\n",
       "        text-align: right;\n",
       "    }\n",
       "</style>\n",
       "<table border=\"1\" class=\"dataframe\">\n",
       "  <thead>\n",
       "    <tr style=\"text-align: right;\">\n",
       "      <th></th>\n",
       "      <th>datetime</th>\n",
       "      <th>close</th>\n",
       "    </tr>\n",
       "  </thead>\n",
       "  <tbody>\n",
       "    <tr>\n",
       "      <th>0</th>\n",
       "      <td>20190501 000100</td>\n",
       "      <td>145.451</td>\n",
       "    </tr>\n",
       "    <tr>\n",
       "      <th>1</th>\n",
       "      <td>20190501 000200</td>\n",
       "      <td>145.465</td>\n",
       "    </tr>\n",
       "    <tr>\n",
       "      <th>2</th>\n",
       "      <td>20190501 000300</td>\n",
       "      <td>145.459</td>\n",
       "    </tr>\n",
       "    <tr>\n",
       "      <th>3</th>\n",
       "      <td>20190501 000400</td>\n",
       "      <td>145.453</td>\n",
       "    </tr>\n",
       "    <tr>\n",
       "      <th>4</th>\n",
       "      <td>20190501 000500</td>\n",
       "      <td>145.450</td>\n",
       "    </tr>\n",
       "  </tbody>\n",
       "</table>\n",
       "</div>"
      ],
      "text/plain": [
       "          datetime    close\n",
       "0  20190501 000100  145.451\n",
       "1  20190501 000200  145.465\n",
       "2  20190501 000300  145.459\n",
       "3  20190501 000400  145.453\n",
       "4  20190501 000500  145.450"
      ]
     },
     "execution_count": 10,
     "metadata": {},
     "output_type": "execute_result"
    }
   ],
   "source": [
    "print('e.g.', ccy_list[0])\n",
    "df[ccy_list[0]].head()"
   ]
  },
  {
   "cell_type": "markdown",
   "metadata": {},
   "source": [
    "## 2.3 Data Integrity Check"
   ]
  },
  {
   "cell_type": "code",
   "execution_count": 14,
   "metadata": {
    "ExecuteTime": {
     "end_time": "2019-11-04T14:21:22.484389Z",
     "start_time": "2019-11-04T14:21:22.454471Z"
    },
    "scrolled": false
   },
   "outputs": [],
   "source": [
    "for i, ccy in enumerate(ccy_list):\n",
    "    desc = df[ccy].describe()\n",
    "    desc.rename(columns={'close': ccy}, inplace=True)\n",
    "    if i == 0:\n",
    "        df_desc = desc.copy()\n",
    "    else:\n",
    "        df_desc = pd.merge(df_desc, desc, left_index=True, right_index=True)"
   ]
  },
  {
   "cell_type": "markdown",
   "metadata": {},
   "source": [
    "- Outliers: none.\n",
    "- Index: The number of data points a little vary. See the **2.5 `timestamp` policy** to handle this."
   ]
  },
  {
   "cell_type": "code",
   "execution_count": 15,
   "metadata": {
    "ExecuteTime": {
     "end_time": "2019-11-04T14:21:23.620876Z",
     "start_time": "2019-11-04T14:21:23.612260Z"
    },
    "scrolled": false
   },
   "outputs": [
    {
     "data": {
      "text/html": [
       "<div>\n",
       "<style scoped>\n",
       "    .dataframe tbody tr th:only-of-type {\n",
       "        vertical-align: middle;\n",
       "    }\n",
       "\n",
       "    .dataframe tbody tr th {\n",
       "        vertical-align: top;\n",
       "    }\n",
       "\n",
       "    .dataframe thead th {\n",
       "        text-align: right;\n",
       "    }\n",
       "</style>\n",
       "<table border=\"1\" class=\"dataframe\">\n",
       "  <thead>\n",
       "    <tr style=\"text-align: right;\">\n",
       "      <th></th>\n",
       "      <th>gbpjpy</th>\n",
       "      <th>gbpusd</th>\n",
       "      <th>usdjpy</th>\n",
       "    </tr>\n",
       "  </thead>\n",
       "  <tbody>\n",
       "    <tr>\n",
       "      <th>count</th>\n",
       "      <td>31950.000000</td>\n",
       "      <td>31953.000000</td>\n",
       "      <td>32473.000000</td>\n",
       "    </tr>\n",
       "    <tr>\n",
       "      <th>mean</th>\n",
       "      <td>141.388295</td>\n",
       "      <td>1.285060</td>\n",
       "      <td>110.009609</td>\n",
       "    </tr>\n",
       "    <tr>\n",
       "      <th>std</th>\n",
       "      <td>2.572174</td>\n",
       "      <td>0.017834</td>\n",
       "      <td>0.684774</td>\n",
       "    </tr>\n",
       "    <tr>\n",
       "      <th>min</th>\n",
       "      <td>136.639000</td>\n",
       "      <td>1.255970</td>\n",
       "      <td>108.281000</td>\n",
       "    </tr>\n",
       "    <tr>\n",
       "      <th>25%</th>\n",
       "      <td>138.976000</td>\n",
       "      <td>1.267280</td>\n",
       "      <td>109.545000</td>\n",
       "    </tr>\n",
       "    <tr>\n",
       "      <th>50%</th>\n",
       "      <td>140.653500</td>\n",
       "      <td>1.283900</td>\n",
       "      <td>109.807000</td>\n",
       "    </tr>\n",
       "    <tr>\n",
       "      <th>75%</th>\n",
       "      <td>143.210000</td>\n",
       "      <td>1.302000</td>\n",
       "      <td>110.342000</td>\n",
       "    </tr>\n",
       "    <tr>\n",
       "      <th>max</th>\n",
       "      <td>146.499000</td>\n",
       "      <td>1.317530</td>\n",
       "      <td>111.658000</td>\n",
       "    </tr>\n",
       "  </tbody>\n",
       "</table>\n",
       "</div>"
      ],
      "text/plain": [
       "             gbpjpy        gbpusd        usdjpy\n",
       "count  31950.000000  31953.000000  32473.000000\n",
       "mean     141.388295      1.285060    110.009609\n",
       "std        2.572174      0.017834      0.684774\n",
       "min      136.639000      1.255970    108.281000\n",
       "25%      138.976000      1.267280    109.545000\n",
       "50%      140.653500      1.283900    109.807000\n",
       "75%      143.210000      1.302000    110.342000\n",
       "max      146.499000      1.317530    111.658000"
      ]
     },
     "execution_count": 15,
     "metadata": {},
     "output_type": "execute_result"
    }
   ],
   "source": [
    "df_desc"
   ]
  },
  {
   "cell_type": "code",
   "execution_count": 16,
   "metadata": {
    "ExecuteTime": {
     "end_time": "2019-11-04T14:21:27.459343Z",
     "start_time": "2019-11-04T14:21:27.453100Z"
    }
   },
   "outputs": [
    {
     "data": {
      "text/plain": [
       "32473.0"
      ]
     },
     "execution_count": 16,
     "metadata": {},
     "output_type": "execute_result"
    }
   ],
   "source": [
    "max_datapoints = np.max(df_desc.loc['count'])\n",
    "max_datapoints"
   ]
  },
  {
   "cell_type": "markdown",
   "metadata": {},
   "source": [
    "## 2.4 Drop from and add some columns to `df`"
   ]
  },
  {
   "cell_type": "markdown",
   "metadata": {},
   "source": [
    "- Drop: `datetime` (no use)\n",
    "- Add: `ccy`, `timestamp`\n",
    "- Retain: `close`"
   ]
  },
  {
   "cell_type": "code",
   "execution_count": 17,
   "metadata": {
    "ExecuteTime": {
     "end_time": "2019-11-04T14:22:25.791224Z",
     "start_time": "2019-11-04T14:22:15.665075Z"
    }
   },
   "outputs": [],
   "source": [
    "for ccy in ccy_list:\n",
    "    df[ccy]['ccy'] = ccy\n",
    "    df[ccy]['timestamp'] = df[ccy].datetime.apply(lambda x: pd.to_datetime(x))\n",
    "    cols_to_use = ['timestamp', 'ccy', 'close']\n",
    "    df[ccy] = df[ccy][cols_to_use]"
   ]
  },
  {
   "cell_type": "code",
   "execution_count": 18,
   "metadata": {
    "ExecuteTime": {
     "end_time": "2019-11-04T14:22:25.802776Z",
     "start_time": "2019-11-04T14:22:25.793607Z"
    }
   },
   "outputs": [
    {
     "data": {
      "text/html": [
       "<div>\n",
       "<style scoped>\n",
       "    .dataframe tbody tr th:only-of-type {\n",
       "        vertical-align: middle;\n",
       "    }\n",
       "\n",
       "    .dataframe tbody tr th {\n",
       "        vertical-align: top;\n",
       "    }\n",
       "\n",
       "    .dataframe thead th {\n",
       "        text-align: right;\n",
       "    }\n",
       "</style>\n",
       "<table border=\"1\" class=\"dataframe\">\n",
       "  <thead>\n",
       "    <tr style=\"text-align: right;\">\n",
       "      <th></th>\n",
       "      <th>timestamp</th>\n",
       "      <th>ccy</th>\n",
       "      <th>close</th>\n",
       "    </tr>\n",
       "  </thead>\n",
       "  <tbody>\n",
       "    <tr>\n",
       "      <th>28939</th>\n",
       "      <td>2019-05-29 14:44:00</td>\n",
       "      <td>gbpusd</td>\n",
       "      <td>1.26257</td>\n",
       "    </tr>\n",
       "    <tr>\n",
       "      <th>9835</th>\n",
       "      <td>2019-05-09 20:07:00</td>\n",
       "      <td>gbpusd</td>\n",
       "      <td>1.30155</td>\n",
       "    </tr>\n",
       "    <tr>\n",
       "      <th>22658</th>\n",
       "      <td>2019-05-22 18:02:00</td>\n",
       "      <td>gbpusd</td>\n",
       "      <td>1.26607</td>\n",
       "    </tr>\n",
       "    <tr>\n",
       "      <th>12470</th>\n",
       "      <td>2019-05-13 16:02:00</td>\n",
       "      <td>gbpusd</td>\n",
       "      <td>1.29568</td>\n",
       "    </tr>\n",
       "    <tr>\n",
       "      <th>4753</th>\n",
       "      <td>2019-05-06 07:17:00</td>\n",
       "      <td>gbpusd</td>\n",
       "      <td>1.31044</td>\n",
       "    </tr>\n",
       "  </tbody>\n",
       "</table>\n",
       "</div>"
      ],
      "text/plain": [
       "                timestamp     ccy    close\n",
       "28939 2019-05-29 14:44:00  gbpusd  1.26257\n",
       "9835  2019-05-09 20:07:00  gbpusd  1.30155\n",
       "22658 2019-05-22 18:02:00  gbpusd  1.26607\n",
       "12470 2019-05-13 16:02:00  gbpusd  1.29568\n",
       "4753  2019-05-06 07:17:00  gbpusd  1.31044"
      ]
     },
     "execution_count": 18,
     "metadata": {},
     "output_type": "execute_result"
    }
   ],
   "source": [
    "rand_ccy = ccy_list[np.random.randint(len(ccy_list))]\n",
    "df[rand_ccy].sample(5)"
   ]
  },
  {
   "cell_type": "markdown",
   "metadata": {
    "ExecuteTime": {
     "end_time": "2019-10-30T16:05:23.457496Z",
     "start_time": "2019-10-30T16:05:23.451601Z"
    }
   },
   "source": [
    "### Check if we have all data points in `df`"
   ]
  },
  {
   "cell_type": "code",
   "execution_count": 19,
   "metadata": {
    "ExecuteTime": {
     "end_time": "2019-11-04T14:22:32.219746Z",
     "start_time": "2019-11-04T14:22:32.216414Z"
    }
   },
   "outputs": [],
   "source": [
    "assert np.sum([len(df[ccy]) for ccy in ccy_list]) == total_size, \"We got some data loss.\""
   ]
  },
  {
   "cell_type": "markdown",
   "metadata": {},
   "source": [
    "## 2.5 Padding missing time to `df`"
   ]
  },
  {
   "cell_type": "markdown",
   "metadata": {},
   "source": [
    "### Creating a new index `idx`\n",
    "#### `timestamp` policy:\n",
    "- If any curency pair has any price at timestamp $t$, then we have the timestamp $t$ for the rest of the currency pairs as well."
   ]
  },
  {
   "cell_type": "markdown",
   "metadata": {},
   "source": [
    "#### We create a union set `idx` of `timestamp` for every currency pair so that we can cover every data point."
   ]
  },
  {
   "cell_type": "code",
   "execution_count": 20,
   "metadata": {
    "ExecuteTime": {
     "end_time": "2019-11-04T14:22:35.603393Z",
     "start_time": "2019-11-04T14:22:35.596610Z"
    }
   },
   "outputs": [],
   "source": [
    "ccy_idx = {}\n",
    "for i, ccy in enumerate(ccy_list):\n",
    "    ccy_idx[ccy] = pd.Index(df[ccy].timestamp)\n",
    "    if i == 0 :\n",
    "        idx = pd.Index(ccy_idx[ccy])\n",
    "    else:\n",
    "        idx = idx.union(ccy_idx[ccy])"
   ]
  },
  {
   "cell_type": "markdown",
   "metadata": {},
   "source": [
    "#### Apply `idx` to every `df[ccy]`"
   ]
  },
  {
   "cell_type": "code",
   "execution_count": 21,
   "metadata": {
    "ExecuteTime": {
     "end_time": "2019-11-04T14:22:37.407029Z",
     "start_time": "2019-11-04T14:22:37.363281Z"
    }
   },
   "outputs": [],
   "source": [
    "for ccy in ccy_list:\n",
    "    df_ccy = pd.DataFrame(index=idx)\n",
    "    df[ccy] = df_ccy.merge(df[ccy], how='left', on='timestamp')\n",
    "    df[ccy]['ccy'].fillna(ccy, inplace=True)"
   ]
  },
  {
   "cell_type": "code",
   "execution_count": 22,
   "metadata": {
    "ExecuteTime": {
     "end_time": "2019-11-04T14:22:37.901625Z",
     "start_time": "2019-11-04T14:22:37.898889Z"
    }
   },
   "outputs": [],
   "source": [
    "assert np.min([df[f].shape[0] for f in df.keys()]) >= max_datapoints, \"We got some data loss.\""
   ]
  },
  {
   "cell_type": "markdown",
   "metadata": {},
   "source": [
    "#### We get the global earliest date and last date over the entire data set."
   ]
  },
  {
   "cell_type": "markdown",
   "metadata": {},
   "source": [
    "## 2.6 Create the data set `X`\n",
    "### We do it simply by appending `df` for each currency pair to create the data set `X`"
   ]
  },
  {
   "cell_type": "markdown",
   "metadata": {},
   "source": [
    "Create a template for `X`"
   ]
  },
  {
   "cell_type": "code",
   "execution_count": 23,
   "metadata": {
    "ExecuteTime": {
     "end_time": "2019-11-04T14:22:39.977685Z",
     "start_time": "2019-11-04T14:22:39.969214Z"
    }
   },
   "outputs": [
    {
     "data": {
      "text/html": [
       "<div>\n",
       "<style scoped>\n",
       "    .dataframe tbody tr th:only-of-type {\n",
       "        vertical-align: middle;\n",
       "    }\n",
       "\n",
       "    .dataframe tbody tr th {\n",
       "        vertical-align: top;\n",
       "    }\n",
       "\n",
       "    .dataframe thead th {\n",
       "        text-align: right;\n",
       "    }\n",
       "</style>\n",
       "<table border=\"1\" class=\"dataframe\">\n",
       "  <thead>\n",
       "    <tr style=\"text-align: right;\">\n",
       "      <th></th>\n",
       "      <th>timestamp</th>\n",
       "      <th>ccy</th>\n",
       "      <th>close</th>\n",
       "    </tr>\n",
       "  </thead>\n",
       "  <tbody>\n",
       "  </tbody>\n",
       "</table>\n",
       "</div>"
      ],
      "text/plain": [
       "Empty DataFrame\n",
       "Columns: [timestamp, ccy, close]\n",
       "Index: []"
      ]
     },
     "execution_count": 23,
     "metadata": {},
     "output_type": "execute_result"
    }
   ],
   "source": [
    "X = pd.DataFrame(columns = df[ccy_list[0]].columns)\n",
    "X"
   ]
  },
  {
   "cell_type": "code",
   "execution_count": 24,
   "metadata": {
    "ExecuteTime": {
     "end_time": "2019-11-04T14:22:40.496167Z",
     "start_time": "2019-11-04T14:22:40.483907Z"
    }
   },
   "outputs": [],
   "source": [
    "for ccy in ccy_list:\n",
    "    X = X.append(df[ccy], ignore_index=False, sort=False)"
   ]
  },
  {
   "cell_type": "code",
   "execution_count": 25,
   "metadata": {
    "ExecuteTime": {
     "end_time": "2019-11-04T14:22:41.024423Z",
     "start_time": "2019-11-04T14:22:41.012237Z"
    }
   },
   "outputs": [
    {
     "data": {
      "text/html": [
       "<div>\n",
       "<style scoped>\n",
       "    .dataframe tbody tr th:only-of-type {\n",
       "        vertical-align: middle;\n",
       "    }\n",
       "\n",
       "    .dataframe tbody tr th {\n",
       "        vertical-align: top;\n",
       "    }\n",
       "\n",
       "    .dataframe thead th {\n",
       "        text-align: right;\n",
       "    }\n",
       "</style>\n",
       "<table border=\"1\" class=\"dataframe\">\n",
       "  <thead>\n",
       "    <tr style=\"text-align: right;\">\n",
       "      <th></th>\n",
       "      <th>timestamp</th>\n",
       "      <th>ccy</th>\n",
       "      <th>close</th>\n",
       "    </tr>\n",
       "  </thead>\n",
       "  <tbody>\n",
       "    <tr>\n",
       "      <th>5116</th>\n",
       "      <td>2019-05-06 13:17:00</td>\n",
       "      <td>gbpjpy</td>\n",
       "      <td>145.15700</td>\n",
       "    </tr>\n",
       "    <tr>\n",
       "      <th>15251</th>\n",
       "      <td>2019-05-15 14:12:00</td>\n",
       "      <td>gbpusd</td>\n",
       "      <td>1.28550</td>\n",
       "    </tr>\n",
       "    <tr>\n",
       "      <th>1110</th>\n",
       "      <td>2019-05-01 18:31:00</td>\n",
       "      <td>gbpusd</td>\n",
       "      <td>1.30524</td>\n",
       "    </tr>\n",
       "    <tr>\n",
       "      <th>2058</th>\n",
       "      <td>2019-05-02 10:19:00</td>\n",
       "      <td>gbpjpy</td>\n",
       "      <td>145.28300</td>\n",
       "    </tr>\n",
       "    <tr>\n",
       "      <th>10880</th>\n",
       "      <td>2019-05-10 13:21:00</td>\n",
       "      <td>usdjpy</td>\n",
       "      <td>109.83100</td>\n",
       "    </tr>\n",
       "  </tbody>\n",
       "</table>\n",
       "</div>"
      ],
      "text/plain": [
       "                timestamp     ccy      close\n",
       "5116  2019-05-06 13:17:00  gbpjpy  145.15700\n",
       "15251 2019-05-15 14:12:00  gbpusd    1.28550\n",
       "1110  2019-05-01 18:31:00  gbpusd    1.30524\n",
       "2058  2019-05-02 10:19:00  gbpjpy  145.28300\n",
       "10880 2019-05-10 13:21:00  usdjpy  109.83100"
      ]
     },
     "execution_count": 25,
     "metadata": {},
     "output_type": "execute_result"
    }
   ],
   "source": [
    "X.sample(5)"
   ]
  },
  {
   "cell_type": "markdown",
   "metadata": {},
   "source": [
    "## 2.7 Missing Data Analysis\n",
    "#### An imputing policy:\n",
    "- First we sort `X` by `ccy` and `timestamp`, and reset the index.\n",
    "- Then we group `X` by `ccy`\n",
    "- We finally forwardfill (use previous values to fill missing values)"
   ]
  },
  {
   "cell_type": "code",
   "execution_count": 26,
   "metadata": {
    "ExecuteTime": {
     "end_time": "2019-11-04T14:22:45.560169Z",
     "start_time": "2019-11-04T14:22:45.526798Z"
    }
   },
   "outputs": [],
   "source": [
    "X = X.sort_values(by=['ccy','timestamp'])\n",
    "X.reset_index(drop=True, inplace=True)"
   ]
  },
  {
   "cell_type": "markdown",
   "metadata": {},
   "source": [
    "### Missing data\n",
    "- `close`: 1,178\n",
    "- We impute them by previous values (done by group)"
   ]
  },
  {
   "cell_type": "code",
   "execution_count": 28,
   "metadata": {
    "ExecuteTime": {
     "end_time": "2019-11-04T14:23:01.826188Z",
     "start_time": "2019-11-04T14:23:01.816758Z"
    }
   },
   "outputs": [
    {
     "data": {
      "text/plain": [
       "timestamp       0\n",
       "ccy             0\n",
       "close        1178\n",
       "dtype: int64"
      ]
     },
     "execution_count": 28,
     "metadata": {},
     "output_type": "execute_result"
    }
   ],
   "source": [
    "X.isna().sum()"
   ]
  },
  {
   "cell_type": "code",
   "execution_count": 29,
   "metadata": {
    "ExecuteTime": {
     "end_time": "2019-11-04T14:23:10.331443Z",
     "start_time": "2019-11-04T14:23:10.317904Z"
    }
   },
   "outputs": [],
   "source": [
    "g = X.groupby('ccy')\n",
    "X['close'] = g['close'].fillna(method='ffill')"
   ]
  },
  {
   "cell_type": "markdown",
   "metadata": {},
   "source": [
    "#### Now we have no missing value. Cleaning is *done*."
   ]
  },
  {
   "cell_type": "code",
   "execution_count": 30,
   "metadata": {
    "ExecuteTime": {
     "end_time": "2019-11-04T14:23:11.196730Z",
     "start_time": "2019-11-04T14:23:11.185225Z"
    }
   },
   "outputs": [
    {
     "data": {
      "text/plain": [
       "timestamp    0\n",
       "ccy          0\n",
       "close        0\n",
       "dtype: int64"
      ]
     },
     "execution_count": 30,
     "metadata": {},
     "output_type": "execute_result"
    }
   ],
   "source": [
    "X.isna().sum()"
   ]
  },
  {
   "cell_type": "code",
   "execution_count": 32,
   "metadata": {
    "ExecuteTime": {
     "end_time": "2019-11-04T14:25:58.236444Z",
     "start_time": "2019-11-04T14:25:58.232919Z"
    }
   },
   "outputs": [],
   "source": [
    "X.reset_index(drop=True, inplace=True)"
   ]
  },
  {
   "cell_type": "code",
   "execution_count": 33,
   "metadata": {
    "ExecuteTime": {
     "end_time": "2019-11-04T14:25:58.867056Z",
     "start_time": "2019-11-04T14:25:58.858901Z"
    }
   },
   "outputs": [
    {
     "data": {
      "text/html": [
       "<div>\n",
       "<style scoped>\n",
       "    .dataframe tbody tr th:only-of-type {\n",
       "        vertical-align: middle;\n",
       "    }\n",
       "\n",
       "    .dataframe tbody tr th {\n",
       "        vertical-align: top;\n",
       "    }\n",
       "\n",
       "    .dataframe thead th {\n",
       "        text-align: right;\n",
       "    }\n",
       "</style>\n",
       "<table border=\"1\" class=\"dataframe\">\n",
       "  <thead>\n",
       "    <tr style=\"text-align: right;\">\n",
       "      <th></th>\n",
       "      <th>timestamp</th>\n",
       "      <th>ccy</th>\n",
       "      <th>close</th>\n",
       "    </tr>\n",
       "  </thead>\n",
       "  <tbody>\n",
       "    <tr>\n",
       "      <th>0</th>\n",
       "      <td>2019-05-01 00:01:00</td>\n",
       "      <td>gbpjpy</td>\n",
       "      <td>145.451</td>\n",
       "    </tr>\n",
       "    <tr>\n",
       "      <th>1</th>\n",
       "      <td>2019-05-01 00:02:00</td>\n",
       "      <td>gbpjpy</td>\n",
       "      <td>145.465</td>\n",
       "    </tr>\n",
       "    <tr>\n",
       "      <th>2</th>\n",
       "      <td>2019-05-01 00:03:00</td>\n",
       "      <td>gbpjpy</td>\n",
       "      <td>145.459</td>\n",
       "    </tr>\n",
       "    <tr>\n",
       "      <th>3</th>\n",
       "      <td>2019-05-01 00:04:00</td>\n",
       "      <td>gbpjpy</td>\n",
       "      <td>145.453</td>\n",
       "    </tr>\n",
       "    <tr>\n",
       "      <th>4</th>\n",
       "      <td>2019-05-01 00:05:00</td>\n",
       "      <td>gbpjpy</td>\n",
       "      <td>145.450</td>\n",
       "    </tr>\n",
       "  </tbody>\n",
       "</table>\n",
       "</div>"
      ],
      "text/plain": [
       "            timestamp     ccy    close\n",
       "0 2019-05-01 00:01:00  gbpjpy  145.451\n",
       "1 2019-05-01 00:02:00  gbpjpy  145.465\n",
       "2 2019-05-01 00:03:00  gbpjpy  145.459\n",
       "3 2019-05-01 00:04:00  gbpjpy  145.453\n",
       "4 2019-05-01 00:05:00  gbpjpy  145.450"
      ]
     },
     "execution_count": 33,
     "metadata": {},
     "output_type": "execute_result"
    }
   ],
   "source": [
    "X.head()"
   ]
  },
  {
   "cell_type": "markdown",
   "metadata": {},
   "source": [
    "## 2.9 Let's plot for a visual check."
   ]
  },
  {
   "cell_type": "code",
   "execution_count": 34,
   "metadata": {
    "ExecuteTime": {
     "end_time": "2019-11-04T14:26:12.170834Z",
     "start_time": "2019-11-04T14:26:12.158308Z"
    }
   },
   "outputs": [],
   "source": [
    "# Code: https://stackoverflow.com/questions/11640243/pandas-plot-multiple-y-axes\n",
    "def plot_multi(data, cols=None, spacing=.1, **kwargs):\n",
    "\n",
    "    from pandas import plotting\n",
    "\n",
    "    # Get default color style from pandas - can be changed to any other color list\n",
    "    if cols is None: cols = data.columns\n",
    "    if len(cols) == 0: return\n",
    "    colors = getattr(getattr(plotting, '_matplotlib').style, '_get_standard_colors')(num_colors=len(cols))\n",
    "\n",
    "    # First axis\n",
    "    ax = data.loc[:, cols[0]].plot(label=cols[0], color=colors[0], **kwargs)\n",
    "    ax.set_ylabel(ylabel=cols[0])\n",
    "    ax.tick_params(axis='y', colors=colors[0])\n",
    "    lines, labels = ax.get_legend_handles_labels()\n",
    "\n",
    "    for n in range(1, len(cols)):\n",
    "        # Multiple y-axes\n",
    "        ax_new = ax.twinx()\n",
    "        ax_new.spines['right'].set_position(('axes', 1 + spacing * (n - 1)))\n",
    "        data.loc[:, cols[n]].plot(ax=ax_new, label=cols[n], color=colors[n % len(colors)])\n",
    "        ax_new.set_ylabel(ylabel=cols[n])\n",
    "        ax_new.tick_params(axis='y', colors=colors[n % len(colors)])\n",
    "\n",
    "        # Proper legend position\n",
    "        line, label = ax_new.get_legend_handles_labels()\n",
    "        lines += line\n",
    "        labels += label\n",
    "\n",
    "    ax.legend(lines, labels, loc=0)\n",
    "    return ax"
   ]
  },
  {
   "cell_type": "code",
   "execution_count": 36,
   "metadata": {
    "ExecuteTime": {
     "end_time": "2019-11-04T14:26:38.335756Z",
     "start_time": "2019-11-04T14:26:38.310957Z"
    }
   },
   "outputs": [],
   "source": [
    "close_dict = dict()\n",
    "for ccy in ccy_list:\n",
    "    close_dict[ccy] = X[X.ccy==ccy].close.reset_index(drop=True)\n",
    "X_close = pd.DataFrame(close_dict)"
   ]
  },
  {
   "cell_type": "code",
   "execution_count": 38,
   "metadata": {
    "ExecuteTime": {
     "end_time": "2019-11-04T14:26:44.450922Z",
     "start_time": "2019-11-04T14:26:44.442169Z"
    }
   },
   "outputs": [
    {
     "data": {
      "text/html": [
       "<div>\n",
       "<style scoped>\n",
       "    .dataframe tbody tr th:only-of-type {\n",
       "        vertical-align: middle;\n",
       "    }\n",
       "\n",
       "    .dataframe tbody tr th {\n",
       "        vertical-align: top;\n",
       "    }\n",
       "\n",
       "    .dataframe thead th {\n",
       "        text-align: right;\n",
       "    }\n",
       "</style>\n",
       "<table border=\"1\" class=\"dataframe\">\n",
       "  <thead>\n",
       "    <tr style=\"text-align: right;\">\n",
       "      <th></th>\n",
       "      <th>gbpjpy</th>\n",
       "      <th>gbpusd</th>\n",
       "      <th>usdjpy</th>\n",
       "    </tr>\n",
       "  </thead>\n",
       "  <tbody>\n",
       "    <tr>\n",
       "      <th>0</th>\n",
       "      <td>145.451</td>\n",
       "      <td>1.30428</td>\n",
       "      <td>111.488</td>\n",
       "    </tr>\n",
       "    <tr>\n",
       "      <th>1</th>\n",
       "      <td>145.465</td>\n",
       "      <td>1.30439</td>\n",
       "      <td>111.489</td>\n",
       "    </tr>\n",
       "    <tr>\n",
       "      <th>2</th>\n",
       "      <td>145.459</td>\n",
       "      <td>1.30437</td>\n",
       "      <td>111.489</td>\n",
       "    </tr>\n",
       "    <tr>\n",
       "      <th>3</th>\n",
       "      <td>145.453</td>\n",
       "      <td>1.30428</td>\n",
       "      <td>111.489</td>\n",
       "    </tr>\n",
       "    <tr>\n",
       "      <th>4</th>\n",
       "      <td>145.450</td>\n",
       "      <td>1.30430</td>\n",
       "      <td>111.488</td>\n",
       "    </tr>\n",
       "  </tbody>\n",
       "</table>\n",
       "</div>"
      ],
      "text/plain": [
       "    gbpjpy   gbpusd   usdjpy\n",
       "0  145.451  1.30428  111.488\n",
       "1  145.465  1.30439  111.489\n",
       "2  145.459  1.30437  111.489\n",
       "3  145.453  1.30428  111.489\n",
       "4  145.450  1.30430  111.488"
      ]
     },
     "execution_count": 38,
     "metadata": {},
     "output_type": "execute_result"
    }
   ],
   "source": [
    "X_close.head()"
   ]
  },
  {
   "cell_type": "markdown",
   "metadata": {},
   "source": [
    "#### Plot"
   ]
  },
  {
   "cell_type": "code",
   "execution_count": 39,
   "metadata": {
    "ExecuteTime": {
     "end_time": "2019-11-04T14:26:57.124429Z",
     "start_time": "2019-11-04T14:26:56.470958Z"
    },
    "scrolled": true
   },
   "outputs": [
    {
     "data": {
      "text/plain": [
       "<matplotlib.axes._subplots.AxesSubplot at 0x11e25f2e8>"
      ]
     },
     "execution_count": 39,
     "metadata": {},
     "output_type": "execute_result"
    },
    {
     "data": {
      "image/png": "[encoded data removed]",
      "text/plain": [
       "<Figure size 720x360 with 3 Axes>"
      ]
     },
     "metadata": {},
     "output_type": "display_data"
    }
   ],
   "source": [
    "plot_multi(X_close, figsize=(10, 5))"
   ]
  },
  {
   "cell_type": "code",
   "execution_count": null,
   "metadata": {},
   "outputs": [],
   "source": []
  },
  {
   "cell_type": "markdown",
   "metadata": {},
   "source": [
    "# 3. Data set `X` is ready"
   ]
  },
  {
   "cell_type": "markdown",
   "metadata": {},
   "source": [
    "## 3.1 Take a look"
   ]
  },
  {
   "cell_type": "code",
   "execution_count": 40,
   "metadata": {
    "ExecuteTime": {
     "end_time": "2019-11-04T14:27:05.659498Z",
     "start_time": "2019-11-04T14:27:05.652040Z"
    }
   },
   "outputs": [
    {
     "data": {
      "text/plain": [
       "(97554, 3)"
      ]
     },
     "execution_count": 40,
     "metadata": {},
     "output_type": "execute_result"
    }
   ],
   "source": [
    "X.shape"
   ]
  },
  {
   "cell_type": "code",
   "execution_count": 41,
   "metadata": {
    "ExecuteTime": {
     "end_time": "2019-11-04T14:27:06.888245Z",
     "start_time": "2019-11-04T14:27:06.875685Z"
    }
   },
   "outputs": [
    {
     "data": {
      "text/html": [
       "<div>\n",
       "<style scoped>\n",
       "    .dataframe tbody tr th:only-of-type {\n",
       "        vertical-align: middle;\n",
       "    }\n",
       "\n",
       "    .dataframe tbody tr th {\n",
       "        vertical-align: top;\n",
       "    }\n",
       "\n",
       "    .dataframe thead th {\n",
       "        text-align: right;\n",
       "    }\n",
       "</style>\n",
       "<table border=\"1\" class=\"dataframe\">\n",
       "  <thead>\n",
       "    <tr style=\"text-align: right;\">\n",
       "      <th></th>\n",
       "      <th>timestamp</th>\n",
       "      <th>ccy</th>\n",
       "      <th>close</th>\n",
       "    </tr>\n",
       "  </thead>\n",
       "  <tbody>\n",
       "    <tr>\n",
       "      <th>57829</th>\n",
       "      <td>2019-05-24 13:53:00</td>\n",
       "      <td>gbpusd</td>\n",
       "      <td>1.27171</td>\n",
       "    </tr>\n",
       "    <tr>\n",
       "      <th>23283</th>\n",
       "      <td>2019-05-23 04:05:00</td>\n",
       "      <td>gbpjpy</td>\n",
       "      <td>139.07700</td>\n",
       "    </tr>\n",
       "    <tr>\n",
       "      <th>85714</th>\n",
       "      <td>2019-05-21 08:40:00</td>\n",
       "      <td>usdjpy</td>\n",
       "      <td>110.53800</td>\n",
       "    </tr>\n",
       "    <tr>\n",
       "      <th>97285</th>\n",
       "      <td>2019-05-31 12:30:00</td>\n",
       "      <td>usdjpy</td>\n",
       "      <td>108.55500</td>\n",
       "    </tr>\n",
       "    <tr>\n",
       "      <th>53095</th>\n",
       "      <td>2019-05-21 06:59:00</td>\n",
       "      <td>gbpusd</td>\n",
       "      <td>1.26955</td>\n",
       "    </tr>\n",
       "  </tbody>\n",
       "</table>\n",
       "</div>"
      ],
      "text/plain": [
       "                timestamp     ccy      close\n",
       "57829 2019-05-24 13:53:00  gbpusd    1.27171\n",
       "23283 2019-05-23 04:05:00  gbpjpy  139.07700\n",
       "85714 2019-05-21 08:40:00  usdjpy  110.53800\n",
       "97285 2019-05-31 12:30:00  usdjpy  108.55500\n",
       "53095 2019-05-21 06:59:00  gbpusd    1.26955"
      ]
     },
     "execution_count": 41,
     "metadata": {},
     "output_type": "execute_result"
    }
   ],
   "source": [
    "X.sample(5)"
   ]
  },
  {
   "cell_type": "code",
   "execution_count": 42,
   "metadata": {
    "ExecuteTime": {
     "end_time": "2019-11-04T14:27:11.028994Z",
     "start_time": "2019-11-04T14:27:11.011442Z"
    }
   },
   "outputs": [
    {
     "data": {
      "text/html": [
       "<div>\n",
       "<style scoped>\n",
       "    .dataframe tbody tr th:only-of-type {\n",
       "        vertical-align: middle;\n",
       "    }\n",
       "\n",
       "    .dataframe tbody tr th {\n",
       "        vertical-align: top;\n",
       "    }\n",
       "\n",
       "    .dataframe thead th {\n",
       "        text-align: right;\n",
       "    }\n",
       "</style>\n",
       "<table border=\"1\" class=\"dataframe\">\n",
       "  <thead>\n",
       "    <tr style=\"text-align: right;\">\n",
       "      <th></th>\n",
       "      <th>timestamp</th>\n",
       "      <th>ccy</th>\n",
       "      <th>close</th>\n",
       "    </tr>\n",
       "  </thead>\n",
       "  <tbody>\n",
       "    <tr>\n",
       "      <th>32518</th>\n",
       "      <td>2019-05-01 00:01:00</td>\n",
       "      <td>gbpusd</td>\n",
       "      <td>1.30428</td>\n",
       "    </tr>\n",
       "    <tr>\n",
       "      <th>32519</th>\n",
       "      <td>2019-05-01 00:02:00</td>\n",
       "      <td>gbpusd</td>\n",
       "      <td>1.30439</td>\n",
       "    </tr>\n",
       "    <tr>\n",
       "      <th>32520</th>\n",
       "      <td>2019-05-01 00:03:00</td>\n",
       "      <td>gbpusd</td>\n",
       "      <td>1.30437</td>\n",
       "    </tr>\n",
       "    <tr>\n",
       "      <th>32521</th>\n",
       "      <td>2019-05-01 00:04:00</td>\n",
       "      <td>gbpusd</td>\n",
       "      <td>1.30428</td>\n",
       "    </tr>\n",
       "    <tr>\n",
       "      <th>32522</th>\n",
       "      <td>2019-05-01 00:05:00</td>\n",
       "      <td>gbpusd</td>\n",
       "      <td>1.30430</td>\n",
       "    </tr>\n",
       "  </tbody>\n",
       "</table>\n",
       "</div>"
      ],
      "text/plain": [
       "                timestamp     ccy    close\n",
       "32518 2019-05-01 00:01:00  gbpusd  1.30428\n",
       "32519 2019-05-01 00:02:00  gbpusd  1.30439\n",
       "32520 2019-05-01 00:03:00  gbpusd  1.30437\n",
       "32521 2019-05-01 00:04:00  gbpusd  1.30428\n",
       "32522 2019-05-01 00:05:00  gbpusd  1.30430"
      ]
     },
     "execution_count": 42,
     "metadata": {},
     "output_type": "execute_result"
    }
   ],
   "source": [
    "X[X.ccy=='gbpusd'].head(5)"
   ]
  },
  {
   "cell_type": "markdown",
   "metadata": {},
   "source": [
    "## 3.2 Make an observation matrix $\\mathbf{H}_k$"
   ]
  },
  {
   "cell_type": "markdown",
   "metadata": {},
   "source": [
    "#### We take logs here."
   ]
  },
  {
   "cell_type": "code",
   "execution_count": 322,
   "metadata": {
    "ExecuteTime": {
     "end_time": "2019-11-04T18:29:57.343980Z",
     "start_time": "2019-11-04T18:29:57.241173Z"
    }
   },
   "outputs": [],
   "source": [
    "close_dict = dict()\n",
    "for ccy in ccy_list:\n",
    "    close_dict[ccy] = np.log(X[X.ccy==ccy].close).reset_index(drop=True)\n",
    "Z_df = pd.DataFrame(close_dict)\n",
    "Z = np.array(Z_df)"
   ]
  },
  {
   "cell_type": "code",
   "execution_count": 323,
   "metadata": {
    "ExecuteTime": {
     "end_time": "2019-11-04T18:29:57.484878Z",
     "start_time": "2019-11-04T18:29:57.475914Z"
    }
   },
   "outputs": [
    {
     "data": {
      "text/html": [
       "<div>\n",
       "<style scoped>\n",
       "    .dataframe tbody tr th:only-of-type {\n",
       "        vertical-align: middle;\n",
       "    }\n",
       "\n",
       "    .dataframe tbody tr th {\n",
       "        vertical-align: top;\n",
       "    }\n",
       "\n",
       "    .dataframe thead th {\n",
       "        text-align: right;\n",
       "    }\n",
       "</style>\n",
       "<table border=\"1\" class=\"dataframe\">\n",
       "  <thead>\n",
       "    <tr style=\"text-align: right;\">\n",
       "      <th></th>\n",
       "      <th>gbpjpy</th>\n",
       "      <th>gbpusd</th>\n",
       "      <th>usdjpy</th>\n",
       "    </tr>\n",
       "  </thead>\n",
       "  <tbody>\n",
       "    <tr>\n",
       "      <th>0</th>\n",
       "      <td>4.979839</td>\n",
       "      <td>0.265651</td>\n",
       "      <td>4.713917</td>\n",
       "    </tr>\n",
       "    <tr>\n",
       "      <th>1</th>\n",
       "      <td>4.979936</td>\n",
       "      <td>0.265735</td>\n",
       "      <td>4.713926</td>\n",
       "    </tr>\n",
       "    <tr>\n",
       "      <th>2</th>\n",
       "      <td>4.979894</td>\n",
       "      <td>0.265720</td>\n",
       "      <td>4.713926</td>\n",
       "    </tr>\n",
       "    <tr>\n",
       "      <th>3</th>\n",
       "      <td>4.979853</td>\n",
       "      <td>0.265651</td>\n",
       "      <td>4.713926</td>\n",
       "    </tr>\n",
       "    <tr>\n",
       "      <th>4</th>\n",
       "      <td>4.979832</td>\n",
       "      <td>0.265666</td>\n",
       "      <td>4.713917</td>\n",
       "    </tr>\n",
       "  </tbody>\n",
       "</table>\n",
       "</div>"
      ],
      "text/plain": [
       "     gbpjpy    gbpusd    usdjpy\n",
       "0  4.979839  0.265651  4.713917\n",
       "1  4.979936  0.265735  4.713926\n",
       "2  4.979894  0.265720  4.713926\n",
       "3  4.979853  0.265651  4.713926\n",
       "4  4.979832  0.265666  4.713917"
      ]
     },
     "execution_count": 323,
     "metadata": {},
     "output_type": "execute_result"
    }
   ],
   "source": [
    "Z_df.head()"
   ]
  },
  {
   "cell_type": "code",
   "execution_count": 324,
   "metadata": {
    "ExecuteTime": {
     "end_time": "2019-11-04T18:29:57.797658Z",
     "start_time": "2019-11-04T18:29:57.792990Z"
    }
   },
   "outputs": [
    {
     "data": {
      "text/plain": [
       "(25739, 3)"
      ]
     },
     "execution_count": 324,
     "metadata": {},
     "output_type": "execute_result"
    }
   ],
   "source": [
    "Z.shape"
   ]
  },
  {
   "cell_type": "markdown",
   "metadata": {},
   "source": [
    "## Split: Training set and Validation set(=evaluation set)\n",
    "- Training set `X_train`: The first two and a half weeks (From May 1, 2019 to May 19, 2019)\n",
    "- Validation set `X_val`: The following one week (From May 20, 2019 to May 26, 2019)\n",
    "- Test set `X_test`: The rest of days (From May 27, 2019 to May 31, 2019)\n",
    "  - In fact, we never create `X_test` until the very last moment."
   ]
  },
  {
   "cell_type": "code",
   "execution_count": 43,
   "metadata": {
    "ExecuteTime": {
     "end_time": "2019-11-04T14:27:24.059688Z",
     "start_time": "2019-11-04T14:27:24.045318Z"
    }
   },
   "outputs": [],
   "source": [
    "X_train = X[(X.timestamp >= pd.datetime(2019, 5, 1)) &\n",
    "            (X.timestamp < pd.datetime(2019, 5, 20))]\n",
    "X_val = X[(X.timestamp >= pd.datetime(2019, 5, 20)) &\n",
    "          (X.timestamp < pd.datetime(2019, 5, 27))]"
   ]
  },
  {
   "cell_type": "code",
   "execution_count": 44,
   "metadata": {
    "ExecuteTime": {
     "end_time": "2019-11-04T14:27:24.840338Z",
     "start_time": "2019-11-04T14:27:24.822459Z"
    }
   },
   "outputs": [],
   "source": [
    "X.drop(X[(X.timestamp >= pd.datetime(2019, 5, 27)) & (\n",
    "    X.timestamp < pd.datetime(2019, 6, 1))].index, inplace=True)"
   ]
  },
  {
   "cell_type": "code",
   "execution_count": 45,
   "metadata": {
    "ExecuteTime": {
     "end_time": "2019-11-04T14:27:25.387268Z",
     "start_time": "2019-11-04T14:27:25.378943Z"
    },
    "scrolled": false
   },
   "outputs": [
    {
     "data": {
      "text/html": [
       "<div>\n",
       "<style scoped>\n",
       "    .dataframe tbody tr th:only-of-type {\n",
       "        vertical-align: middle;\n",
       "    }\n",
       "\n",
       "    .dataframe tbody tr th {\n",
       "        vertical-align: top;\n",
       "    }\n",
       "\n",
       "    .dataframe thead th {\n",
       "        text-align: right;\n",
       "    }\n",
       "</style>\n",
       "<table border=\"1\" class=\"dataframe\">\n",
       "  <thead>\n",
       "    <tr style=\"text-align: right;\">\n",
       "      <th></th>\n",
       "      <th>timestamp</th>\n",
       "      <th>ccy</th>\n",
       "      <th>close</th>\n",
       "    </tr>\n",
       "  </thead>\n",
       "  <tbody>\n",
       "    <tr>\n",
       "      <th>90770</th>\n",
       "      <td>2019-05-26 23:55:00</td>\n",
       "      <td>usdjpy</td>\n",
       "      <td>109.457</td>\n",
       "    </tr>\n",
       "    <tr>\n",
       "      <th>90771</th>\n",
       "      <td>2019-05-26 23:56:00</td>\n",
       "      <td>usdjpy</td>\n",
       "      <td>109.458</td>\n",
       "    </tr>\n",
       "    <tr>\n",
       "      <th>90772</th>\n",
       "      <td>2019-05-26 23:57:00</td>\n",
       "      <td>usdjpy</td>\n",
       "      <td>109.457</td>\n",
       "    </tr>\n",
       "    <tr>\n",
       "      <th>90773</th>\n",
       "      <td>2019-05-26 23:58:00</td>\n",
       "      <td>usdjpy</td>\n",
       "      <td>109.452</td>\n",
       "    </tr>\n",
       "    <tr>\n",
       "      <th>90774</th>\n",
       "      <td>2019-05-26 23:59:00</td>\n",
       "      <td>usdjpy</td>\n",
       "      <td>109.447</td>\n",
       "    </tr>\n",
       "  </tbody>\n",
       "</table>\n",
       "</div>"
      ],
      "text/plain": [
       "                timestamp     ccy    close\n",
       "90770 2019-05-26 23:55:00  usdjpy  109.457\n",
       "90771 2019-05-26 23:56:00  usdjpy  109.458\n",
       "90772 2019-05-26 23:57:00  usdjpy  109.457\n",
       "90773 2019-05-26 23:58:00  usdjpy  109.452\n",
       "90774 2019-05-26 23:59:00  usdjpy  109.447"
      ]
     },
     "execution_count": 45,
     "metadata": {},
     "output_type": "execute_result"
    }
   ],
   "source": [
    "X.tail()"
   ]
  },
  {
   "cell_type": "markdown",
   "metadata": {},
   "source": [
    "## 3.2 Save to csv files"
   ]
  },
  {
   "cell_type": "code",
   "execution_count": 46,
   "metadata": {
    "ExecuteTime": {
     "end_time": "2019-11-04T14:27:31.774423Z",
     "start_time": "2019-11-04T14:27:31.449968Z"
    }
   },
   "outputs": [],
   "source": [
    "X_train.to_csv('../dataset/toy_X_train.csv', index=False)\n",
    "X_val.to_csv('../dataset/toy_X_val.csv', index=False)"
   ]
  },
  {
   "cell_type": "markdown",
   "metadata": {},
   "source": [
    "### The end of preprocessing ------------------------------------------------"
   ]
  },
  {
   "cell_type": "code",
   "execution_count": null,
   "metadata": {},
   "outputs": [],
   "source": []
  },
  {
   "cell_type": "markdown",
   "metadata": {},
   "source": [
    "# Adaptive Kalman Filter"
   ]
  },
  {
   "cell_type": "markdown",
   "metadata": {},
   "source": [
    "# 1. Import packages"
   ]
  },
  {
   "cell_type": "code",
   "execution_count": 47,
   "metadata": {
    "ExecuteTime": {
     "end_time": "2019-11-04T14:44:45.938772Z",
     "start_time": "2019-11-04T14:44:45.913079Z"
    }
   },
   "outputs": [],
   "source": [
    "from filterpy.kalman import KalmanFilter\n",
    "from filterpy.common import Q_discrete_white_noise"
   ]
  },
  {
   "cell_type": "markdown",
   "metadata": {},
   "source": [
    "# 2. Setup"
   ]
  },
  {
   "cell_type": "markdown",
   "metadata": {},
   "source": [
    "- $x$ is hidden states, i.e., intrinsic values of currencies.\n",
    "- $z$ is measurements, i.e., FX rates of currency pairs. It's a 3-dimension observation because we have three currency pairs.\n",
    "- The order of measurements is assumed to be GBPJPY, GBPUSD, USDJPY\n",
    "- The order of latent variables is GBP, JPY, USD"
   ]
  },
  {
   "cell_type": "markdown",
   "metadata": {},
   "source": [
    "## 2.1 Set variables"
   ]
  },
  {
   "cell_type": "code",
   "execution_count": 560,
   "metadata": {
    "ExecuteTime": {
     "end_time": "2019-11-04T19:09:26.342731Z",
     "start_time": "2019-11-04T19:09:26.337425Z"
    }
   },
   "outputs": [],
   "source": [
    "var_P = 0.001**2\n",
    "var_R = 0.0003**2      # The measurement noise. \n",
    "var_Q = 0.005**2      # Variance for Q (white noise)\n",
    "\n",
    "# time step in whatever units your filter is using for time.\n",
    "# i.e. the amount of time between innovations\n",
    "dt = 1\n",
    "\n",
    "F = np.array([[1,  1,  0],\n",
    "              [0,  1,  1],\n",
    "              [0,  0,  1]])\n",
    "\n",
    "H = np.array([[1,0,0],\n",
    "              [0,0,0],\n",
    "              [0,0,0]])"
   ]
  },
  {
   "cell_type": "markdown",
   "metadata": {},
   "source": [
    "## 2.2 Define a KF function"
   ]
  },
  {
   "cell_type": "code",
   "execution_count": 657,
   "metadata": {
    "ExecuteTime": {
     "end_time": "2019-11-04T19:28:45.058755Z",
     "start_time": "2019-11-04T19:28:45.052850Z"
    }
   },
   "outputs": [],
   "source": [
    "def make_cv_filter(X0, F, H, dim_x=3, dim_z=3, dt=1, var_P=0.0001**2, var_R=0.0003**2, var_Q=0.0001**2):\n",
    "    cvfilter = KalmanFilter(dim_x=dim_x, dim_z=dim_z)\n",
    "    cvfilter.x = np.array(X0)\n",
    "\n",
    "    # The covariance matrix, which already contains np.eye(dim_x),\n",
    "    # so just multiply by the uncertainty.\n",
    "    cvfilter.P *= var_P\n",
    "\n",
    "    # The measurement noise.\n",
    "    cvfilter.R *= var_R\n",
    "\n",
    "    # The state transition matrix\n",
    "    cvfilter.F = F\n",
    "\n",
    "    # The measurement function\n",
    "    cvfilter.H = H\n",
    "    \n",
    "    # Tje covariance matrix for hidden states `x`\n",
    "    cvfilter.Q = Q_discrete_white_noise(dim=dim_x, dt=1, var=var_Q)\n",
    "\n",
    "    return cvfilter"
   ]
  },
  {
   "cell_type": "code",
   "execution_count": 658,
   "metadata": {
    "ExecuteTime": {
     "end_time": "2019-11-04T19:28:45.222514Z",
     "start_time": "2019-11-04T19:28:45.218243Z"
    }
   },
   "outputs": [],
   "source": [
    "kf = make_cv_filter(X0=Z[0,:], F=F, H=H, dim_x=3, dim_z=3, dt=1,\n",
    "                    var_P=var_P, var_R=var_R, var_Q=var_Q)"
   ]
  },
  {
   "cell_type": "code",
   "execution_count": null,
   "metadata": {},
   "outputs": [],
   "source": []
  },
  {
   "cell_type": "code",
   "execution_count": null,
   "metadata": {},
   "outputs": [],
   "source": []
  },
  {
   "cell_type": "markdown",
   "metadata": {},
   "source": [
    "## 2.3 See how it goes"
   ]
  },
  {
   "cell_type": "code",
   "execution_count": 659,
   "metadata": {
    "ExecuteTime": {
     "end_time": "2019-11-04T19:28:46.078584Z",
     "start_time": "2019-11-04T19:28:46.075767Z"
    }
   },
   "outputs": [],
   "source": [
    "from numpy.linalg import inv"
   ]
  },
  {
   "cell_type": "code",
   "execution_count": 660,
   "metadata": {
    "ExecuteTime": {
     "end_time": "2019-11-04T19:28:47.204088Z",
     "start_time": "2019-11-04T19:28:47.200233Z"
    }
   },
   "outputs": [],
   "source": [
    "test_sz=100\n",
    "test_z = Z[:test_sz, :]\n",
    "test_gbpjpy = Z[:test_sz, 0]\n",
    "test_gbpusd = Z[:test_sz, 1]\n",
    "test_usdjpy = Z[:test_sz, 2]\n",
    "t = np.arange(0, len(test_gbpjpy), dt)"
   ]
  },
  {
   "cell_type": "code",
   "execution_count": 663,
   "metadata": {
    "ExecuteTime": {
     "end_time": "2019-11-04T19:29:51.080702Z",
     "start_time": "2019-11-04T19:29:51.054203Z"
    },
    "scrolled": true
   },
   "outputs": [],
   "source": [
    "Q_scale_factor = 10.\n",
    "eps_max = 2\n",
    "x_gbpjpy, x_gbpusd, x_usdjpy = [], [], []\n",
    "epss = []\n",
    "\n",
    "count = 0\n",
    "for z in test_z:\n",
    "    kf.predict()\n",
    "    kf.update([z])\n",
    "    y, S = kf.y, kf.S\n",
    "    eps = np.dot(y.T, inv(S)).dot(y)\n",
    "    epss.append(eps)\n",
    "    x_gbpjpy.append(kf.x[0])\n",
    "    x_gbpusd.append(kf.x[1])\n",
    "    x_usdjpy.append(kf.x[2])\n",
    "    \n",
    "    if eps > eps_max:\n",
    "        kf.Q *= Q_scale_factor\n",
    "        count += 1\n",
    "    elif count > 0:\n",
    "        kf.Q /= Q_scale_factor\n",
    "        count -= 1"
   ]
  },
  {
   "cell_type": "code",
   "execution_count": 683,
   "metadata": {
    "ExecuteTime": {
     "end_time": "2019-11-04T19:34:31.697271Z",
     "start_time": "2019-11-04T19:34:31.443081Z"
    }
   },
   "outputs": [
    {
     "data": {
      "image/png": "[encoded data removed]",
      "text/plain": [
       "<Figure size 432x288 with 1 Axes>"
      ]
     },
     "metadata": {
      "needs_background": "light"
     },
     "output_type": "display_data"
    }
   ],
   "source": [
    "# plot_track(test_gbpjpy, dt=dt, label='GBPJPY')\n",
    "# plot_measurements(test_gbpjpy, dt=dt, label='GBPJPY', alpha=0.5)\n",
    "plot_track(test_gbpjpy,dt=dt, label='GBPJPY')\n",
    "plot_filter(t, x_gbpjpy, dt=dt, label='KF')\n",
    "set_labels(title='GBPJPY vs KF', x='time (min)', y='X');\n",
    "plt.legend(loc=4);"
   ]
  },
  {
   "cell_type": "code",
   "execution_count": 681,
   "metadata": {
    "ExecuteTime": {
     "end_time": "2019-11-04T19:34:22.257863Z",
     "start_time": "2019-11-04T19:34:21.990330Z"
    }
   },
   "outputs": [
    {
     "data": {
      "image/png": "[encoded data removed]",
      "text/plain": [
       "<Figure size 432x288 with 1 Axes>"
      ]
     },
     "metadata": {
      "needs_background": "light"
     },
     "output_type": "display_data"
    }
   ],
   "source": [
    "plot_track(test_gbpusd, dt=dt, label='GBPUSD')\n",
    "plot_filter(t, x_gbpusd, dt=dt, label='KF')\n",
    "set_labels(title='GBPUSD vs KF', x='time (min)', y='X');\n",
    "plt.legend(loc=4);"
   ]
  },
  {
   "cell_type": "code",
   "execution_count": 682,
   "metadata": {
    "ExecuteTime": {
     "end_time": "2019-11-04T19:34:28.597568Z",
     "start_time": "2019-11-04T19:34:28.360641Z"
    }
   },
   "outputs": [
    {
     "data": {
      "image/png": "[encoded data removed]",
      "text/plain": [
       "<Figure size 432x288 with 1 Axes>"
      ]
     },
     "metadata": {
      "needs_background": "light"
     },
     "output_type": "display_data"
    }
   ],
   "source": [
    "plot_track(test_usdjpy, dt=dt, label='USDJPY')\n",
    "plot_filter(t, x_usdjpy, dt=dt, label='KF')\n",
    "set_labels(title='USDJPY vs KF', x='time (min)', y='X');\n",
    "plt.legend(loc=4);"
   ]
  },
  {
   "cell_type": "code",
   "execution_count": null,
   "metadata": {},
   "outputs": [],
   "source": []
  },
  {
   "cell_type": "code",
   "execution_count": null,
   "metadata": {},
   "outputs": [],
   "source": []
  },
  {
   "cell_type": "code",
   "execution_count": null,
   "metadata": {},
   "outputs": [],
   "source": []
  },
  {
   "cell_type": "code",
   "execution_count": 49,
   "metadata": {
    "ExecuteTime": {
     "end_time": "2019-11-04T15:40:28.922569Z",
     "start_time": "2019-11-04T15:40:28.911890Z"
    }
   },
   "outputs": [],
   "source": [
    "from math import sin, cos, radians\n",
    "\n",
    "def angle_between(x, y):\n",
    "    return min(y-x, y-x+360, y-x-360, key=abs)\n",
    "\n",
    "class ManeuveringTarget(object): \n",
    "    def __init__(self, x0, y0, v0, heading):\n",
    "        self.x = x0\n",
    "        self.y = y0\n",
    "        self.vel = v0\n",
    "        self.hdg = heading\n",
    "        \n",
    "        self.cmd_vel = v0\n",
    "        self.cmd_hdg = heading\n",
    "        self.vel_step = 0\n",
    "        self.hdg_step = 0\n",
    "        self.vel_delta = 0\n",
    "        self.hdg_delta = 0\n",
    "        \n",
    "        \n",
    "    def update(self):\n",
    "        vx = self.vel * cos(radians(90-self.hdg))\n",
    "        vy = self.vel * sin(radians(90-self.hdg))\n",
    "        self.x += vx\n",
    "        self.y += vy\n",
    "        \n",
    "        if self.hdg_step > 0:\n",
    "            self.hdg_step -= 1\n",
    "            self.hdg += self.hdg_delta\n",
    "\n",
    "        if self.vel_step > 0:\n",
    "            self.vel_step -= 1\n",
    "            self.vel += self.vel_delta\n",
    "        return (self.x, self.y)\n",
    "        \n",
    "\n",
    "    def set_commanded_heading(self, hdg_degrees, steps):\n",
    "        self.cmd_hdg = hdg_degrees\n",
    "        self.hdg_delta = angle_between(self.cmd_hdg, \n",
    "                                       self.hdg) / steps\n",
    "        if abs(self.hdg_delta) > 0:\n",
    "            self.hdg_step = steps\n",
    "        else:\n",
    "            self.hdg_step = 0\n",
    "            \n",
    "            \n",
    "    def set_commanded_speed(self, speed, steps):\n",
    "        self.cmd_vel = speed\n",
    "        self.vel_delta = (self.cmd_vel - self.vel) / steps\n",
    "        if abs(self.vel_delta) > 0:\n",
    "            self.vel_step = steps\n",
    "        else:\n",
    "            self.vel_step = 0"
   ]
  },
  {
   "cell_type": "code",
   "execution_count": 50,
   "metadata": {
    "ExecuteTime": {
     "end_time": "2019-11-04T15:40:33.629873Z",
     "start_time": "2019-11-04T15:40:33.624615Z"
    }
   },
   "outputs": [],
   "source": [
    "from numpy.random import randn\n",
    "\n",
    "class NoisySensor(object):\n",
    "    def __init__(self, std_noise=1.):\n",
    "        self.std = std_noise\n",
    "\n",
    "    def sense(self, pos):\n",
    "        \"\"\"Pass in actual position as tuple (x, y).       \n",
    "        Returns position with noise added (x,y)\"\"\"\n",
    "        \n",
    "        return (pos[0] + (randn() * self.std), \n",
    "                pos[1] + (randn() * self.std))"
   ]
  },
  {
   "cell_type": "code",
   "execution_count": 668,
   "metadata": {
    "ExecuteTime": {
     "end_time": "2019-11-04T19:31:03.533007Z",
     "start_time": "2019-11-04T19:31:03.504137Z"
    }
   },
   "outputs": [],
   "source": [
    "def plot_measurements(xs, ys=None, dt=None, color='k', lw=1, label='Measurements',\n",
    "                      lines=False, **kwargs):\n",
    "    \"\"\" Helper function to give a consistant way to display\n",
    "    measurements in the book.\n",
    "    \"\"\"\n",
    "    if ys is None and dt is not None:\n",
    "        ys = xs\n",
    "        xs = np.arange(0, len(ys)*dt, dt)\n",
    "\n",
    "    plt.autoscale(tight=True)\n",
    "    if lines:\n",
    "        if ys is not None:\n",
    "            return plt.plot(xs, ys, color=color, lw=lw, ls='--', label=label, **kwargs)\n",
    "        else:\n",
    "            return plt.plot(xs, color=color, lw=lw, ls='--', label=label, **kwargs)\n",
    "    else:\n",
    "        if ys is not None:\n",
    "            return plt.scatter(xs, ys, edgecolor=color, facecolor='none',\n",
    "                               lw=2, label=label, **kwargs),\n",
    "        else:\n",
    "            return plt.scatter(range(len(xs)), xs, edgecolor=color, facecolor='none',\n",
    "                               lw=2, label=label, **kwargs),\n",
    "\n",
    "def plot_track(xs, ys=None, dt=None, label='Track', c='k', lw=2, **kwargs):\n",
    "    if ys is None and dt is not None:\n",
    "        ys = xs\n",
    "        xs = np.arange(0, len(ys)*dt, dt)\n",
    "    if ys is not None:\n",
    "        return plt.plot(xs, ys, color=c, lw=lw, ls=':', label=label, **kwargs)\n",
    "    else:\n",
    "        return plt.plot(xs, color=c, lw=lw, ls=':', label=label, **kwargs)\n",
    "    \n",
    "def plot_filter(xs, ys=None, dt=None, c='C0', label='Filter', var=None, **kwargs):\n",
    "    \"\"\" plot result of KF with color `c`, optionally displaying the variance\n",
    "    of `xs`. Returns the list of lines generated by plt.plot()\"\"\"\n",
    " \n",
    "    if ys is None and dt is not None:\n",
    "        ys = xs\n",
    "        xs = np.arange(0, len(ys) * dt, dt)\n",
    "    if ys is None:\n",
    "        ys = xs\n",
    "        xs = range(len(ys))\n",
    "\n",
    "    lines = plt.plot(xs, ys, color=c, label=label, **kwargs)\n",
    "    if var is None:\n",
    "        return lines\n",
    "\n",
    "    var = np.asarray(var)\n",
    "    std = np.sqrt(var)\n",
    "    std_top = ys+std\n",
    "    std_btm = ys-std\n",
    "\n",
    "    plt.plot(xs, ys+std, linestyle=':', color='k', lw=2)\n",
    "    plt.plot(xs, ys-std, linestyle=':', color='k', lw=2)\n",
    "    plt.fill_between(xs, std_btm, std_top,\n",
    "                     facecolor='yellow', alpha=0.2)\n",
    "\n",
    "    return lines\n",
    "\n",
    "\n",
    "def set_labels(title=None, x=None, y=None):\n",
    "    \"\"\" helps make code in book shorter. Optional set title, xlabel and ylabel\n",
    "    \"\"\"\n",
    "    if x is not None:\n",
    "        plt.xlabel(x)\n",
    "    if y is not None:\n",
    "        plt.ylabel(y)\n",
    "    if title is not None:\n",
    "        plt.title(title)"
   ]
  },
  {
   "cell_type": "code",
   "execution_count": 669,
   "metadata": {
    "ExecuteTime": {
     "end_time": "2019-11-04T19:31:03.903655Z",
     "start_time": "2019-11-04T19:31:03.900736Z"
    }
   },
   "outputs": [],
   "source": [
    "pos = list(zip([1,2,3], [0.5,0.7,0.9]))"
   ]
  },
  {
   "cell_type": "code",
   "execution_count": 670,
   "metadata": {
    "ExecuteTime": {
     "end_time": "2019-11-04T19:31:04.264790Z",
     "start_time": "2019-11-04T19:31:04.259634Z"
    }
   },
   "outputs": [
    {
     "data": {
      "text/plain": [
       "array([[1. , 0.5],\n",
       "       [2. , 0.7],\n",
       "       [3. , 0.9]])"
      ]
     },
     "execution_count": 670,
     "metadata": {},
     "output_type": "execute_result"
    }
   ],
   "source": [
    "np.array(pos)"
   ]
  },
  {
   "cell_type": "code",
   "execution_count": 671,
   "metadata": {
    "ExecuteTime": {
     "end_time": "2019-11-04T19:31:04.500261Z",
     "start_time": "2019-11-04T19:31:04.494097Z"
    }
   },
   "outputs": [
    {
     "data": {
      "text/plain": [
       "array([[1. , 0.5],\n",
       "       [2. , 0.7],\n",
       "       [3. , 0.9]])"
      ]
     },
     "execution_count": 671,
     "metadata": {},
     "output_type": "execute_result"
    }
   ],
   "source": [
    "np.array([p for p in pos])"
   ]
  },
  {
   "cell_type": "code",
   "execution_count": null,
   "metadata": {},
   "outputs": [],
   "source": []
  },
  {
   "cell_type": "code",
   "execution_count": 672,
   "metadata": {
    "ExecuteTime": {
     "end_time": "2019-11-04T19:31:05.278711Z",
     "start_time": "2019-11-04T19:31:04.976943Z"
    }
   },
   "outputs": [
    {
     "data": {
      "image/png": "[encoded data removed]",
      "text/plain": [
       "<Figure size 432x288 with 1 Axes>"
      ]
     },
     "metadata": {
      "needs_background": "light"
     },
     "output_type": "display_data"
    }
   ],
   "source": [
    "import numpy as np\n",
    "import matplotlib.pyplot as plt\n",
    "\n",
    "def generate_data(steady_count, std):\n",
    "    t = ManeuveringTarget(x0=0, y0=0, v0=0.3, heading=0)\n",
    "    xs, ys = [], []\n",
    "\n",
    "    for i in range(30):\n",
    "        x, y = t.update()\n",
    "        xs.append(x)\n",
    "        ys.append(y)\n",
    "\n",
    "    t.set_commanded_heading(310, 25)\n",
    "    t.set_commanded_speed(1, 15)\n",
    "\n",
    "    for i in range(steady_count):\n",
    "        x, y = t.update()\n",
    "        xs.append(x)\n",
    "        ys.append(y)\n",
    "\n",
    "    ns = NoisySensor(std)\n",
    "    pos = np.array(list(zip(xs, ys)))\n",
    "    zs = np.array([ns.sense(p) for p in pos])\n",
    "    return pos, zs\n",
    "\n",
    "sensor_std = 2.\n",
    "track, zs = generate_data(50, sensor_std)\n",
    "plt.figure()\n",
    "plot_measurements(*zip(*zs), alpha=0.5)\n",
    "plt.plot(*zip(*track), color='b', label='track')\n",
    "plt.axis('equal')\n",
    "plt.legend(loc=4)\n",
    "set_labels(title='Track vs Measurements', x='X', y='Y')"
   ]
  },
  {
   "cell_type": "code",
   "execution_count": 673,
   "metadata": {
    "ExecuteTime": {
     "end_time": "2019-11-04T19:31:05.492523Z",
     "start_time": "2019-11-04T19:31:05.477236Z"
    }
   },
   "outputs": [],
   "source": [
    "tmp_F = np.array([[1, 0.1], [0, 1]])\n",
    "tmp_H = np.array([[1, 0]])\n",
    "cvfilter = make_cv_filter(X0=[0, 0], dt=0.1, dim_x=2, dim_z=1, F=tmp_F,\n",
    "                          H=tmp_H, var_R=np.sqrt(2), var_P=np.sqrt(3), var_Q=0.02)\n",
    "\n",
    "track, zs = generate_data(50, sensor_std)\n",
    "\n",
    "# run it\n",
    "# z_xs = zs[:, 0]\n",
    "z_xs = zs[:, 0]\n",
    "kxs, _, _, _ = cvfilter.batch_filter(z_xs)"
   ]
  },
  {
   "cell_type": "code",
   "execution_count": 651,
   "metadata": {
    "ExecuteTime": {
     "end_time": "2019-11-04T19:27:33.496200Z",
     "start_time": "2019-11-04T19:27:33.487513Z"
    }
   },
   "outputs": [
    {
     "data": {
      "text/plain": [
       "array([[-1.51189860e+00, -1.06034044e+00],\n",
       "       [ 4.45370600e+00,  1.33791553e+00],\n",
       "       [-3.16853129e+00,  2.48213817e+00],\n",
       "       [ 1.10863154e-02, -8.00882939e-01],\n",
       "       [ 3.98911250e+00,  4.66297185e+00],\n",
       "       [ 4.18348594e+00, -4.94963928e-01],\n",
       "       [ 1.46031482e+00,  4.08877205e+00],\n",
       "       [ 8.93473848e-01,  4.31367619e+00],\n",
       "       [ 4.59684975e-03,  1.27279700e+00],\n",
       "       [ 2.18736426e+00,  4.49745189e+00],\n",
       "       [-2.45882274e+00,  3.85148203e+00],\n",
       "       [-3.24532887e-01,  8.28612464e-01],\n",
       "       [-4.23944456e-01,  3.61129767e+00],\n",
       "       [ 4.29570142e+00,  4.07398794e+00],\n",
       "       [-1.91779519e-01,  6.73783326e+00],\n",
       "       [ 3.45545891e+00,  3.35369937e+00],\n",
       "       [ 4.11522028e+00,  1.02948830e+01],\n",
       "       [-1.02520368e+00,  2.56421718e+00],\n",
       "       [-9.76261983e-01,  7.20201721e+00],\n",
       "       [-4.19512570e-01,  6.73965989e+00],\n",
       "       [ 2.18835048e+00,  4.94132650e+00],\n",
       "       [-8.36571457e-01,  6.61567736e+00],\n",
       "       [-5.08848007e-01,  6.32150198e+00],\n",
       "       [-1.64025960e+00,  5.54216723e+00],\n",
       "       [ 3.11251570e+00,  7.62957837e+00],\n",
       "       [-3.68743752e+00,  8.61445719e+00],\n",
       "       [-3.28415683e-01,  5.26391362e+00],\n",
       "       [ 1.68926459e-01,  8.23310540e+00],\n",
       "       [-2.04808825e-01,  9.67487048e+00],\n",
       "       [ 3.16035731e-02,  9.74196137e+00],\n",
       "       [ 8.63300950e-01,  1.05299146e+01],\n",
       "       [-2.19727623e+00,  1.14634573e+01],\n",
       "       [-1.24896759e+00,  7.06125666e+00],\n",
       "       [ 6.15290267e-01,  1.11049812e+01],\n",
       "       [-6.57739877e-01,  1.23580658e+01],\n",
       "       [ 1.01619550e+00,  1.24491989e+01],\n",
       "       [ 7.62698879e-01,  7.72415795e+00],\n",
       "       [ 2.03811798e+00,  1.44870474e+01],\n",
       "       [ 3.31183795e+00,  1.03265950e+01],\n",
       "       [-1.34480201e+00,  1.16371020e+01],\n",
       "       [ 5.03008362e+00,  1.42101567e+01],\n",
       "       [ 1.54139358e+00,  1.68904120e+01],\n",
       "       [ 5.61478097e+00,  1.42552333e+01],\n",
       "       [ 3.89057090e+00,  1.60632760e+01],\n",
       "       [ 1.68595957e+00,  2.10859184e+01],\n",
       "       [ 2.91243317e+00,  2.23301815e+01],\n",
       "       [ 4.86986809e+00,  1.77157537e+01],\n",
       "       [ 5.70917838e+00,  1.70952039e+01],\n",
       "       [ 3.44803186e+00,  2.27620924e+01],\n",
       "       [ 4.24531593e+00,  1.90948087e+01],\n",
       "       [ 1.02614228e+01,  2.21039059e+01],\n",
       "       [ 8.22916918e+00,  2.30440295e+01],\n",
       "       [ 7.64708337e+00,  2.62788900e+01],\n",
       "       [ 9.15468069e+00,  2.53266091e+01],\n",
       "       [ 5.02729123e+00,  2.34234458e+01],\n",
       "       [ 1.05445624e+01,  2.50313655e+01],\n",
       "       [ 1.03123207e+01,  2.55290977e+01],\n",
       "       [ 1.18303384e+01,  2.94429989e+01],\n",
       "       [ 1.14694999e+01,  2.43397954e+01],\n",
       "       [ 9.34671203e+00,  2.92127317e+01],\n",
       "       [ 1.27532434e+01,  2.89044601e+01],\n",
       "       [ 1.80641863e+01,  2.89669817e+01],\n",
       "       [ 1.39342617e+01,  2.85685775e+01],\n",
       "       [ 1.40811244e+01,  3.13851314e+01],\n",
       "       [ 1.61566953e+01,  3.08323392e+01],\n",
       "       [ 1.74102182e+01,  3.50250754e+01],\n",
       "       [ 1.88309093e+01,  3.23386824e+01],\n",
       "       [ 1.86218623e+01,  3.45111129e+01],\n",
       "       [ 1.85142039e+01,  3.57905039e+01],\n",
       "       [ 2.05950347e+01,  3.41412260e+01],\n",
       "       [ 1.75318442e+01,  3.21297208e+01],\n",
       "       [ 2.21162931e+01,  3.38963565e+01],\n",
       "       [ 2.76158399e+01,  3.72423053e+01],\n",
       "       [ 2.42035905e+01,  3.35303485e+01],\n",
       "       [ 2.12072563e+01,  4.16763646e+01],\n",
       "       [ 2.90906055e+01,  3.94202543e+01],\n",
       "       [ 2.55826788e+01,  3.86046387e+01],\n",
       "       [ 2.67585489e+01,  3.96531408e+01],\n",
       "       [ 3.04632364e+01,  3.96607548e+01],\n",
       "       [ 2.94417074e+01,  4.10608307e+01]])"
      ]
     },
     "execution_count": 651,
     "metadata": {},
     "output_type": "execute_result"
    }
   ],
   "source": [
    "zs"
   ]
  },
  {
   "cell_type": "code",
   "execution_count": 268,
   "metadata": {
    "ExecuteTime": {
     "end_time": "2019-11-04T18:07:46.844940Z",
     "start_time": "2019-11-04T18:07:46.840360Z"
    }
   },
   "outputs": [
    {
     "data": {
      "text/plain": [
       "(80,)"
      ]
     },
     "execution_count": 268,
     "metadata": {},
     "output_type": "execute_result"
    }
   ],
   "source": [
    "z_xs.shape"
   ]
  },
  {
   "cell_type": "code",
   "execution_count": 269,
   "metadata": {
    "ExecuteTime": {
     "end_time": "2019-11-04T18:08:11.383744Z",
     "start_time": "2019-11-04T18:08:11.371511Z"
    }
   },
   "outputs": [
    {
     "data": {
      "text/plain": [
       "array([-2.1618124 ,  0.06125867,  2.50844616,  1.85486334, -0.33704714,\n",
       "       -1.17124823, -0.10959044,  0.32359963, -0.51735666, -1.76213698,\n",
       "       -0.14435278, -0.13759877, -1.33016007,  1.68339673,  1.41205981,\n",
       "       -2.67827925, -2.61640203,  0.39599183, -2.26160608,  0.11988057,\n",
       "       -0.38435378,  2.10274533,  1.36760084, -2.13163222, -2.09964164,\n",
       "        2.5129003 , -0.13906796, -2.08766972, -0.90371418,  1.84072408,\n",
       "       -2.3214703 ,  1.20083013, -2.74269239,  1.05379687, -0.26447152,\n",
       "        3.528613  , -0.75101745,  1.05901797, -0.14109882, -1.16308628,\n",
       "        3.75725727, -2.4795098 ,  0.53798149, -0.64656202,  5.15739125,\n",
       "        1.85712042,  3.93966717,  3.97329717, 10.32764662,  2.29483221,\n",
       "        7.49970239,  4.01002778,  9.1944478 , 10.50408267, 10.09007403,\n",
       "       12.01433386, 12.65443671, 12.7986411 , 13.18186283, 14.06193905,\n",
       "       12.92041272, 14.2066489 , 15.53860983, 13.87436238, 14.5255703 ,\n",
       "       17.25251754, 17.13997222, 17.31022875, 17.5391254 , 23.50573953,\n",
       "       20.71940216, 23.77774353, 22.4404863 , 25.58360232, 23.54711508,\n",
       "       25.45528672, 26.07363787, 25.96159273, 26.24933807, 27.64474743])"
      ]
     },
     "execution_count": 269,
     "metadata": {},
     "output_type": "execute_result"
    }
   ],
   "source": [
    "z_xs"
   ]
  },
  {
   "cell_type": "code",
   "execution_count": null,
   "metadata": {},
   "outputs": [],
   "source": []
  },
  {
   "cell_type": "code",
   "execution_count": 264,
   "metadata": {
    "ExecuteTime": {
     "end_time": "2019-11-04T18:07:04.070151Z",
     "start_time": "2019-11-04T18:07:03.763291Z"
    }
   },
   "outputs": [
    {
     "data": {
      "image/png": "[encoded data removed]",
      "text/plain": [
       "<Figure size 432x288 with 1 Axes>"
      ]
     },
     "metadata": {
      "needs_background": "light"
     },
     "output_type": "display_data"
    }
   ],
   "source": [
    "plot_track(track[:, 0], dt=dt)\n",
    "plot_filter(kxs[:, 0], dt=dt, label='KF')\n",
    "set_labels(title='Track vs KF', x='time (sec)', y='X');\n",
    "plt.legend(loc=4);"
   ]
  },
  {
   "cell_type": "code",
   "execution_count": null,
   "metadata": {},
   "outputs": [],
   "source": []
  }
 ],
 "metadata": {
  "kernelspec": {
   "display_name": "Python 3",
   "language": "python",
   "name": "python3"
  },
  "language_info": {
   "codemirror_mode": {
    "name": "ipython",
    "version": 3
   },
   "file_extension": ".py",
   "mimetype": "text/x-python",
   "name": "python",
   "nbconvert_exporter": "python",
   "pygments_lexer": "ipython3",
   "version": "3.7.3"
  }
 },
 "nbformat": 4,
 "nbformat_minor": 2
}
