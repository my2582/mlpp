{
 "cells": [
  {
   "cell_type": "markdown",
   "metadata": {},
   "source": [
    "# 1. Import packages"
   ]
  },
  {
   "cell_type": "code",
   "execution_count": 1,
   "metadata": {
    "ExecuteTime": {
     "end_time": "2019-10-27T16:14:48.423526Z",
     "start_time": "2019-10-27T16:14:47.446395Z"
    }
   },
   "outputs": [],
   "source": [
    "import os\n",
    "import numpy as np\n",
    "import pandas as pd\n",
    "import matplotlib.pyplot as plt"
   ]
  },
  {
   "cell_type": "markdown",
   "metadata": {},
   "source": [
    "# 2. Data loading"
   ]
  },
  {
   "cell_type": "markdown",
   "metadata": {},
   "source": [
    "## 2.1. Dataset description"
   ]
  },
  {
   "cell_type": "markdown",
   "metadata": {},
   "source": [
    "### A toy dataset\n",
    "- **Triangular** currency pairs: `gbpusd`, `usdjpy`, **`jpygbp`**\n",
    "  - $\\frac{USD}{GBP}\\times\\frac{JPY}{USD}\\times\\frac{GBP}{JPY}=1$. Therefore, the following holds assuming a frictionless market condition:\n",
    "  - $\\log{\\frac{USD}{GBP}}-\\log{\\frac{JPY}{USD}}-\\log{\\frac{GBP}{JPY}}=0.$\n",
    "- Period: One day. May 1st, 2019.\n",
    "- Frequency: 1 minute (=1440 data points per day per currency pair)"
   ]
  },
  {
   "cell_type": "code",
   "execution_count": 4,
   "metadata": {
    "ExecuteTime": {
     "end_time": "2019-10-27T16:15:08.764924Z",
     "start_time": "2019-10-27T16:15:08.644880Z"
    }
   },
   "outputs": [
    {
     "name": "stdout",
     "output_type": "stream",
     "text": [
      "Loading...\n",
      "gbpjpy_DAT_ASCII_GBPJPY_M1_201905.csv\n",
      "gbpusd_DAT_ASCII_GBPUSD_M1_201905.csv\n",
      "usdjpy_DAT_ASCII_USDJPY_M1_201905.csv\n",
      "Complted.\n"
     ]
    }
   ],
   "source": [
    "toy_path = '../dataset/'\n",
    "toy_folders = ['toyset']\n",
    "\n",
    "# csv files have no explicit column header, but column names come in this order.\n",
    "# 'timestamp',  'opening', 'high', 'low', 'close', 'volume'\n",
    "# As we are only interested in timestamp and close prices, we set `usecols` = [0,4], a list of indices\n",
    "col_names = ['timestamp',  'opening', 'high', 'low', 'close', 'volume']\n",
    "usecols = [0, 4]\n",
    "\n",
    "df = {}\n",
    "f = pd.DataFrame(columns=col_names)\n",
    "print(\"Loading...\")\n",
    "for folder in toy_folders:\n",
    "    files = os.listdir(toy_path+folder)\n",
    "    for file in files:\n",
    "        if file.endswith(\".csv\"):\n",
    "            print(file)\n",
    "            tmp = pd.read_csv(os.path.join(toy_path, folder, file),\n",
    "                              delimiter=';', header=0, names=col_names, usecols=usecols)\n",
    "            df[file[:6]] = tmp.copy()\n",
    "print(\"Complted.\")"
   ]
  },
  {
   "cell_type": "code",
   "execution_count": 5,
   "metadata": {
    "ExecuteTime": {
     "end_time": "2019-10-27T16:15:09.392225Z",
     "start_time": "2019-10-27T16:15:09.388091Z"
    }
   },
   "outputs": [
    {
     "data": {
      "text/plain": [
       "dict_keys(['gbpjpy', 'gbpusd', 'usdjpy'])"
      ]
     },
     "execution_count": 5,
     "metadata": {},
     "output_type": "execute_result"
    }
   ],
   "source": [
    "df.keys()"
   ]
  },
  {
   "cell_type": "markdown",
   "metadata": {},
   "source": [
    "#### Conversion: gbpjpy -> jpygbp\n",
    "- In the raw data set, only gbpjpy exists but we need `jpygbp`\n",
    "  - Very easy to convert: the reciprocal of gbpjpy is `jpygbp`"
   ]
  },
  {
   "cell_type": "code",
   "execution_count": 6,
   "metadata": {
    "ExecuteTime": {
     "end_time": "2019-10-27T16:15:10.492148Z",
     "start_time": "2019-10-27T16:15:10.460930Z"
    }
   },
   "outputs": [
    {
     "data": {
      "text/html": [
       "<div>\n",
       "<style scoped>\n",
       "    .dataframe tbody tr th:only-of-type {\n",
       "        vertical-align: middle;\n",
       "    }\n",
       "\n",
       "    .dataframe tbody tr th {\n",
       "        vertical-align: top;\n",
       "    }\n",
       "\n",
       "    .dataframe thead th {\n",
       "        text-align: right;\n",
       "    }\n",
       "</style>\n",
       "<table border=\"1\" class=\"dataframe\">\n",
       "  <thead>\n",
       "    <tr style=\"text-align: right;\">\n",
       "      <th></th>\n",
       "      <th>timestamp</th>\n",
       "      <th>close</th>\n",
       "    </tr>\n",
       "  </thead>\n",
       "  <tbody>\n",
       "    <tr>\n",
       "      <th>0</th>\n",
       "      <td>20190501 000100</td>\n",
       "      <td>145.451</td>\n",
       "    </tr>\n",
       "    <tr>\n",
       "      <th>1</th>\n",
       "      <td>20190501 000200</td>\n",
       "      <td>145.465</td>\n",
       "    </tr>\n",
       "    <tr>\n",
       "      <th>2</th>\n",
       "      <td>20190501 000300</td>\n",
       "      <td>145.459</td>\n",
       "    </tr>\n",
       "    <tr>\n",
       "      <th>3</th>\n",
       "      <td>20190501 000400</td>\n",
       "      <td>145.453</td>\n",
       "    </tr>\n",
       "    <tr>\n",
       "      <th>4</th>\n",
       "      <td>20190501 000500</td>\n",
       "      <td>145.450</td>\n",
       "    </tr>\n",
       "    <tr>\n",
       "      <th>...</th>\n",
       "      <td>...</td>\n",
       "      <td>...</td>\n",
       "    </tr>\n",
       "    <tr>\n",
       "      <th>31945</th>\n",
       "      <td>20190531 165400</td>\n",
       "      <td>136.769</td>\n",
       "    </tr>\n",
       "    <tr>\n",
       "      <th>31946</th>\n",
       "      <td>20190531 165500</td>\n",
       "      <td>136.765</td>\n",
       "    </tr>\n",
       "    <tr>\n",
       "      <th>31947</th>\n",
       "      <td>20190531 165600</td>\n",
       "      <td>136.772</td>\n",
       "    </tr>\n",
       "    <tr>\n",
       "      <th>31948</th>\n",
       "      <td>20190531 165700</td>\n",
       "      <td>136.776</td>\n",
       "    </tr>\n",
       "    <tr>\n",
       "      <th>31949</th>\n",
       "      <td>20190531 165800</td>\n",
       "      <td>136.765</td>\n",
       "    </tr>\n",
       "  </tbody>\n",
       "</table>\n",
       "<p>31950 rows × 2 columns</p>\n",
       "</div>"
      ],
      "text/plain": [
       "             timestamp    close\n",
       "0      20190501 000100  145.451\n",
       "1      20190501 000200  145.465\n",
       "2      20190501 000300  145.459\n",
       "3      20190501 000400  145.453\n",
       "4      20190501 000500  145.450\n",
       "...                ...      ...\n",
       "31945  20190531 165400  136.769\n",
       "31946  20190531 165500  136.765\n",
       "31947  20190531 165600  136.772\n",
       "31948  20190531 165700  136.776\n",
       "31949  20190531 165800  136.765\n",
       "\n",
       "[31950 rows x 2 columns]"
      ]
     },
     "execution_count": 6,
     "metadata": {},
     "output_type": "execute_result"
    }
   ],
   "source": [
    "df['jpygbp'] = df['gbpjpy'].copy()\n",
    "df['jpygbp'].close = df['jpygbp'].close.apply(lambda x: 1.0/x)\n",
    "df.pop('gbpjpy', None)"
   ]
  },
  {
   "cell_type": "code",
   "execution_count": 7,
   "metadata": {
    "ExecuteTime": {
     "end_time": "2019-10-27T16:15:10.964666Z",
     "start_time": "2019-10-27T16:15:10.960802Z"
    }
   },
   "outputs": [
    {
     "data": {
      "text/plain": [
       "dict_keys(['gbpusd', 'usdjpy', 'jpygbp'])"
      ]
     },
     "execution_count": 7,
     "metadata": {},
     "output_type": "execute_result"
    }
   ],
   "source": [
    "df.keys()"
   ]
  },
  {
   "cell_type": "code",
   "execution_count": null,
   "metadata": {},
   "outputs": [],
   "source": []
  }
 ],
 "metadata": {
  "kernelspec": {
   "display_name": "Python 3",
   "language": "python",
   "name": "python3"
  },
  "language_info": {
   "codemirror_mode": {
    "name": "ipython",
    "version": 3
   },
   "file_extension": ".py",
   "mimetype": "text/x-python",
   "name": "python",
   "nbconvert_exporter": "python",
   "pygments_lexer": "ipython3",
   "version": "3.7.3"
  }
 },
 "nbformat": 4,
 "nbformat_minor": 2
}
